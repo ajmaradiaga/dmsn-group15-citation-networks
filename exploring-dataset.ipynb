{
 "cells": [
  {
   "cell_type": "code",
   "execution_count": 1,
   "metadata": {},
   "outputs": [
    {
     "data": {
      "text/html": [
       "\n",
       "    <div class=\"bk-root\">\n",
       "        <a href=\"https://bokeh.pydata.org\" target=\"_blank\" class=\"bk-logo bk-logo-small bk-logo-notebook\"></a>\n",
       "        <span id=\"1001\">Loading BokehJS ...</span>\n",
       "    </div>"
      ]
     },
     "metadata": {},
     "output_type": "display_data"
    },
    {
     "data": {
      "application/javascript": [
       "\n",
       "(function(root) {\n",
       "  function now() {\n",
       "    return new Date();\n",
       "  }\n",
       "\n",
       "  var force = true;\n",
       "\n",
       "  if (typeof (root._bokeh_onload_callbacks) === \"undefined\" || force === true) {\n",
       "    root._bokeh_onload_callbacks = [];\n",
       "    root._bokeh_is_loading = undefined;\n",
       "  }\n",
       "\n",
       "  var JS_MIME_TYPE = 'application/javascript';\n",
       "  var HTML_MIME_TYPE = 'text/html';\n",
       "  var EXEC_MIME_TYPE = 'application/vnd.bokehjs_exec.v0+json';\n",
       "  var CLASS_NAME = 'output_bokeh rendered_html';\n",
       "\n",
       "  /**\n",
       "   * Render data to the DOM node\n",
       "   */\n",
       "  function render(props, node) {\n",
       "    var script = document.createElement(\"script\");\n",
       "    node.appendChild(script);\n",
       "  }\n",
       "\n",
       "  /**\n",
       "   * Handle when an output is cleared or removed\n",
       "   */\n",
       "  function handleClearOutput(event, handle) {\n",
       "    var cell = handle.cell;\n",
       "\n",
       "    var id = cell.output_area._bokeh_element_id;\n",
       "    var server_id = cell.output_area._bokeh_server_id;\n",
       "    // Clean up Bokeh references\n",
       "    if (id != null && id in Bokeh.index) {\n",
       "      Bokeh.index[id].model.document.clear();\n",
       "      delete Bokeh.index[id];\n",
       "    }\n",
       "\n",
       "    if (server_id !== undefined) {\n",
       "      // Clean up Bokeh references\n",
       "      var cmd = \"from bokeh.io.state import curstate; print(curstate().uuid_to_server['\" + server_id + \"'].get_sessions()[0].document.roots[0]._id)\";\n",
       "      cell.notebook.kernel.execute(cmd, {\n",
       "        iopub: {\n",
       "          output: function(msg) {\n",
       "            var id = msg.content.text.trim();\n",
       "            if (id in Bokeh.index) {\n",
       "              Bokeh.index[id].model.document.clear();\n",
       "              delete Bokeh.index[id];\n",
       "            }\n",
       "          }\n",
       "        }\n",
       "      });\n",
       "      // Destroy server and session\n",
       "      var cmd = \"import bokeh.io.notebook as ion; ion.destroy_server('\" + server_id + \"')\";\n",
       "      cell.notebook.kernel.execute(cmd);\n",
       "    }\n",
       "  }\n",
       "\n",
       "  /**\n",
       "   * Handle when a new output is added\n",
       "   */\n",
       "  function handleAddOutput(event, handle) {\n",
       "    var output_area = handle.output_area;\n",
       "    var output = handle.output;\n",
       "\n",
       "    // limit handleAddOutput to display_data with EXEC_MIME_TYPE content only\n",
       "    if ((output.output_type != \"display_data\") || (!output.data.hasOwnProperty(EXEC_MIME_TYPE))) {\n",
       "      return\n",
       "    }\n",
       "\n",
       "    var toinsert = output_area.element.find(\".\" + CLASS_NAME.split(' ')[0]);\n",
       "\n",
       "    if (output.metadata[EXEC_MIME_TYPE][\"id\"] !== undefined) {\n",
       "      toinsert[toinsert.length - 1].firstChild.textContent = output.data[JS_MIME_TYPE];\n",
       "      // store reference to embed id on output_area\n",
       "      output_area._bokeh_element_id = output.metadata[EXEC_MIME_TYPE][\"id\"];\n",
       "    }\n",
       "    if (output.metadata[EXEC_MIME_TYPE][\"server_id\"] !== undefined) {\n",
       "      var bk_div = document.createElement(\"div\");\n",
       "      bk_div.innerHTML = output.data[HTML_MIME_TYPE];\n",
       "      var script_attrs = bk_div.children[0].attributes;\n",
       "      for (var i = 0; i < script_attrs.length; i++) {\n",
       "        toinsert[toinsert.length - 1].firstChild.setAttribute(script_attrs[i].name, script_attrs[i].value);\n",
       "      }\n",
       "      // store reference to server id on output_area\n",
       "      output_area._bokeh_server_id = output.metadata[EXEC_MIME_TYPE][\"server_id\"];\n",
       "    }\n",
       "  }\n",
       "\n",
       "  function register_renderer(events, OutputArea) {\n",
       "\n",
       "    function append_mime(data, metadata, element) {\n",
       "      // create a DOM node to render to\n",
       "      var toinsert = this.create_output_subarea(\n",
       "        metadata,\n",
       "        CLASS_NAME,\n",
       "        EXEC_MIME_TYPE\n",
       "      );\n",
       "      this.keyboard_manager.register_events(toinsert);\n",
       "      // Render to node\n",
       "      var props = {data: data, metadata: metadata[EXEC_MIME_TYPE]};\n",
       "      render(props, toinsert[toinsert.length - 1]);\n",
       "      element.append(toinsert);\n",
       "      return toinsert\n",
       "    }\n",
       "\n",
       "    /* Handle when an output is cleared or removed */\n",
       "    events.on('clear_output.CodeCell', handleClearOutput);\n",
       "    events.on('delete.Cell', handleClearOutput);\n",
       "\n",
       "    /* Handle when a new output is added */\n",
       "    events.on('output_added.OutputArea', handleAddOutput);\n",
       "\n",
       "    /**\n",
       "     * Register the mime type and append_mime function with output_area\n",
       "     */\n",
       "    OutputArea.prototype.register_mime_type(EXEC_MIME_TYPE, append_mime, {\n",
       "      /* Is output safe? */\n",
       "      safe: true,\n",
       "      /* Index of renderer in `output_area.display_order` */\n",
       "      index: 0\n",
       "    });\n",
       "  }\n",
       "\n",
       "  // register the mime type if in Jupyter Notebook environment and previously unregistered\n",
       "  if (root.Jupyter !== undefined) {\n",
       "    var events = require('base/js/events');\n",
       "    var OutputArea = require('notebook/js/outputarea').OutputArea;\n",
       "\n",
       "    if (OutputArea.prototype.mime_types().indexOf(EXEC_MIME_TYPE) == -1) {\n",
       "      register_renderer(events, OutputArea);\n",
       "    }\n",
       "  }\n",
       "\n",
       "  \n",
       "  if (typeof (root._bokeh_timeout) === \"undefined\" || force === true) {\n",
       "    root._bokeh_timeout = Date.now() + 5000;\n",
       "    root._bokeh_failed_load = false;\n",
       "  }\n",
       "\n",
       "  var NB_LOAD_WARNING = {'data': {'text/html':\n",
       "     \"<div style='background-color: #fdd'>\\n\"+\n",
       "     \"<p>\\n\"+\n",
       "     \"BokehJS does not appear to have successfully loaded. If loading BokehJS from CDN, this \\n\"+\n",
       "     \"may be due to a slow or bad network connection. Possible fixes:\\n\"+\n",
       "     \"</p>\\n\"+\n",
       "     \"<ul>\\n\"+\n",
       "     \"<li>re-rerun `output_notebook()` to attempt to load from CDN again, or</li>\\n\"+\n",
       "     \"<li>use INLINE resources instead, as so:</li>\\n\"+\n",
       "     \"</ul>\\n\"+\n",
       "     \"<code>\\n\"+\n",
       "     \"from bokeh.resources import INLINE\\n\"+\n",
       "     \"output_notebook(resources=INLINE)\\n\"+\n",
       "     \"</code>\\n\"+\n",
       "     \"</div>\"}};\n",
       "\n",
       "  function display_loaded() {\n",
       "    var el = document.getElementById(\"1001\");\n",
       "    if (el != null) {\n",
       "      el.textContent = \"BokehJS is loading...\";\n",
       "    }\n",
       "    if (root.Bokeh !== undefined) {\n",
       "      if (el != null) {\n",
       "        el.textContent = \"BokehJS \" + root.Bokeh.version + \" successfully loaded.\";\n",
       "      }\n",
       "    } else if (Date.now() < root._bokeh_timeout) {\n",
       "      setTimeout(display_loaded, 100)\n",
       "    }\n",
       "  }\n",
       "\n",
       "\n",
       "  function run_callbacks() {\n",
       "    try {\n",
       "      root._bokeh_onload_callbacks.forEach(function(callback) { callback() });\n",
       "    }\n",
       "    finally {\n",
       "      delete root._bokeh_onload_callbacks\n",
       "    }\n",
       "    console.info(\"Bokeh: all callbacks have finished\");\n",
       "  }\n",
       "\n",
       "  function load_libs(js_urls, callback) {\n",
       "    root._bokeh_onload_callbacks.push(callback);\n",
       "    if (root._bokeh_is_loading > 0) {\n",
       "      console.log(\"Bokeh: BokehJS is being loaded, scheduling callback at\", now());\n",
       "      return null;\n",
       "    }\n",
       "    if (js_urls == null || js_urls.length === 0) {\n",
       "      run_callbacks();\n",
       "      return null;\n",
       "    }\n",
       "    console.log(\"Bokeh: BokehJS not loaded, scheduling load and callback at\", now());\n",
       "    root._bokeh_is_loading = js_urls.length;\n",
       "    for (var i = 0; i < js_urls.length; i++) {\n",
       "      var url = js_urls[i];\n",
       "      var s = document.createElement('script');\n",
       "      s.src = url;\n",
       "      s.async = false;\n",
       "      s.onreadystatechange = s.onload = function() {\n",
       "        root._bokeh_is_loading--;\n",
       "        if (root._bokeh_is_loading === 0) {\n",
       "          console.log(\"Bokeh: all BokehJS libraries loaded\");\n",
       "          run_callbacks()\n",
       "        }\n",
       "      };\n",
       "      s.onerror = function() {\n",
       "        console.warn(\"failed to load library \" + url);\n",
       "      };\n",
       "      console.log(\"Bokeh: injecting script tag for BokehJS library: \", url);\n",
       "      document.getElementsByTagName(\"head\")[0].appendChild(s);\n",
       "    }\n",
       "  };var element = document.getElementById(\"1001\");\n",
       "  if (element == null) {\n",
       "    console.log(\"Bokeh: ERROR: autoload.js configured with elementid '1001' but no matching script tag was found. \")\n",
       "    return false;\n",
       "  }\n",
       "\n",
       "  var js_urls = [\"https://cdn.pydata.org/bokeh/release/bokeh-1.0.4.min.js\", \"https://cdn.pydata.org/bokeh/release/bokeh-widgets-1.0.4.min.js\", \"https://cdn.pydata.org/bokeh/release/bokeh-tables-1.0.4.min.js\", \"https://cdn.pydata.org/bokeh/release/bokeh-gl-1.0.4.min.js\"];\n",
       "\n",
       "  var inline_js = [\n",
       "    function(Bokeh) {\n",
       "      Bokeh.set_log_level(\"info\");\n",
       "    },\n",
       "    \n",
       "    function(Bokeh) {\n",
       "      \n",
       "    },\n",
       "    function(Bokeh) {\n",
       "      console.log(\"Bokeh: injecting CSS: https://cdn.pydata.org/bokeh/release/bokeh-1.0.4.min.css\");\n",
       "      Bokeh.embed.inject_css(\"https://cdn.pydata.org/bokeh/release/bokeh-1.0.4.min.css\");\n",
       "      console.log(\"Bokeh: injecting CSS: https://cdn.pydata.org/bokeh/release/bokeh-widgets-1.0.4.min.css\");\n",
       "      Bokeh.embed.inject_css(\"https://cdn.pydata.org/bokeh/release/bokeh-widgets-1.0.4.min.css\");\n",
       "      console.log(\"Bokeh: injecting CSS: https://cdn.pydata.org/bokeh/release/bokeh-tables-1.0.4.min.css\");\n",
       "      Bokeh.embed.inject_css(\"https://cdn.pydata.org/bokeh/release/bokeh-tables-1.0.4.min.css\");\n",
       "    }\n",
       "  ];\n",
       "\n",
       "  function run_inline_js() {\n",
       "    \n",
       "    if ((root.Bokeh !== undefined) || (force === true)) {\n",
       "      for (var i = 0; i < inline_js.length; i++) {\n",
       "        inline_js[i].call(root, root.Bokeh);\n",
       "      }if (force === true) {\n",
       "        display_loaded();\n",
       "      }} else if (Date.now() < root._bokeh_timeout) {\n",
       "      setTimeout(run_inline_js, 100);\n",
       "    } else if (!root._bokeh_failed_load) {\n",
       "      console.log(\"Bokeh: BokehJS failed to load within specified timeout.\");\n",
       "      root._bokeh_failed_load = true;\n",
       "    } else if (force !== true) {\n",
       "      var cell = $(document.getElementById(\"1001\")).parents('.cell').data().cell;\n",
       "      cell.output_area.append_execute_result(NB_LOAD_WARNING)\n",
       "    }\n",
       "\n",
       "  }\n",
       "\n",
       "  if (root._bokeh_is_loading === 0) {\n",
       "    console.log(\"Bokeh: BokehJS loaded, going straight to plotting\");\n",
       "    run_inline_js();\n",
       "  } else {\n",
       "    load_libs(js_urls, function() {\n",
       "      console.log(\"Bokeh: BokehJS plotting callback run at\", now());\n",
       "      run_inline_js();\n",
       "    });\n",
       "  }\n",
       "}(window));"
      ],
      "application/vnd.bokehjs_load.v0+json": "\n(function(root) {\n  function now() {\n    return new Date();\n  }\n\n  var force = true;\n\n  if (typeof (root._bokeh_onload_callbacks) === \"undefined\" || force === true) {\n    root._bokeh_onload_callbacks = [];\n    root._bokeh_is_loading = undefined;\n  }\n\n  \n\n  \n  if (typeof (root._bokeh_timeout) === \"undefined\" || force === true) {\n    root._bokeh_timeout = Date.now() + 5000;\n    root._bokeh_failed_load = false;\n  }\n\n  var NB_LOAD_WARNING = {'data': {'text/html':\n     \"<div style='background-color: #fdd'>\\n\"+\n     \"<p>\\n\"+\n     \"BokehJS does not appear to have successfully loaded. If loading BokehJS from CDN, this \\n\"+\n     \"may be due to a slow or bad network connection. Possible fixes:\\n\"+\n     \"</p>\\n\"+\n     \"<ul>\\n\"+\n     \"<li>re-rerun `output_notebook()` to attempt to load from CDN again, or</li>\\n\"+\n     \"<li>use INLINE resources instead, as so:</li>\\n\"+\n     \"</ul>\\n\"+\n     \"<code>\\n\"+\n     \"from bokeh.resources import INLINE\\n\"+\n     \"output_notebook(resources=INLINE)\\n\"+\n     \"</code>\\n\"+\n     \"</div>\"}};\n\n  function display_loaded() {\n    var el = document.getElementById(\"1001\");\n    if (el != null) {\n      el.textContent = \"BokehJS is loading...\";\n    }\n    if (root.Bokeh !== undefined) {\n      if (el != null) {\n        el.textContent = \"BokehJS \" + root.Bokeh.version + \" successfully loaded.\";\n      }\n    } else if (Date.now() < root._bokeh_timeout) {\n      setTimeout(display_loaded, 100)\n    }\n  }\n\n\n  function run_callbacks() {\n    try {\n      root._bokeh_onload_callbacks.forEach(function(callback) { callback() });\n    }\n    finally {\n      delete root._bokeh_onload_callbacks\n    }\n    console.info(\"Bokeh: all callbacks have finished\");\n  }\n\n  function load_libs(js_urls, callback) {\n    root._bokeh_onload_callbacks.push(callback);\n    if (root._bokeh_is_loading > 0) {\n      console.log(\"Bokeh: BokehJS is being loaded, scheduling callback at\", now());\n      return null;\n    }\n    if (js_urls == null || js_urls.length === 0) {\n      run_callbacks();\n      return null;\n    }\n    console.log(\"Bokeh: BokehJS not loaded, scheduling load and callback at\", now());\n    root._bokeh_is_loading = js_urls.length;\n    for (var i = 0; i < js_urls.length; i++) {\n      var url = js_urls[i];\n      var s = document.createElement('script');\n      s.src = url;\n      s.async = false;\n      s.onreadystatechange = s.onload = function() {\n        root._bokeh_is_loading--;\n        if (root._bokeh_is_loading === 0) {\n          console.log(\"Bokeh: all BokehJS libraries loaded\");\n          run_callbacks()\n        }\n      };\n      s.onerror = function() {\n        console.warn(\"failed to load library \" + url);\n      };\n      console.log(\"Bokeh: injecting script tag for BokehJS library: \", url);\n      document.getElementsByTagName(\"head\")[0].appendChild(s);\n    }\n  };var element = document.getElementById(\"1001\");\n  if (element == null) {\n    console.log(\"Bokeh: ERROR: autoload.js configured with elementid '1001' but no matching script tag was found. \")\n    return false;\n  }\n\n  var js_urls = [\"https://cdn.pydata.org/bokeh/release/bokeh-1.0.4.min.js\", \"https://cdn.pydata.org/bokeh/release/bokeh-widgets-1.0.4.min.js\", \"https://cdn.pydata.org/bokeh/release/bokeh-tables-1.0.4.min.js\", \"https://cdn.pydata.org/bokeh/release/bokeh-gl-1.0.4.min.js\"];\n\n  var inline_js = [\n    function(Bokeh) {\n      Bokeh.set_log_level(\"info\");\n    },\n    \n    function(Bokeh) {\n      \n    },\n    function(Bokeh) {\n      console.log(\"Bokeh: injecting CSS: https://cdn.pydata.org/bokeh/release/bokeh-1.0.4.min.css\");\n      Bokeh.embed.inject_css(\"https://cdn.pydata.org/bokeh/release/bokeh-1.0.4.min.css\");\n      console.log(\"Bokeh: injecting CSS: https://cdn.pydata.org/bokeh/release/bokeh-widgets-1.0.4.min.css\");\n      Bokeh.embed.inject_css(\"https://cdn.pydata.org/bokeh/release/bokeh-widgets-1.0.4.min.css\");\n      console.log(\"Bokeh: injecting CSS: https://cdn.pydata.org/bokeh/release/bokeh-tables-1.0.4.min.css\");\n      Bokeh.embed.inject_css(\"https://cdn.pydata.org/bokeh/release/bokeh-tables-1.0.4.min.css\");\n    }\n  ];\n\n  function run_inline_js() {\n    \n    if ((root.Bokeh !== undefined) || (force === true)) {\n      for (var i = 0; i < inline_js.length; i++) {\n        inline_js[i].call(root, root.Bokeh);\n      }if (force === true) {\n        display_loaded();\n      }} else if (Date.now() < root._bokeh_timeout) {\n      setTimeout(run_inline_js, 100);\n    } else if (!root._bokeh_failed_load) {\n      console.log(\"Bokeh: BokehJS failed to load within specified timeout.\");\n      root._bokeh_failed_load = true;\n    } else if (force !== true) {\n      var cell = $(document.getElementById(\"1001\")).parents('.cell').data().cell;\n      cell.output_area.append_execute_result(NB_LOAD_WARNING)\n    }\n\n  }\n\n  if (root._bokeh_is_loading === 0) {\n    console.log(\"Bokeh: BokehJS loaded, going straight to plotting\");\n    run_inline_js();\n  } else {\n    load_libs(js_urls, function() {\n      console.log(\"Bokeh: BokehJS plotting callback run at\", now());\n      run_inline_js();\n    });\n  }\n}(window));"
     },
     "metadata": {},
     "output_type": "display_data"
    }
   ],
   "source": [
    "from datetime import datetime\n",
    "import os\n",
    "import re\n",
    "\n",
    "from bokeh.io import output_file, output_notebook\n",
    "from bokeh.models.widgets import DataTable, DateFormatter, TableColumn\n",
    "from bokeh.models import ColumnDataSource\n",
    "from bokeh.plotting import show\n",
    "from bokeh.plotting import figure\n",
    "import numpy as np\n",
    "import pandas as pd\n",
    "\n",
    "from helper import display_df_with_bokeh"
   ]
  },
  {
   "cell_type": "code",
   "execution_count": 2,
   "metadata": {},
   "outputs": [
    {
     "name": "stdout",
     "output_type": "stream",
     "text": [
      "FromNodeId,ToNodeId\r\n",
      "1001,9304045\r\n",
      "1001,9308122\r\n",
      "1001,9309097\r\n",
      "1001,9311042\r\n",
      "1001,9401139\r\n",
      "1001,9404151\r\n",
      "1001,9407087\r\n",
      "1001,9408099\r\n",
      "1001,9501030\r\n"
     ]
    }
   ],
   "source": [
    "!head -n 10 datasets/cit-HepTh-no-cycles.csv"
   ]
  },
  {
   "cell_type": "markdown",
   "metadata": {},
   "source": [
    "## Initialise variables"
   ]
  },
  {
   "cell_type": "code",
   "execution_count": 3,
   "metadata": {},
   "outputs": [],
   "source": [
    "DATASETS_FOLDER = \"datasets\"\n",
    "ABSTRACTS_FOLDER = \"abstracts\"\n",
    "\n",
    "ABSTRACTS_FOLDER_PATH = f\"{DATASETS_FOLDER}/{ABSTRACTS_FOLDER}/\""
   ]
  },
  {
   "cell_type": "markdown",
   "metadata": {},
   "source": [
    "## Process paper citations"
   ]
  },
  {
   "cell_type": "markdown",
   "metadata": {},
   "source": [
    "### Edges dataset\n",
    "\n",
    "\n",
    "**NOTE:** Here we use the clean dataset that was preprocessed in the *preprocessing-dataset.ipynb* notebook"
   ]
  },
  {
   "cell_type": "code",
   "execution_count": 4,
   "metadata": {},
   "outputs": [],
   "source": [
    "with open(f\"{DATASETS_FOLDER}/cit-HepTh-no-cycles.csv\", 'r') as f:\n",
    "    df = pd.read_csv(f)\n",
    "\n",
    "# Dropping duplicates\n",
    "df.drop_duplicates(inplace = True)\n",
    "    \n",
    "# Rename columns\n",
    "df.columns = ['FromNodeId', 'ToNodeId']\n",
    "\n",
    "df.FromNodeId = df.FromNodeId.map(str)\n",
    "df.ToNodeId = df.ToNodeId.map(str)\n",
    "\n",
    "\n",
    "tlds_csv = pd.read_csv(f\"{DATASETS_FOLDER}/tlds.csv\", header=None, index_col=0, squeeze=True).to_dict()\n",
    "tlds_info = tlds_csv[1]"
   ]
  },
  {
   "cell_type": "code",
   "execution_count": 5,
   "metadata": {},
   "outputs": [
    {
     "data": {
      "text/html": [
       "<div>\n",
       "<style scoped>\n",
       "    .dataframe tbody tr th:only-of-type {\n",
       "        vertical-align: middle;\n",
       "    }\n",
       "\n",
       "    .dataframe tbody tr th {\n",
       "        vertical-align: top;\n",
       "    }\n",
       "\n",
       "    .dataframe thead th {\n",
       "        text-align: right;\n",
       "    }\n",
       "</style>\n",
       "<table border=\"1\" class=\"dataframe\">\n",
       "  <thead>\n",
       "    <tr style=\"text-align: right;\">\n",
       "      <th></th>\n",
       "      <th>FromNodeId</th>\n",
       "      <th>ToNodeId</th>\n",
       "    </tr>\n",
       "  </thead>\n",
       "  <tbody>\n",
       "    <tr>\n",
       "      <th>0</th>\n",
       "      <td>1001</td>\n",
       "      <td>9304045</td>\n",
       "    </tr>\n",
       "    <tr>\n",
       "      <th>1</th>\n",
       "      <td>1001</td>\n",
       "      <td>9308122</td>\n",
       "    </tr>\n",
       "    <tr>\n",
       "      <th>2</th>\n",
       "      <td>1001</td>\n",
       "      <td>9309097</td>\n",
       "    </tr>\n",
       "    <tr>\n",
       "      <th>3</th>\n",
       "      <td>1001</td>\n",
       "      <td>9311042</td>\n",
       "    </tr>\n",
       "    <tr>\n",
       "      <th>4</th>\n",
       "      <td>1001</td>\n",
       "      <td>9401139</td>\n",
       "    </tr>\n",
       "  </tbody>\n",
       "</table>\n",
       "</div>"
      ],
      "text/plain": [
       "  FromNodeId ToNodeId\n",
       "0       1001  9304045\n",
       "1       1001  9308122\n",
       "2       1001  9309097\n",
       "3       1001  9311042\n",
       "4       1001  9401139"
      ]
     },
     "execution_count": 5,
     "metadata": {},
     "output_type": "execute_result"
    }
   ],
   "source": [
    "df.head()"
   ]
  },
  {
   "cell_type": "code",
   "execution_count": 6,
   "metadata": {},
   "outputs": [
    {
     "data": {
      "text/html": [
       "\n",
       "\n",
       "\n",
       "\n",
       "\n",
       "\n",
       "  <div class=\"bk-root\" id=\"5ab803bd-c12e-4d44-9967-215dd2458e9c\" data-root-id=\"1005\"></div>\n"
      ]
     },
     "metadata": {},
     "output_type": "display_data"
    },
    {
     "data": {
      "application/javascript": [
       "(function(root) {\n",
       "  function embed_document(root) {\n",
       "    \n",
       "  var docs_json = {\"3a96945a-e6e4-400d-ab9a-64fc7d8e196f\":{\"roots\":{\"references\":[{\"attributes\":{\"columns\":[{\"id\":\"1002\",\"type\":\"TableColumn\"},{\"id\":\"1003\",\"type\":\"TableColumn\"}],\"source\":{\"id\":\"1004\",\"type\":\"ColumnDataSource\"},\"view\":{\"id\":\"1006\",\"type\":\"CDSView\"}},\"id\":\"1005\",\"type\":\"DataTable\"},{\"attributes\":{},\"id\":\"1008\",\"type\":\"StringEditor\"},{\"attributes\":{\"editor\":{\"id\":\"1008\",\"type\":\"StringEditor\"},\"field\":\"FromNodeId\",\"formatter\":{\"id\":\"1007\",\"type\":\"StringFormatter\"},\"title\":\"Paper\"},\"id\":\"1002\",\"type\":\"TableColumn\"},{\"attributes\":{},\"id\":\"1009\",\"type\":\"StringFormatter\"},{\"attributes\":{\"editor\":{\"id\":\"1010\",\"type\":\"StringEditor\"},\"field\":\"ToNodeId\",\"formatter\":{\"id\":\"1009\",\"type\":\"StringFormatter\"},\"title\":\"Papers cited\"},\"id\":\"1003\",\"type\":\"TableColumn\"},{\"attributes\":{},\"id\":\"1010\",\"type\":\"StringEditor\"},{\"attributes\":{\"callback\":null,\"data\":{\"FromNodeId\":[\"9905111\",\"9710046\",\"110055\",\"210157\",\"101126\",\"7170\",\"204089\",\"201253\",\"9809039\",\"9802067\",\"109162\",\"207116\",\"9802051\",\"111208\",\"9712253\",\"209230\",\"210292\",\"11197\",\"209241\",\"106048\"],\"ToNodeId\":[562,359,301,288,274,262,245,226,216,214,211,211,206,200,200,197,180,180,177,175]},\"selected\":{\"id\":\"1012\",\"type\":\"Selection\"},\"selection_policy\":{\"id\":\"1011\",\"type\":\"UnionRenderers\"}},\"id\":\"1004\",\"type\":\"ColumnDataSource\"},{\"attributes\":{\"source\":{\"id\":\"1004\",\"type\":\"ColumnDataSource\"}},\"id\":\"1006\",\"type\":\"CDSView\"},{\"attributes\":{},\"id\":\"1011\",\"type\":\"UnionRenderers\"},{\"attributes\":{},\"id\":\"1007\",\"type\":\"StringFormatter\"},{\"attributes\":{},\"id\":\"1012\",\"type\":\"Selection\"}],\"root_ids\":[\"1005\"]},\"title\":\"Bokeh Application\",\"version\":\"1.0.4\"}};\n",
       "  var render_items = [{\"docid\":\"3a96945a-e6e4-400d-ab9a-64fc7d8e196f\",\"roots\":{\"1005\":\"5ab803bd-c12e-4d44-9967-215dd2458e9c\"}}];\n",
       "  root.Bokeh.embed.embed_items_notebook(docs_json, render_items);\n",
       "\n",
       "  }\n",
       "  if (root.Bokeh !== undefined) {\n",
       "    embed_document(root);\n",
       "  } else {\n",
       "    var attempts = 0;\n",
       "    var timer = setInterval(function(root) {\n",
       "      if (root.Bokeh !== undefined) {\n",
       "        embed_document(root);\n",
       "        clearInterval(timer);\n",
       "      }\n",
       "      attempts++;\n",
       "      if (attempts > 100) {\n",
       "        console.log(\"Bokeh: ERROR: Unable to run BokehJS code because BokehJS library is missing\");\n",
       "        clearInterval(timer);\n",
       "      }\n",
       "    }, 10, root)\n",
       "  }\n",
       "})(window);"
      ],
      "application/vnd.bokehjs_exec.v0+json": ""
     },
     "metadata": {
      "application/vnd.bokehjs_exec.v0+json": {
       "id": "1005"
      }
     },
     "output_type": "display_data"
    }
   ],
   "source": [
    "# Paper that cites most papers\n",
    "out_degree = df.groupby('FromNodeId').count().sort_values('ToNodeId', ascending = False)\n",
    "\n",
    "display_df_with_bokeh(out_degree, columns={\n",
    "    \"FromNodeId\": \"Paper\",\n",
    "    \"ToNodeId\": \"Papers cited\"\n",
    "})"
   ]
  },
  {
   "cell_type": "code",
   "execution_count": 7,
   "metadata": {},
   "outputs": [
    {
     "data": {
      "text/html": [
       "\n",
       "\n",
       "\n",
       "\n",
       "\n",
       "\n",
       "  <div class=\"bk-root\" id=\"3c7d71b4-f081-40b2-8807-25a913f42620\" data-root-id=\"1044\"></div>\n"
      ]
     },
     "metadata": {},
     "output_type": "display_data"
    },
    {
     "data": {
      "application/javascript": [
       "(function(root) {\n",
       "  function embed_document(root) {\n",
       "    \n",
       "  var docs_json = {\"34ee98fb-a82c-4571-b977-2b23f5c03a37\":{\"roots\":{\"references\":[{\"attributes\":{\"below\":[{\"id\":\"1054\",\"type\":\"LinearAxis\"}],\"left\":[{\"id\":\"1059\",\"type\":\"LinearAxis\"}],\"plot_height\":500,\"plot_width\":900,\"renderers\":[{\"id\":\"1054\",\"type\":\"LinearAxis\"},{\"id\":\"1058\",\"type\":\"Grid\"},{\"id\":\"1059\",\"type\":\"LinearAxis\"},{\"id\":\"1063\",\"type\":\"Grid\"},{\"id\":\"1072\",\"type\":\"BoxAnnotation\"},{\"id\":\"1082\",\"type\":\"GlyphRenderer\"}],\"title\":{\"id\":\"1043\",\"type\":\"Title\"},\"toolbar\":{\"id\":\"1070\",\"type\":\"Toolbar\"},\"x_range\":{\"id\":\"1046\",\"type\":\"DataRange1d\"},\"x_scale\":{\"id\":\"1050\",\"type\":\"LinearScale\"},\"y_range\":{\"id\":\"1048\",\"type\":\"DataRange1d\"},\"y_scale\":{\"id\":\"1052\",\"type\":\"LinearScale\"}},\"id\":\"1044\",\"subtype\":\"Figure\",\"type\":\"Plot\"},{\"attributes\":{},\"id\":\"1055\",\"type\":\"BasicTicker\"},{\"attributes\":{},\"id\":\"1060\",\"type\":\"BasicTicker\"},{\"attributes\":{\"axis_label\":\"Papers cited\",\"formatter\":{\"id\":\"1092\",\"type\":\"BasicTickFormatter\"},\"plot\":{\"id\":\"1044\",\"subtype\":\"Figure\",\"type\":\"Plot\"},\"ticker\":{\"id\":\"1055\",\"type\":\"BasicTicker\"}},\"id\":\"1054\",\"type\":\"LinearAxis\"},{\"attributes\":{\"data_source\":{\"id\":\"1079\",\"type\":\"ColumnDataSource\"},\"glyph\":{\"id\":\"1080\",\"type\":\"Quad\"},\"hover_glyph\":null,\"muted_glyph\":null,\"nonselection_glyph\":{\"id\":\"1081\",\"type\":\"Quad\"},\"selection_glyph\":null,\"view\":{\"id\":\"1083\",\"type\":\"CDSView\"}},\"id\":\"1082\",\"type\":\"GlyphRenderer\"},{\"attributes\":{\"bottom\":{\"value\":0},\"fill_color\":{\"value\":\"navy\"},\"left\":{\"field\":\"left\"},\"line_color\":{\"value\":\"white\"},\"right\":{\"field\":\"right\"},\"top\":{\"field\":\"top\"}},\"id\":\"1080\",\"type\":\"Quad\"},{\"attributes\":{\"axis_label\":\"Papers\",\"formatter\":{\"id\":\"1094\",\"type\":\"BasicTickFormatter\"},\"plot\":{\"id\":\"1044\",\"subtype\":\"Figure\",\"type\":\"Plot\"},\"ticker\":{\"id\":\"1060\",\"type\":\"BasicTicker\"}},\"id\":\"1059\",\"type\":\"LinearAxis\"},{\"attributes\":{\"plot\":null,\"text\":\"Citations histogram (out_degree)\"},\"id\":\"1043\",\"type\":\"Title\"},{\"attributes\":{\"bottom\":{\"value\":0},\"fill_alpha\":{\"value\":0.1},\"fill_color\":{\"value\":\"#1f77b4\"},\"left\":{\"field\":\"left\"},\"line_alpha\":{\"value\":0.1},\"line_color\":{\"value\":\"#1f77b4\"},\"right\":{\"field\":\"right\"},\"top\":{\"field\":\"top\"}},\"id\":\"1081\",\"type\":\"Quad\"},{\"attributes\":{},\"id\":\"1050\",\"type\":\"LinearScale\"},{\"attributes\":{\"callback\":null},\"id\":\"1048\",\"type\":\"DataRange1d\"},{\"attributes\":{\"callback\":null,\"data\":{\"left\":{\"__ndarray__\":\"AAAAAAAAAAAAAAAAAAAYQAAAAAAAAChAAAAAAAAAMkAAAAAAAAA4QAAAAAAAAD5AAAAAAAAAQkAAAAAAAABFQAAAAAAAAEhAAAAAAAAAS0AAAAAAAABOQAAAAAAAgFBAAAAAAAAAUkAAAAAAAIBTQAAAAAAAAFVAAAAAAACAVkAAAAAAAABYQAAAAAAAgFlAAAAAAAAAW0AAAAAAAIBcQAAAAAAAAF5AAAAAAACAX0AAAAAAAIBgQAAAAAAAQGFAAAAAAAAAYkAAAAAAAMBiQAAAAAAAgGNAAAAAAABAZEAAAAAAAABlQAAAAAAAwGVAAAAAAACAZkAAAAAAAEBnQAAAAAAAAGhAAAAAAADAaEAAAAAAAIBpQAAAAAAAQGpAAAAAAAAAa0AAAAAAAMBrQAAAAAAAgGxAAAAAAABAbUAAAAAAAABuQAAAAAAAwG5AAAAAAACAb0AAAAAAACBwQAAAAAAAgHBAAAAAAADgcEAAAAAAAEBxQAAAAAAAoHFAAAAAAAAAckAAAAAAAGByQAAAAAAAwHJAAAAAAAAgc0AAAAAAAIBzQAAAAAAA4HNAAAAAAABAdEAAAAAAAKB0QAAAAAAAAHVAAAAAAABgdUAAAAAAAMB1QAAAAAAAIHZAAAAAAACAdkAAAAAAAOB2QAAAAAAAQHdAAAAAAACgd0AAAAAAAAB4QAAAAAAAYHhAAAAAAADAeEAAAAAAACB5QAAAAAAAgHlAAAAAAADgeUAAAAAAAEB6QAAAAAAAoHpAAAAAAAAAe0AAAAAAAGB7QAAAAAAAwHtAAAAAAAAgfEAAAAAAAIB8QAAAAAAA4HxAAAAAAABAfUAAAAAAAKB9QAAAAAAAAH5AAAAAAABgfkAAAAAAAMB+QAAAAAAAIH9AAAAAAACAf0AAAAAAAOB/QAAAAAAAIIBAAAAAAABQgEAAAAAAAICAQAAAAAAAsIBAAAAAAADggEAAAAAAABCBQAAAAAAAQIFAAAAAAABwgUAAAAAAAKCBQAAAAAAA0IFAAAAAAAAAgkAAAAAAADCCQAAAAAAAYIJAAAAAAACQgkA=\",\"dtype\":\"float64\",\"shape\":[100]},\"right\":{\"__ndarray__\":\"AAAAAAAAGEAAAAAAAAAoQAAAAAAAADJAAAAAAAAAOEAAAAAAAAA+QAAAAAAAAEJAAAAAAAAARUAAAAAAAABIQAAAAAAAAEtAAAAAAAAATkAAAAAAAIBQQAAAAAAAAFJAAAAAAACAU0AAAAAAAABVQAAAAAAAgFZAAAAAAAAAWEAAAAAAAIBZQAAAAAAAAFtAAAAAAACAXEAAAAAAAABeQAAAAAAAgF9AAAAAAACAYEAAAAAAAEBhQAAAAAAAAGJAAAAAAADAYkAAAAAAAIBjQAAAAAAAQGRAAAAAAAAAZUAAAAAAAMBlQAAAAAAAgGZAAAAAAABAZ0AAAAAAAABoQAAAAAAAwGhAAAAAAACAaUAAAAAAAEBqQAAAAAAAAGtAAAAAAADAa0AAAAAAAIBsQAAAAAAAQG1AAAAAAAAAbkAAAAAAAMBuQAAAAAAAgG9AAAAAAAAgcEAAAAAAAIBwQAAAAAAA4HBAAAAAAABAcUAAAAAAAKBxQAAAAAAAAHJAAAAAAABgckAAAAAAAMByQAAAAAAAIHNAAAAAAACAc0AAAAAAAOBzQAAAAAAAQHRAAAAAAACgdEAAAAAAAAB1QAAAAAAAYHVAAAAAAADAdUAAAAAAACB2QAAAAAAAgHZAAAAAAADgdkAAAAAAAEB3QAAAAAAAoHdAAAAAAAAAeEAAAAAAAGB4QAAAAAAAwHhAAAAAAAAgeUAAAAAAAIB5QAAAAAAA4HlAAAAAAABAekAAAAAAAKB6QAAAAAAAAHtAAAAAAABge0AAAAAAAMB7QAAAAAAAIHxAAAAAAACAfEAAAAAAAOB8QAAAAAAAQH1AAAAAAACgfUAAAAAAAAB+QAAAAAAAYH5AAAAAAADAfkAAAAAAACB/QAAAAAAAgH9AAAAAAADgf0AAAAAAACCAQAAAAAAAUIBAAAAAAACAgEAAAAAAALCAQAAAAAAA4IBAAAAAAAAQgUAAAAAAAECBQAAAAAAAcIFAAAAAAACggUAAAAAAANCBQAAAAAAAAIJAAAAAAAAwgkAAAAAAAGCCQAAAAAAAkIJAAAAAAADAgkA=\",\"dtype\":\"float64\",\"shape\":[100]},\"top\":[8717,5625,3486,2461,1652,1102,705,416,265,186,100,78,44,31,21,15,13,12,5,1,10,2,5,3,2,4,5,2,1,2,2,0,1,2,1,3,1,1,0,0,1,0,0,1,0,1,0,0,1,0,1,0,0,0,0,0,0,0,0,1,0,0,0,0,0,0,0,0,0,0,0,0,0,0,0,0,0,0,0,0,0,0,0,0,0,0,0,0,0,0,0,0,0,1,0,0,0,0,0,0]},\"selected\":{\"id\":\"1097\",\"type\":\"Selection\"},\"selection_policy\":{\"id\":\"1096\",\"type\":\"UnionRenderers\"}},\"id\":\"1079\",\"type\":\"ColumnDataSource\"},{\"attributes\":{},\"id\":\"1064\",\"type\":\"PanTool\"},{\"attributes\":{},\"id\":\"1052\",\"type\":\"LinearScale\"},{\"attributes\":{},\"id\":\"1065\",\"type\":\"WheelZoomTool\"},{\"attributes\":{\"overlay\":{\"id\":\"1072\",\"type\":\"BoxAnnotation\"}},\"id\":\"1066\",\"type\":\"BoxZoomTool\"},{\"attributes\":{},\"id\":\"1067\",\"type\":\"SaveTool\"},{\"attributes\":{},\"id\":\"1097\",\"type\":\"Selection\"},{\"attributes\":{},\"id\":\"1068\",\"type\":\"ResetTool\"},{\"attributes\":{},\"id\":\"1096\",\"type\":\"UnionRenderers\"},{\"attributes\":{\"plot\":{\"id\":\"1044\",\"subtype\":\"Figure\",\"type\":\"Plot\"},\"ticker\":{\"id\":\"1055\",\"type\":\"BasicTicker\"}},\"id\":\"1058\",\"type\":\"Grid\"},{\"attributes\":{},\"id\":\"1069\",\"type\":\"HelpTool\"},{\"attributes\":{},\"id\":\"1092\",\"type\":\"BasicTickFormatter\"},{\"attributes\":{\"bottom_units\":\"screen\",\"fill_alpha\":{\"value\":0.5},\"fill_color\":{\"value\":\"lightgrey\"},\"left_units\":\"screen\",\"level\":\"overlay\",\"line_alpha\":{\"value\":1.0},\"line_color\":{\"value\":\"black\"},\"line_dash\":[4,4],\"line_width\":{\"value\":2},\"plot\":null,\"render_mode\":\"css\",\"right_units\":\"screen\",\"top_units\":\"screen\"},\"id\":\"1072\",\"type\":\"BoxAnnotation\"},{\"attributes\":{\"callback\":null},\"id\":\"1046\",\"type\":\"DataRange1d\"},{\"attributes\":{\"dimension\":1,\"plot\":{\"id\":\"1044\",\"subtype\":\"Figure\",\"type\":\"Plot\"},\"ticker\":{\"id\":\"1060\",\"type\":\"BasicTicker\"}},\"id\":\"1063\",\"type\":\"Grid\"},{\"attributes\":{\"source\":{\"id\":\"1079\",\"type\":\"ColumnDataSource\"}},\"id\":\"1083\",\"type\":\"CDSView\"},{\"attributes\":{},\"id\":\"1094\",\"type\":\"BasicTickFormatter\"},{\"attributes\":{\"active_drag\":\"auto\",\"active_inspect\":\"auto\",\"active_multi\":null,\"active_scroll\":\"auto\",\"active_tap\":\"auto\",\"tools\":[{\"id\":\"1064\",\"type\":\"PanTool\"},{\"id\":\"1065\",\"type\":\"WheelZoomTool\"},{\"id\":\"1066\",\"type\":\"BoxZoomTool\"},{\"id\":\"1067\",\"type\":\"SaveTool\"},{\"id\":\"1068\",\"type\":\"ResetTool\"},{\"id\":\"1069\",\"type\":\"HelpTool\"}]},\"id\":\"1070\",\"type\":\"Toolbar\"}],\"root_ids\":[\"1044\"]},\"title\":\"Bokeh Application\",\"version\":\"1.0.4\"}};\n",
       "  var render_items = [{\"docid\":\"34ee98fb-a82c-4571-b977-2b23f5c03a37\",\"roots\":{\"1044\":\"3c7d71b4-f081-40b2-8807-25a913f42620\"}}];\n",
       "  root.Bokeh.embed.embed_items_notebook(docs_json, render_items);\n",
       "\n",
       "  }\n",
       "  if (root.Bokeh !== undefined) {\n",
       "    embed_document(root);\n",
       "  } else {\n",
       "    var attempts = 0;\n",
       "    var timer = setInterval(function(root) {\n",
       "      if (root.Bokeh !== undefined) {\n",
       "        embed_document(root);\n",
       "        clearInterval(timer);\n",
       "      }\n",
       "      attempts++;\n",
       "      if (attempts > 100) {\n",
       "        console.log(\"Bokeh: ERROR: Unable to run BokehJS code because BokehJS library is missing\");\n",
       "        clearInterval(timer);\n",
       "      }\n",
       "    }, 10, root)\n",
       "  }\n",
       "})(window);"
      ],
      "application/vnd.bokehjs_exec.v0+json": ""
     },
     "metadata": {
      "application/vnd.bokehjs_exec.v0+json": {
       "id": "1044"
      }
     },
     "output_type": "display_data"
    }
   ],
   "source": [
    "hist, edges = np.histogram(out_degree['ToNodeId'], bins=100, range = [0, 600])\n",
    "\n",
    "# Create the blank plot\n",
    "p = figure(plot_height = 500, plot_width = 900, \n",
    "           title = 'Citations histogram (out_degree)',\n",
    "          x_axis_label = 'Papers cited', \n",
    "           y_axis_label = 'Papers')\n",
    "\n",
    "# Add a quad glyph\n",
    "p.quad(bottom=0, top=hist, \n",
    "       left=edges[:-1], right=edges[1:],\n",
    "       fill_color= 'navy', line_color='white')\n",
    "\n",
    "# Show the plot\n",
    "show(p)"
   ]
  },
  {
   "cell_type": "code",
   "execution_count": 8,
   "metadata": {},
   "outputs": [
    {
     "data": {
      "text/html": [
       "\n",
       "\n",
       "\n",
       "\n",
       "\n",
       "\n",
       "  <div class=\"bk-root\" id=\"974ea1b2-1e53-4798-81d6-6a9a8c34d0db\" data-root-id=\"1149\"></div>\n"
      ]
     },
     "metadata": {},
     "output_type": "display_data"
    },
    {
     "data": {
      "application/javascript": [
       "(function(root) {\n",
       "  function embed_document(root) {\n",
       "    \n",
       "  var docs_json = {\"22b3d145-e71d-46f1-9c23-61caf3221e06\":{\"roots\":{\"references\":[{\"attributes\":{\"columns\":[{\"id\":\"1146\",\"type\":\"TableColumn\"},{\"id\":\"1147\",\"type\":\"TableColumn\"}],\"source\":{\"id\":\"1148\",\"type\":\"ColumnDataSource\"},\"view\":{\"id\":\"1150\",\"type\":\"CDSView\"}},\"id\":\"1149\",\"type\":\"DataTable\"},{\"attributes\":{},\"id\":\"1167\",\"type\":\"StringFormatter\"},{\"attributes\":{\"editor\":{\"id\":\"1168\",\"type\":\"StringEditor\"},\"field\":\"FromNodeId\",\"formatter\":{\"id\":\"1167\",\"type\":\"StringFormatter\"},\"title\":\"Paper citations\"},\"id\":\"1147\",\"type\":\"TableColumn\"},{\"attributes\":{\"editor\":{\"id\":\"1166\",\"type\":\"StringEditor\"},\"field\":\"ToNodeId\",\"formatter\":{\"id\":\"1165\",\"type\":\"StringFormatter\"},\"title\":\"Paper\"},\"id\":\"1146\",\"type\":\"TableColumn\"},{\"attributes\":{},\"id\":\"1166\",\"type\":\"StringEditor\"},{\"attributes\":{},\"id\":\"1170\",\"type\":\"Selection\"},{\"attributes\":{},\"id\":\"1165\",\"type\":\"StringFormatter\"},{\"attributes\":{\"source\":{\"id\":\"1148\",\"type\":\"ColumnDataSource\"}},\"id\":\"1150\",\"type\":\"CDSView\"},{\"attributes\":{},\"id\":\"1169\",\"type\":\"UnionRenderers\"},{\"attributes\":{\"callback\":null,\"data\":{\"FromNodeId\":[2414,1775,1641,1299,1199,1155,1142,1114,1031,1006,806,788,788,775,748,701,651,520,494,474],\"ToNodeId\":[\"9711200\",\"9802150\",\"9802109\",\"9407087\",\"9610043\",\"9510017\",\"9908142\",\"9503124\",\"9906064\",\"9408099\",\"9905111\",\"9711162\",\"9510209\",\"9510135\",\"9410167\",\"9611050\",\"9601029\",\"9602022\",\"9603142\",\"9803131\"]},\"selected\":{\"id\":\"1170\",\"type\":\"Selection\"},\"selection_policy\":{\"id\":\"1169\",\"type\":\"UnionRenderers\"}},\"id\":\"1148\",\"type\":\"ColumnDataSource\"},{\"attributes\":{},\"id\":\"1168\",\"type\":\"StringEditor\"}],\"root_ids\":[\"1149\"]},\"title\":\"Bokeh Application\",\"version\":\"1.0.4\"}};\n",
       "  var render_items = [{\"docid\":\"22b3d145-e71d-46f1-9c23-61caf3221e06\",\"roots\":{\"1149\":\"974ea1b2-1e53-4798-81d6-6a9a8c34d0db\"}}];\n",
       "  root.Bokeh.embed.embed_items_notebook(docs_json, render_items);\n",
       "\n",
       "  }\n",
       "  if (root.Bokeh !== undefined) {\n",
       "    embed_document(root);\n",
       "  } else {\n",
       "    var attempts = 0;\n",
       "    var timer = setInterval(function(root) {\n",
       "      if (root.Bokeh !== undefined) {\n",
       "        embed_document(root);\n",
       "        clearInterval(timer);\n",
       "      }\n",
       "      attempts++;\n",
       "      if (attempts > 100) {\n",
       "        console.log(\"Bokeh: ERROR: Unable to run BokehJS code because BokehJS library is missing\");\n",
       "        clearInterval(timer);\n",
       "      }\n",
       "    }, 10, root)\n",
       "  }\n",
       "})(window);"
      ],
      "application/vnd.bokehjs_exec.v0+json": ""
     },
     "metadata": {
      "application/vnd.bokehjs_exec.v0+json": {
       "id": "1149"
      }
     },
     "output_type": "display_data"
    }
   ],
   "source": [
    "# Paper cited the most -> Most influential\n",
    "in_degree = df.groupby('ToNodeId').count().sort_values('FromNodeId', ascending = False)\n",
    "\n",
    "display_df_with_bokeh(in_degree, columns={\n",
    "    \"ToNodeId\": \"Paper\",\n",
    "    \"FromNodeId\": \"Paper citations\"\n",
    "})"
   ]
  },
  {
   "cell_type": "code",
   "execution_count": 9,
   "metadata": {},
   "outputs": [
    {
     "data": {
      "text/html": [
       "\n",
       "\n",
       "\n",
       "\n",
       "\n",
       "\n",
       "  <div class=\"bk-root\" id=\"a1c85788-bf42-4197-ad9f-905c5cf8ef7f\" data-root-id=\"1202\"></div>\n"
      ]
     },
     "metadata": {},
     "output_type": "display_data"
    },
    {
     "data": {
      "application/javascript": [
       "(function(root) {\n",
       "  function embed_document(root) {\n",
       "    \n",
       "  var docs_json = {\"eed304da-dc2b-4c8c-9b1c-d4f249fc7b48\":{\"roots\":{\"references\":[{\"attributes\":{\"below\":[{\"id\":\"1212\",\"type\":\"LinearAxis\"}],\"left\":[{\"id\":\"1217\",\"type\":\"LinearAxis\"}],\"plot_height\":500,\"plot_width\":900,\"renderers\":[{\"id\":\"1212\",\"type\":\"LinearAxis\"},{\"id\":\"1216\",\"type\":\"Grid\"},{\"id\":\"1217\",\"type\":\"LinearAxis\"},{\"id\":\"1221\",\"type\":\"Grid\"},{\"id\":\"1230\",\"type\":\"BoxAnnotation\"},{\"id\":\"1240\",\"type\":\"GlyphRenderer\"}],\"title\":{\"id\":\"1201\",\"type\":\"Title\"},\"toolbar\":{\"id\":\"1228\",\"type\":\"Toolbar\"},\"x_range\":{\"id\":\"1204\",\"type\":\"DataRange1d\"},\"x_scale\":{\"id\":\"1208\",\"type\":\"LinearScale\"},\"y_range\":{\"id\":\"1206\",\"type\":\"DataRange1d\"},\"y_scale\":{\"id\":\"1210\",\"type\":\"LinearScale\"}},\"id\":\"1202\",\"subtype\":\"Figure\",\"type\":\"Plot\"},{\"attributes\":{},\"id\":\"1269\",\"type\":\"Selection\"},{\"attributes\":{\"plot\":{\"id\":\"1202\",\"subtype\":\"Figure\",\"type\":\"Plot\"},\"ticker\":{\"id\":\"1213\",\"type\":\"BasicTicker\"}},\"id\":\"1216\",\"type\":\"Grid\"},{\"attributes\":{},\"id\":\"1213\",\"type\":\"BasicTicker\"},{\"attributes\":{\"axis_label\":\"Papers\",\"formatter\":{\"id\":\"1266\",\"type\":\"BasicTickFormatter\"},\"plot\":{\"id\":\"1202\",\"subtype\":\"Figure\",\"type\":\"Plot\"},\"ticker\":{\"id\":\"1218\",\"type\":\"BasicTicker\"}},\"id\":\"1217\",\"type\":\"LinearAxis\"},{\"attributes\":{},\"id\":\"1218\",\"type\":\"BasicTicker\"},{\"attributes\":{\"dimension\":1,\"plot\":{\"id\":\"1202\",\"subtype\":\"Figure\",\"type\":\"Plot\"},\"ticker\":{\"id\":\"1218\",\"type\":\"BasicTicker\"}},\"id\":\"1221\",\"type\":\"Grid\"},{\"attributes\":{},\"id\":\"1208\",\"type\":\"LinearScale\"},{\"attributes\":{\"axis_label\":\"Paper citations\",\"formatter\":{\"id\":\"1264\",\"type\":\"BasicTickFormatter\"},\"plot\":{\"id\":\"1202\",\"subtype\":\"Figure\",\"type\":\"Plot\"},\"ticker\":{\"id\":\"1213\",\"type\":\"BasicTicker\"}},\"id\":\"1212\",\"type\":\"LinearAxis\"},{\"attributes\":{\"bottom\":{\"value\":0},\"fill_alpha\":{\"value\":0.1},\"fill_color\":{\"value\":\"#1f77b4\"},\"left\":{\"field\":\"left\"},\"line_alpha\":{\"value\":0.1},\"line_color\":{\"value\":\"#1f77b4\"},\"right\":{\"field\":\"right\"},\"top\":{\"field\":\"top\"}},\"id\":\"1239\",\"type\":\"Quad\"},{\"attributes\":{\"bottom\":{\"value\":0},\"fill_color\":{\"value\":\"navy\"},\"left\":{\"field\":\"left\"},\"line_color\":{\"value\":\"white\"},\"right\":{\"field\":\"right\"},\"top\":{\"field\":\"top\"}},\"id\":\"1238\",\"type\":\"Quad\"},{\"attributes\":{\"active_drag\":\"auto\",\"active_inspect\":\"auto\",\"active_multi\":null,\"active_scroll\":\"auto\",\"active_tap\":\"auto\",\"tools\":[{\"id\":\"1222\",\"type\":\"PanTool\"},{\"id\":\"1223\",\"type\":\"WheelZoomTool\"},{\"id\":\"1224\",\"type\":\"BoxZoomTool\"},{\"id\":\"1225\",\"type\":\"SaveTool\"},{\"id\":\"1226\",\"type\":\"ResetTool\"},{\"id\":\"1227\",\"type\":\"HelpTool\"}]},\"id\":\"1228\",\"type\":\"Toolbar\"},{\"attributes\":{},\"id\":\"1222\",\"type\":\"PanTool\"},{\"attributes\":{},\"id\":\"1223\",\"type\":\"WheelZoomTool\"},{\"attributes\":{\"callback\":null},\"id\":\"1206\",\"type\":\"DataRange1d\"},{\"attributes\":{\"overlay\":{\"id\":\"1230\",\"type\":\"BoxAnnotation\"}},\"id\":\"1224\",\"type\":\"BoxZoomTool\"},{\"attributes\":{},\"id\":\"1210\",\"type\":\"LinearScale\"},{\"attributes\":{\"data_source\":{\"id\":\"1237\",\"type\":\"ColumnDataSource\"},\"glyph\":{\"id\":\"1238\",\"type\":\"Quad\"},\"hover_glyph\":null,\"muted_glyph\":null,\"nonselection_glyph\":{\"id\":\"1239\",\"type\":\"Quad\"},\"selection_glyph\":null,\"view\":{\"id\":\"1241\",\"type\":\"CDSView\"}},\"id\":\"1240\",\"type\":\"GlyphRenderer\"},{\"attributes\":{},\"id\":\"1225\",\"type\":\"SaveTool\"},{\"attributes\":{},\"id\":\"1226\",\"type\":\"ResetTool\"},{\"attributes\":{\"source\":{\"id\":\"1237\",\"type\":\"ColumnDataSource\"}},\"id\":\"1241\",\"type\":\"CDSView\"},{\"attributes\":{},\"id\":\"1227\",\"type\":\"HelpTool\"},{\"attributes\":{\"callback\":null},\"id\":\"1204\",\"type\":\"DataRange1d\"},{\"attributes\":{\"plot\":null,\"text\":\"Citations histogram (in_degree)\"},\"id\":\"1201\",\"type\":\"Title\"},{\"attributes\":{\"bottom_units\":\"screen\",\"fill_alpha\":{\"value\":0.5},\"fill_color\":{\"value\":\"lightgrey\"},\"left_units\":\"screen\",\"level\":\"overlay\",\"line_alpha\":{\"value\":1.0},\"line_color\":{\"value\":\"black\"},\"line_dash\":[4,4],\"line_width\":{\"value\":2},\"plot\":null,\"render_mode\":\"css\",\"right_units\":\"screen\",\"top_units\":\"screen\"},\"id\":\"1230\",\"type\":\"BoxAnnotation\"},{\"attributes\":{\"callback\":null,\"data\":{\"left\":{\"__ndarray__\":\"AAAAAAAA8D/hehSuRyE5QOF6FK5HoUhAKVyPwvVYUkDhehSuR2FYQJmZmZmZaV5AKVyPwvU4YkCF61G4Hj1lQOF6FK5HQWhAPQrXo3BFa0CZmZmZmUluQHsUrkfhpnBAKVyPwvUockDXo3A9CqtzQIXrUbgeLXVAMzMzMzOvdkDhehSuRzF4QI/C9Shcs3lAPQrXo3A1e0DrUbgehbd8QJmZmZmZOX5AR+F6FK67f0B7FK5H4Z6AQFK4HoXrX4FAKVyPwvUggkAAAAAAAOKCQNejcD0Ko4NArkfhehRkhECF61G4HiWFQFyPwvUo5oVAMzMzMzOnhkAK16NwPWiHQOF6FK5HKYhAuB6F61HqiECPwvUoXKuJQGZmZmZmbIpAPQrXo3Ati0AUrkfheu6LQOtRuB6Fr4xAwvUoXI9wjUCZmZmZmTGOQHA9Ctej8o5AR+F6FK6zj0CPwvUoXDqQQHsUrkfhmpBAZmZmZmb7kEBSuB6F61uRQD0K16NwvJFAKVyPwvUckkAUrkfhen2SQAAAAAAA3pJA61G4HoU+k0DXo3A9Cp+TQML1KFyP/5NArkfhehRglECZmZmZmcCUQIXrUbgeIZVAcD0K16OBlUBcj8L1KOKVQEfhehSuQpZAMzMzMzOjlkAehetRuAOXQArXo3A9ZJdA9Shcj8LEl0DhehSuRyWYQM3MzMzMhZhAuB6F61HmmECkcD0K10aZQI/C9Shcp5lAexSuR+EHmkBmZmZmZmiaQFK4HoXryJpAPQrXo3Apm0ApXI/C9YmbQBSuR+F66ptAAAAAAABLnEDrUbgehaucQNejcD0KDJ1AwvUoXI9snUCuR+F6FM2dQJmZmZmZLZ5AhetRuB6OnkBwPQrXo+6eQFyPwvUoT59AR+F6FK6vn0CZmZmZGQigQI/C9ShcOKBAhetRuJ5ooEB7FK5H4ZigQHA9CtcjyaBAZmZmZmb5oEBcj8L1qCmhQFK4HoXrWaFAR+F6FC6KoUA9CtejcLqhQDMzMzOz6qFAKVyPwvUaokAfhetROEuiQBSuR+F6e6JACtejcL2rokA=\",\"dtype\":\"float64\",\"shape\":[100]},\"right\":{\"__ndarray__\":\"4XoUrkchOUDhehSuR6FIQClcj8L1WFJA4XoUrkdhWECZmZmZmWleQClcj8L1OGJAhetRuB49ZUDhehSuR0FoQD0K16NwRWtAmZmZmZlJbkB7FK5H4aZwQClcj8L1KHJA16NwPQqrc0CF61G4Hi11QDMzMzMzr3ZA4XoUrkcxeECPwvUoXLN5QD0K16NwNXtA61G4HoW3fECZmZmZmTl+QEfhehSuu39AexSuR+GegEBSuB6F61+BQClcj8L1IIJAAAAAAADigkDXo3A9CqODQK5H4XoUZIRAhetRuB4lhUBcj8L1KOaFQDMzMzMzp4ZACtejcD1oh0DhehSuRymIQLgehetR6ohAj8L1KFyriUBmZmZmZmyKQD0K16NwLYtAFK5H4Xrui0DrUbgeha+MQML1KFyPcI1AmZmZmZkxjkBwPQrXo/KOQEfhehSus49Aj8L1KFw6kEB7FK5H4ZqQQGZmZmZm+5BAUrgehetbkUA9CtejcLyRQClcj8L1HJJAFK5H4Xp9kkAAAAAAAN6SQOtRuB6FPpNA16NwPQqfk0DC9Shcj/+TQK5H4XoUYJRAmZmZmZnAlECF61G4HiGVQHA9CtejgZVAXI/C9SjilUBH4XoUrkKWQDMzMzMzo5ZAHoXrUbgDl0AK16NwPWSXQPUoXI/CxJdA4XoUrkclmEDNzMzMzIWYQLgehetR5phApHA9CtdGmUCPwvUoXKeZQHsUrkfhB5pAZmZmZmZomkBSuB6F68iaQD0K16NwKZtAKVyPwvWJm0AUrkfheuqbQAAAAAAAS5xA61G4HoWrnEDXo3A9CgydQML1KFyPbJ1ArkfhehTNnUCZmZmZmS2eQIXrUbgejp5AcD0K16PunkBcj8L1KE+fQEfhehSur59AmZmZmRkIoECPwvUoXDigQIXrUbieaKBAexSuR+GYoEBwPQrXI8mgQGZmZmZm+aBAXI/C9agpoUBSuB6F61mhQEfhehQuiqFAPQrXo3C6oUAzMzMzs+qhQClcj8L1GqJAH4XrUThLokAUrkfhenuiQArXo3C9q6JAAAAAAADcokA=\",\"dtype\":\"float64\",\"shape\":[100]},\"top\":[19851,1873,619,285,153,84,61,45,24,26,9,6,8,12,4,5,3,4,2,2,1,1,0,0,0,0,1,0,0,1,1,0,3,1,0,0,0,0,0,0,0,1,1,0,0,0,1,2,0,1,0,0,0,1,0,0,0,0,0,0,0,0,0,0,0,0,0,1,0,0,0,0,0,1,0,0,0,0,0,0,0,0,0,0,0,0,0,0,0,0,0,0,0,0,0,0,0,0,0,1]},\"selected\":{\"id\":\"1269\",\"type\":\"Selection\"},\"selection_policy\":{\"id\":\"1268\",\"type\":\"UnionRenderers\"}},\"id\":\"1237\",\"type\":\"ColumnDataSource\"},{\"attributes\":{},\"id\":\"1264\",\"type\":\"BasicTickFormatter\"},{\"attributes\":{},\"id\":\"1266\",\"type\":\"BasicTickFormatter\"},{\"attributes\":{},\"id\":\"1268\",\"type\":\"UnionRenderers\"}],\"root_ids\":[\"1202\"]},\"title\":\"Bokeh Application\",\"version\":\"1.0.4\"}};\n",
       "  var render_items = [{\"docid\":\"eed304da-dc2b-4c8c-9b1c-d4f249fc7b48\",\"roots\":{\"1202\":\"a1c85788-bf42-4197-ad9f-905c5cf8ef7f\"}}];\n",
       "  root.Bokeh.embed.embed_items_notebook(docs_json, render_items);\n",
       "\n",
       "  }\n",
       "  if (root.Bokeh !== undefined) {\n",
       "    embed_document(root);\n",
       "  } else {\n",
       "    var attempts = 0;\n",
       "    var timer = setInterval(function(root) {\n",
       "      if (root.Bokeh !== undefined) {\n",
       "        embed_document(root);\n",
       "        clearInterval(timer);\n",
       "      }\n",
       "      attempts++;\n",
       "      if (attempts > 100) {\n",
       "        console.log(\"Bokeh: ERROR: Unable to run BokehJS code because BokehJS library is missing\");\n",
       "        clearInterval(timer);\n",
       "      }\n",
       "    }, 10, root)\n",
       "  }\n",
       "})(window);"
      ],
      "application/vnd.bokehjs_exec.v0+json": ""
     },
     "metadata": {
      "application/vnd.bokehjs_exec.v0+json": {
       "id": "1202"
      }
     },
     "output_type": "display_data"
    }
   ],
   "source": [
    "hist, edges = np.histogram(in_degree['FromNodeId'], bins=100)\n",
    "\n",
    "# Create the blank plot\n",
    "p = figure(plot_height = 500, plot_width = 900, \n",
    "           title = 'Citations histogram (in_degree)',\n",
    "          x_axis_label = 'Paper citations', \n",
    "           y_axis_label = 'Papers')\n",
    "\n",
    "# Add a quad glyph\n",
    "p.quad(bottom=0, top=hist, \n",
    "       left=edges[:-1], right=edges[1:],\n",
    "       fill_color= 'navy', line_color='white')\n",
    "\n",
    "# Show the plot\n",
    "show(p)"
   ]
  },
  {
   "cell_type": "code",
   "execution_count": 10,
   "metadata": {},
   "outputs": [
    {
     "data": {
      "text/html": [
       "\n",
       "\n",
       "\n",
       "\n",
       "\n",
       "\n",
       "  <div class=\"bk-root\" id=\"d83fc52a-e9d9-4200-8413-17c0970eb330\" data-root-id=\"1322\"></div>\n"
      ]
     },
     "metadata": {},
     "output_type": "display_data"
    },
    {
     "data": {
      "application/javascript": [
       "(function(root) {\n",
       "  function embed_document(root) {\n",
       "    \n",
       "  var docs_json = {\"5042e5de-feb0-445e-b4a2-25024e97e439\":{\"roots\":{\"references\":[{\"attributes\":{\"columns\":[{\"id\":\"1318\",\"type\":\"TableColumn\"},{\"id\":\"1319\",\"type\":\"TableColumn\"},{\"id\":\"1320\",\"type\":\"TableColumn\"}],\"source\":{\"id\":\"1321\",\"type\":\"ColumnDataSource\"},\"view\":{\"id\":\"1323\",\"type\":\"CDSView\"}},\"id\":\"1322\",\"type\":\"DataTable\"},{\"attributes\":{\"callback\":null,\"data\":{\"in_degree\":{\"__ndarray__\":\"AAAAAAAAS0AAAAAAAAA2QAAAAAAAAChAAAAAAAAAIkAAAAAAAAAzQAAAAAAAACJAAAAAAADAUkAAAAAAAAAkQAAAAAAAABRAAAAAAAAAHEAAAAAAAJCBQAAAAAAAADFAAAAAAAAAMUAAAAAAAAAsQAAAAAAAADlAAAAAAADAUUAAAAAAAAA7QAAAAAAAADlAAAAAAAAAEEAAAAAAAABNQA==\",\"dtype\":\"float64\",\"shape\":[20]},\"out_degree\":{\"__ndarray__\":\"AAAAAADcokAAAAAAALybQAAAAAAApJlAAAAAAABMlEAAAAAAALySQAAAAAAADJJAAAAAAADYkUAAAAAAAGiRQAAAAAAAHJBAAAAAAABwj0AAAAAAADCJQAAAAAAAoIhAAAAAAACgiEAAAAAAADiIQAAAAAAAYIdAAAAAAADohUAAAAAAAFiEQAAAAAAAQIBAAAAAAADgfkAAAAAAAKB9QA==\",\"dtype\":\"float64\",\"shape\":[20]},\"paper\":[\"9711200\",\"9802150\",\"9802109\",\"9407087\",\"9610043\",\"9510017\",\"9908142\",\"9503124\",\"9906064\",\"9408099\",\"9905111\",\"9711162\",\"9510209\",\"9510135\",\"9410167\",\"9611050\",\"9601029\",\"9602022\",\"9603142\",\"9803131\"]},\"selected\":{\"id\":\"1359\",\"type\":\"Selection\"},\"selection_policy\":{\"id\":\"1358\",\"type\":\"UnionRenderers\"}},\"id\":\"1321\",\"type\":\"ColumnDataSource\"},{\"attributes\":{},\"id\":\"1354\",\"type\":\"StringFormatter\"},{\"attributes\":{},\"id\":\"1358\",\"type\":\"UnionRenderers\"},{\"attributes\":{},\"id\":\"1355\",\"type\":\"StringEditor\"},{\"attributes\":{\"editor\":{\"id\":\"1355\",\"type\":\"StringEditor\"},\"field\":\"out_degree\",\"formatter\":{\"id\":\"1354\",\"type\":\"StringFormatter\"},\"title\":\"out_degree\"},\"id\":\"1319\",\"type\":\"TableColumn\"},{\"attributes\":{},\"id\":\"1352\",\"type\":\"StringFormatter\"},{\"attributes\":{},\"id\":\"1356\",\"type\":\"StringFormatter\"},{\"attributes\":{\"editor\":{\"id\":\"1357\",\"type\":\"StringEditor\"},\"field\":\"in_degree\",\"formatter\":{\"id\":\"1356\",\"type\":\"StringFormatter\"},\"title\":\"in_degree\"},\"id\":\"1320\",\"type\":\"TableColumn\"},{\"attributes\":{\"editor\":{\"id\":\"1353\",\"type\":\"StringEditor\"},\"field\":\"paper\",\"formatter\":{\"id\":\"1352\",\"type\":\"StringFormatter\"},\"title\":\"paper\"},\"id\":\"1318\",\"type\":\"TableColumn\"},{\"attributes\":{\"source\":{\"id\":\"1321\",\"type\":\"ColumnDataSource\"}},\"id\":\"1323\",\"type\":\"CDSView\"},{\"attributes\":{},\"id\":\"1353\",\"type\":\"StringEditor\"},{\"attributes\":{},\"id\":\"1359\",\"type\":\"Selection\"},{\"attributes\":{},\"id\":\"1357\",\"type\":\"StringEditor\"}],\"root_ids\":[\"1322\"]},\"title\":\"Bokeh Application\",\"version\":\"1.0.4\"}};\n",
       "  var render_items = [{\"docid\":\"5042e5de-feb0-445e-b4a2-25024e97e439\",\"roots\":{\"1322\":\"d83fc52a-e9d9-4200-8413-17c0970eb330\"}}];\n",
       "  root.Bokeh.embed.embed_items_notebook(docs_json, render_items);\n",
       "\n",
       "  }\n",
       "  if (root.Bokeh !== undefined) {\n",
       "    embed_document(root);\n",
       "  } else {\n",
       "    var attempts = 0;\n",
       "    var timer = setInterval(function(root) {\n",
       "      if (root.Bokeh !== undefined) {\n",
       "        embed_document(root);\n",
       "        clearInterval(timer);\n",
       "      }\n",
       "      attempts++;\n",
       "      if (attempts > 100) {\n",
       "        console.log(\"Bokeh: ERROR: Unable to run BokehJS code because BokehJS library is missing\");\n",
       "        clearInterval(timer);\n",
       "      }\n",
       "    }, 10, root)\n",
       "  }\n",
       "})(window);"
      ],
      "application/vnd.bokehjs_exec.v0+json": ""
     },
     "metadata": {
      "application/vnd.bokehjs_exec.v0+json": {
       "id": "1322"
      }
     },
     "output_type": "display_data"
    }
   ],
   "source": [
    "degrees = pd.concat([in_degree, out_degree], axis=1, sort=False)\n",
    "degrees.columns = ['out_degree', 'in_degree']\n",
    "degrees.index.name = 'paper'\n",
    "\n",
    "display_df_with_bokeh(degrees, include_index=True)"
   ]
  },
  {
   "cell_type": "code",
   "execution_count": null,
   "metadata": {},
   "outputs": [],
   "source": []
  }
 ],
 "metadata": {
  "kernelspec": {
   "display_name": "Python 3",
   "language": "python",
   "name": "python3"
  },
  "language_info": {
   "codemirror_mode": {
    "name": "ipython",
    "version": 3
   },
   "file_extension": ".py",
   "mimetype": "text/x-python",
   "name": "python",
   "nbconvert_exporter": "python",
   "pygments_lexer": "ipython3",
   "version": "3.6.7"
  }
 },
 "nbformat": 4,
 "nbformat_minor": 2
}
