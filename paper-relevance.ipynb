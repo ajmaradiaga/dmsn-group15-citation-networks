{
 "cells": [
  {
   "cell_type": "markdown",
   "metadata": {},
   "source": [
    "# Paper relevance\n",
    "\n",
    "This notebook plot the paper relevance period"
   ]
  },
  {
   "cell_type": "code",
   "execution_count": 11,
   "metadata": {},
   "outputs": [],
   "source": [
    "import datetime \n",
    "import os\n",
    "import re\n",
    "\n",
    "import numpy as np\n",
    "import pandas as pd\n",
    "\n",
    "from helper import display_df_with_bokeh\n",
    "\n",
    "pd.set_option('display.width', 400)"
   ]
  },
  {
   "cell_type": "code",
   "execution_count": 12,
   "metadata": {},
   "outputs": [],
   "source": [
    "DATASETS_FOLDER = \"datasets\""
   ]
  },
  {
   "cell_type": "code",
   "execution_count": 13,
   "metadata": {},
   "outputs": [],
   "source": [
    "# Opening original network with modularity\n",
    "with open(f\"gephi/dynamic/nodes_with_all_network_stats_and_timestamps.csv\", 'r') as f:\n",
    "    gephi_df = pd.read_csv(f, header=0)\n",
    "\n",
    "gephi_df['date'] = gephi_df['date'].astype('datetime64[ns]')\n",
    "gephi_df['last_citation'] = gephi_df['last_citation'].astype('datetime64[ns]')"
   ]
  },
  {
   "cell_type": "code",
   "execution_count": 14,
   "metadata": {},
   "outputs": [],
   "source": [
    "def difference_btw_dates(date1, date2):\n",
    "    td = date2 - date1\n",
    "    return td.days"
   ]
  },
  {
   "cell_type": "code",
   "execution_count": 15,
   "metadata": {},
   "outputs": [],
   "source": [
    "gephi_df['date_diff'] = gephi_df.apply(lambda x: difference_btw_dates(x['date'], x['last_citation']), axis=1)"
   ]
  },
  {
   "cell_type": "code",
   "execution_count": 16,
   "metadata": {},
   "outputs": [
    {
     "name": "stdout",
     "output_type": "stream",
     "text": [
      "Time a paper is relevant:\n",
      "Median\t 737.0\n",
      "Mean\t 1018.5196092567227\n"
     ]
    },
    {
     "data": {
      "text/plain": [
       "count    27742.000000\n",
       "mean      1018.519609\n",
       "std        985.122341\n",
       "min          0.000000\n",
       "25%        164.000000\n",
       "50%        737.000000\n",
       "75%       1629.000000\n",
       "max       4102.000000\n",
       "Name: date_diff, dtype: float64"
      ]
     },
     "execution_count": 16,
     "metadata": {},
     "output_type": "execute_result"
    }
   ],
   "source": [
    "print('Time a paper is relevant:')\n",
    "print('Median\\t', gephi_df['date_diff'].median())\n",
    "print('Mean\\t', gephi_df['date_diff'].mean())\n",
    "\n",
    "gephi_df['date_diff'].describe()"
   ]
  },
  {
   "cell_type": "markdown",
   "metadata": {},
   "source": [
    "## Matplotlib"
   ]
  },
  {
   "cell_type": "code",
   "execution_count": 17,
   "metadata": {},
   "outputs": [
    {
     "data": {
      "image/png": "[encoded data removed]",
      "text/plain": [
       "<Figure size 432x288 with 1 Axes>"
      ]
     },
     "metadata": {
      "needs_background": "light"
     },
     "output_type": "display_data"
    }
   ],
   "source": [
    "import matplotlib.pyplot as plt\n",
    "import numpy as np\n",
    "import scipy.stats as stats\n",
    "\n",
    "values = list(gephi_df['date_diff'])\n",
    "density = stats.gaussian_kde(values)\n",
    "n, x, _ = plt.hist(values, bins=10, \n",
    "                   histtype=u'step', density=True)  \n",
    "plt.plot(x, density(x))\n",
    "plt.show()"
   ]
  },
  {
   "cell_type": "code",
   "execution_count": 18,
   "metadata": {},
   "outputs": [
    {
     "data": {
      "image/png": "[encoded data removed]",
      "text/plain": [
       "<Figure size 432x288 with 1 Axes>"
      ]
     },
     "metadata": {
      "needs_background": "light"
     },
     "output_type": "display_data"
    }
   ],
   "source": [
    "n, x, _ = plt.hist(values, bins=10)  \n",
    "plt.plot(x)\n",
    "plt.show()"
   ]
  },
  {
   "cell_type": "markdown",
   "metadata": {},
   "source": [
    "## Bokeh"
   ]
  },
  {
   "cell_type": "code",
   "execution_count": 19,
   "metadata": {},
   "outputs": [],
   "source": [
    "from bokeh.io import output_file, output_notebook\n",
    "from bokeh.models.widgets import DataTable, DateFormatter, TableColumn\n",
    "from bokeh.models import ColumnDataSource\n",
    "from bokeh.plotting import show\n",
    "from bokeh.plotting import figure\n",
    "import numpy as np\n",
    "import pandas as pd\n",
    "\n",
    "from bokeh.models.glyphs import Line\n",
    "from bokeh.models import ColumnDataSource, Range1d, LabelSet, Label\n",
    "\n",
    "from helper import display_df_with_bokeh"
   ]
  },
  {
   "cell_type": "code",
   "execution_count": 22,
   "metadata": {},
   "outputs": [
    {
     "data": {
      "text/html": [
       "\n",
       "\n",
       "\n",
       "\n",
       "\n",
       "\n",
       "  <div class=\"bk-root\" id=\"54ee0486-400a-439f-967b-dcaf950712c2\" data-root-id=\"1384\"></div>\n"
      ]
     },
     "metadata": {},
     "output_type": "display_data"
    },
    {
     "data": {
      "application/javascript": [
       "(function(root) {\n",
       "  function embed_document(root) {\n",
       "    \n",
       "  var docs_json = {\"a4cf3b58-f77d-467b-8d6b-af07c48619cc\":{\"roots\":{\"references\":[{\"attributes\":{\"below\":[{\"id\":\"1394\",\"type\":\"LinearAxis\"}],\"left\":[{\"id\":\"1399\",\"type\":\"LinearAxis\"}],\"plot_width\":900,\"renderers\":[{\"id\":\"1394\",\"type\":\"LinearAxis\"},{\"id\":\"1398\",\"type\":\"Grid\"},{\"id\":\"1399\",\"type\":\"LinearAxis\"},{\"id\":\"1403\",\"type\":\"Grid\"},{\"id\":\"1412\",\"type\":\"BoxAnnotation\"},{\"id\":\"1422\",\"type\":\"GlyphRenderer\"},{\"id\":\"1426\",\"type\":\"GlyphRenderer\"}],\"title\":{\"id\":\"1383\",\"type\":\"Title\"},\"toolbar\":{\"id\":\"1410\",\"type\":\"Toolbar\"},\"x_range\":{\"id\":\"1386\",\"type\":\"DataRange1d\"},\"x_scale\":{\"id\":\"1390\",\"type\":\"LinearScale\"},\"y_range\":{\"id\":\"1388\",\"type\":\"DataRange1d\"},\"y_scale\":{\"id\":\"1392\",\"type\":\"LinearScale\"}},\"id\":\"1384\",\"subtype\":\"Figure\",\"type\":\"Plot\"},{\"attributes\":{},\"id\":\"1409\",\"type\":\"HelpTool\"},{\"attributes\":{},\"id\":\"1408\",\"type\":\"ResetTool\"},{\"attributes\":{\"data_source\":{\"id\":\"1419\",\"type\":\"ColumnDataSource\"},\"glyph\":{\"id\":\"1420\",\"type\":\"Quad\"},\"hover_glyph\":null,\"muted_glyph\":null,\"nonselection_glyph\":{\"id\":\"1421\",\"type\":\"Quad\"},\"selection_glyph\":null,\"view\":{\"id\":\"1423\",\"type\":\"CDSView\"}},\"id\":\"1422\",\"type\":\"GlyphRenderer\"},{\"attributes\":{},\"id\":\"1407\",\"type\":\"SaveTool\"},{\"attributes\":{\"callback\":null,\"data\":{\"left\":{\"__ndarray__\":\"AAAAAAAAAAAAAAAAAEBqQAAAAAAAQHpAAAAAAACwg0AAAAAAAECKQAAAAAAAaJBAAAAAAACwk0AAAAAAAPiWQAAAAAAAQJpAAAAAAACInUAAAAAAAGigQAAAAAAADKJAAAAAAACwo0AAAAAAAFSlQAAAAAAA+KZAAAAAAACcqEAAAAAAAECqQAAAAAAA5KtAAAAAAACIrUAAAAAAACyvQA==\",\"dtype\":\"float64\",\"shape\":[20]},\"right\":{\"__ndarray__\":\"AAAAAABAakAAAAAAAEB6QAAAAAAAsINAAAAAAABAikAAAAAAAGiQQAAAAAAAsJNAAAAAAAD4lkAAAAAAAECaQAAAAAAAiJ1AAAAAAABooEAAAAAAAAyiQAAAAAAAsKNAAAAAAABUpUAAAAAAAPimQAAAAAAAnKhAAAAAAABAqkAAAAAAAOSrQAAAAAAAiK1AAAAAAAAsr0AAAAAAAGiwQA==\",\"dtype\":\"float64\",\"shape\":[20]},\"top\":[7512,2761,2405,2128,1911,1663,1460,1225,1186,967,932,786,673,562,464,352,329,232,164,30]},\"selected\":{\"id\":\"1465\",\"type\":\"Selection\"},\"selection_policy\":{\"id\":\"1464\",\"type\":\"UnionRenderers\"}},\"id\":\"1419\",\"type\":\"ColumnDataSource\"},{\"attributes\":{\"active_drag\":\"auto\",\"active_inspect\":\"auto\",\"active_multi\":null,\"active_scroll\":\"auto\",\"active_tap\":\"auto\",\"tools\":[{\"id\":\"1404\",\"type\":\"PanTool\"},{\"id\":\"1405\",\"type\":\"WheelZoomTool\"},{\"id\":\"1406\",\"type\":\"BoxZoomTool\"},{\"id\":\"1407\",\"type\":\"SaveTool\"},{\"id\":\"1408\",\"type\":\"ResetTool\"},{\"id\":\"1409\",\"type\":\"HelpTool\"}]},\"id\":\"1410\",\"type\":\"Toolbar\"},{\"attributes\":{\"callback\":null,\"data\":{\"x\":{\"__ndarray__\":\"AAAAAAAAAAAAAAAAAEBqQAAAAAAAQHpAAAAAAACwg0AAAAAAAECKQAAAAAAAaJBAAAAAAACwk0AAAAAAAPiWQAAAAAAAQJpAAAAAAACInUAAAAAAAGigQAAAAAAADKJAAAAAAACwo0AAAAAAAFSlQAAAAAAA+KZAAAAAAACcqEAAAAAAAECqQAAAAAAA5KtAAAAAAACIrUAAAAAAACyvQA==\",\"dtype\":\"float64\",\"shape\":[20]},\"y\":[7512,2761,2405,2128,1911,1663,1460,1225,1186,967,932,786,673,562,464,352,329,232,164,30]},\"selected\":{\"id\":\"1467\",\"type\":\"Selection\"},\"selection_policy\":{\"id\":\"1466\",\"type\":\"UnionRenderers\"}},\"id\":\"1424\",\"type\":\"ColumnDataSource\"},{\"attributes\":{\"overlay\":{\"id\":\"1412\",\"type\":\"BoxAnnotation\"}},\"id\":\"1406\",\"type\":\"BoxZoomTool\"},{\"attributes\":{\"bottom\":{\"value\":0},\"fill_color\":{\"value\":\"white\"},\"left\":{\"field\":\"left\"},\"line_color\":{\"value\":\"#C3C3C3\"},\"right\":{\"field\":\"right\"},\"top\":{\"field\":\"top\"}},\"id\":\"1420\",\"type\":\"Quad\"},{\"attributes\":{\"bottom\":{\"value\":0},\"fill_alpha\":{\"value\":0.1},\"fill_color\":{\"value\":\"#1f77b4\"},\"left\":{\"field\":\"left\"},\"line_alpha\":{\"value\":0.1},\"line_color\":{\"value\":\"#1f77b4\"},\"right\":{\"field\":\"right\"},\"top\":{\"field\":\"top\"}},\"id\":\"1421\",\"type\":\"Quad\"},{\"attributes\":{},\"id\":\"1405\",\"type\":\"WheelZoomTool\"},{\"attributes\":{},\"id\":\"1460\",\"type\":\"BasicTickFormatter\"},{\"attributes\":{},\"id\":\"1462\",\"type\":\"BasicTickFormatter\"},{\"attributes\":{},\"id\":\"1404\",\"type\":\"PanTool\"},{\"attributes\":{\"plot\":{\"id\":\"1384\",\"subtype\":\"Figure\",\"type\":\"Plot\"},\"ticker\":{\"id\":\"1395\",\"type\":\"BasicTicker\"}},\"id\":\"1398\",\"type\":\"Grid\"},{\"attributes\":{},\"id\":\"1464\",\"type\":\"UnionRenderers\"},{\"attributes\":{},\"id\":\"1400\",\"type\":\"BasicTicker\"},{\"attributes\":{\"callback\":null},\"id\":\"1386\",\"type\":\"DataRange1d\"},{\"attributes\":{},\"id\":\"1466\",\"type\":\"UnionRenderers\"},{\"attributes\":{},\"id\":\"1390\",\"type\":\"LinearScale\"},{\"attributes\":{\"source\":{\"id\":\"1419\",\"type\":\"ColumnDataSource\"}},\"id\":\"1423\",\"type\":\"CDSView\"},{\"attributes\":{},\"id\":\"1467\",\"type\":\"Selection\"},{\"attributes\":{\"dimension\":1,\"plot\":{\"id\":\"1384\",\"subtype\":\"Figure\",\"type\":\"Plot\"},\"ticker\":{\"id\":\"1400\",\"type\":\"BasicTicker\"}},\"id\":\"1403\",\"type\":\"Grid\"},{\"attributes\":{\"line_color\":\"#FFA500\",\"line_width\":3,\"x\":{\"field\":\"x\"},\"y\":{\"field\":\"y\"}},\"id\":\"1425\",\"type\":\"Line\"},{\"attributes\":{\"data_source\":{\"id\":\"1424\",\"type\":\"ColumnDataSource\"},\"glyph\":{\"id\":\"1425\",\"type\":\"Line\"},\"hover_glyph\":null,\"muted_glyph\":null,\"view\":{\"id\":\"1427\",\"type\":\"CDSView\"}},\"id\":\"1426\",\"type\":\"GlyphRenderer\"},{\"attributes\":{},\"id\":\"1395\",\"type\":\"BasicTicker\"},{\"attributes\":{},\"id\":\"1392\",\"type\":\"LinearScale\"},{\"attributes\":{},\"id\":\"1465\",\"type\":\"Selection\"},{\"attributes\":{\"axis_label\":\"Relevance period (in days)\",\"formatter\":{\"id\":\"1460\",\"type\":\"BasicTickFormatter\"},\"plot\":{\"id\":\"1384\",\"subtype\":\"Figure\",\"type\":\"Plot\"},\"ticker\":{\"id\":\"1395\",\"type\":\"BasicTicker\"}},\"id\":\"1394\",\"type\":\"LinearAxis\"},{\"attributes\":{\"source\":{\"id\":\"1424\",\"type\":\"ColumnDataSource\"}},\"id\":\"1427\",\"type\":\"CDSView\"},{\"attributes\":{\"callback\":null},\"id\":\"1388\",\"type\":\"DataRange1d\"},{\"attributes\":{\"bottom_units\":\"screen\",\"fill_alpha\":{\"value\":0.5},\"fill_color\":{\"value\":\"lightgrey\"},\"left_units\":\"screen\",\"level\":\"overlay\",\"line_alpha\":{\"value\":1.0},\"line_color\":{\"value\":\"black\"},\"line_dash\":[4,4],\"line_width\":{\"value\":2},\"plot\":null,\"render_mode\":\"css\",\"right_units\":\"screen\",\"top_units\":\"screen\"},\"id\":\"1412\",\"type\":\"BoxAnnotation\"},{\"attributes\":{\"plot\":null,\"text\":\"Paper relevance\"},\"id\":\"1383\",\"type\":\"Title\"},{\"attributes\":{\"axis_label\":\"Number of Papers\",\"formatter\":{\"id\":\"1462\",\"type\":\"BasicTickFormatter\"},\"plot\":{\"id\":\"1384\",\"subtype\":\"Figure\",\"type\":\"Plot\"},\"ticker\":{\"id\":\"1400\",\"type\":\"BasicTicker\"}},\"id\":\"1399\",\"type\":\"LinearAxis\"}],\"root_ids\":[\"1384\"]},\"title\":\"Bokeh Application\",\"version\":\"1.0.4\"}};\n",
       "  var render_items = [{\"docid\":\"a4cf3b58-f77d-467b-8d6b-af07c48619cc\",\"roots\":{\"1384\":\"54ee0486-400a-439f-967b-dcaf950712c2\"}}];\n",
       "  root.Bokeh.embed.embed_items_notebook(docs_json, render_items);\n",
       "\n",
       "  }\n",
       "  if (root.Bokeh !== undefined) {\n",
       "    embed_document(root);\n",
       "  } else {\n",
       "    var attempts = 0;\n",
       "    var timer = setInterval(function(root) {\n",
       "      if (root.Bokeh !== undefined) {\n",
       "        embed_document(root);\n",
       "        clearInterval(timer);\n",
       "      }\n",
       "      attempts++;\n",
       "      if (attempts > 100) {\n",
       "        console.log(\"Bokeh: ERROR: Unable to run BokehJS code because BokehJS library is missing\");\n",
       "        clearInterval(timer);\n",
       "      }\n",
       "    }, 10, root)\n",
       "  }\n",
       "})(window);"
      ],
      "application/vnd.bokehjs_exec.v0+json": ""
     },
     "metadata": {
      "application/vnd.bokehjs_exec.v0+json": {
       "id": "1384"
      }
     },
     "output_type": "display_data"
    }
   ],
   "source": [
    "hist, edges = np.histogram(values, bins=20, range = [0, 4200])\n",
    "\n",
    "# Create the blank plot\n",
    "p = figure(plot_height = 600, plot_width = 900, \n",
    "           title = 'Paper relevance',\n",
    "          y_axis_label = 'Number of Papers', \n",
    "           x_axis_label = 'Relevance period (in days)')\n",
    "\n",
    "# # Add a quad glyph\n",
    "p.quad(bottom=0, top=hist, \n",
    "       left=edges[:-1], right=edges[1:],\n",
    "       fill_color= 'white', line_color='#C3C3C3')\n",
    "\n",
    "\n",
    "\n",
    "source = ColumnDataSource(dict(x=edges[:-1], y=hist))\n",
    "\n",
    "glyph = Line(x=\"x\", y=\"y\", line_color=\"#FFA500\", line_width=3, line_alpha=1)\n",
    "p.add_glyph(source, glyph)\n",
    "\n",
    "# labels = LabelSet(x='x', y='y', text='y', level='glyph',\n",
    "#               x_offset=5, y_offset=5, source=source, render_mode='canvas')\n",
    "\n",
    "# labels.text_font_size = \"14px\"\n",
    "# p.add_layout(labels)\n",
    "\n",
    "density = stats.gaussian_kde(values)\n",
    "\n",
    "# Show the plot\n",
    "show(p)"
   ]
  },
  {
   "cell_type": "code",
   "execution_count": null,
   "metadata": {},
   "outputs": [],
   "source": []
  }
 ],
 "metadata": {
  "kernelspec": {
   "display_name": "Python 3",
   "language": "python",
   "name": "python3"
  },
  "language_info": {
   "codemirror_mode": {
    "name": "ipython",
    "version": 3
   },
   "file_extension": ".py",
   "mimetype": "text/x-python",
   "name": "python",
   "nbconvert_exporter": "python",
   "pygments_lexer": "ipython3",
   "version": "3.6.7"
  }
 },
 "nbformat": 4,
 "nbformat_minor": 2
}
