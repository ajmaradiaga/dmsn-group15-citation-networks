{
 "cells": [
  {
   "cell_type": "code",
   "execution_count": 7,
   "metadata": {},
   "outputs": [],
   "source": [
    "import pandas as pd\n",
    "from fastparquet import ParquetFile\n",
    "import socket\n",
    "import geocoder"
   ]
  },
  {
   "cell_type": "code",
   "execution_count": 8,
   "metadata": {},
   "outputs": [],
   "source": [
    "\n",
    "pf = ParquetFile('datasets/parquet/domain_aggregation.pq')\n",
    "df = pf.to_pandas()\n",
    "\n",
    "countries_df = pd.read_csv('datasets/countries.tsv', sep='\\t')"
   ]
  },
  {
   "cell_type": "code",
   "execution_count": 9,
   "metadata": {},
   "outputs": [
    {
     "data": {
      "text/html": [
       "<div>\n",
       "<style scoped>\n",
       "    .dataframe tbody tr th:only-of-type {\n",
       "        vertical-align: middle;\n",
       "    }\n",
       "\n",
       "    .dataframe tbody tr th {\n",
       "        vertical-align: top;\n",
       "    }\n",
       "\n",
       "    .dataframe thead th {\n",
       "        text-align: right;\n",
       "    }\n",
       "</style>\n",
       "<table border=\"1\" class=\"dataframe\">\n",
       "  <thead>\n",
       "    <tr style=\"text-align: right;\">\n",
       "      <th></th>\n",
       "      <th>country</th>\n",
       "      <th>latitude</th>\n",
       "      <th>longitude</th>\n",
       "      <th>name</th>\n",
       "    </tr>\n",
       "  </thead>\n",
       "  <tbody>\n",
       "    <tr>\n",
       "      <th>0</th>\n",
       "      <td>AD</td>\n",
       "      <td>42.546245</td>\n",
       "      <td>1.601554</td>\n",
       "      <td>Andorra</td>\n",
       "    </tr>\n",
       "    <tr>\n",
       "      <th>1</th>\n",
       "      <td>AE</td>\n",
       "      <td>23.424076</td>\n",
       "      <td>53.847818</td>\n",
       "      <td>United Arab Emirates</td>\n",
       "    </tr>\n",
       "    <tr>\n",
       "      <th>2</th>\n",
       "      <td>AF</td>\n",
       "      <td>33.939110</td>\n",
       "      <td>67.709953</td>\n",
       "      <td>Afghanistan</td>\n",
       "    </tr>\n",
       "    <tr>\n",
       "      <th>3</th>\n",
       "      <td>AG</td>\n",
       "      <td>17.060816</td>\n",
       "      <td>-61.796428</td>\n",
       "      <td>Antigua and Barbuda</td>\n",
       "    </tr>\n",
       "    <tr>\n",
       "      <th>4</th>\n",
       "      <td>AI</td>\n",
       "      <td>18.220554</td>\n",
       "      <td>-63.068615</td>\n",
       "      <td>Anguilla</td>\n",
       "    </tr>\n",
       "  </tbody>\n",
       "</table>\n",
       "</div>"
      ],
      "text/plain": [
       "  country   latitude  longitude                  name\n",
       "0      AD  42.546245   1.601554               Andorra\n",
       "1      AE  23.424076  53.847818  United Arab Emirates\n",
       "2      AF  33.939110  67.709953           Afghanistan\n",
       "3      AG  17.060816 -61.796428   Antigua and Barbuda\n",
       "4      AI  18.220554 -63.068615              Anguilla"
      ]
     },
     "execution_count": 9,
     "metadata": {},
     "output_type": "execute_result"
    }
   ],
   "source": [
    "countries_df.head()"
   ]
  },
  {
   "cell_type": "code",
   "execution_count": 62,
   "metadata": {},
   "outputs": [],
   "source": [
    "def retrieve_latlong_from_tld(domain):\n",
    "    tld = domain.split('.')[-1]\n",
    "    \n",
    "    if tld == 'uk':\n",
    "        tld = 'GB'\n",
    "    elif tld == 'yu':\n",
    "        tld = 'RS'\n",
    "    elif tld == 'su':\n",
    "        tld = 'RU'\n",
    "    elif tld == 'cs':\n",
    "        tld = 'CZ'\n",
    "    \n",
    "    if tld != 'bitnet':\n",
    "        country = countries_df.loc[countries_df['country'] == tld.upper()]\n",
    "        if country.empty:\n",
    "            print(f\"   Unable to find {tld}\")\n",
    "        else:\n",
    "            print(f\"   Resolved {tld}\")\n",
    "            return {\n",
    "                'lat': country.iloc[0]['latitude'],\n",
    "                'lng': country.iloc[0]['longitude'],\n",
    "                'city': '',\n",
    "                'country': country.iloc[0]['country']\n",
    "            }\n",
    "    \n",
    "    return None\n",
    "\n",
    "def format_geocoder_response(g):\n",
    "    return {\n",
    "        'lat': g.latlng[0],\n",
    "        'lng': g.latlng[1],\n",
    "        'city': g.current_result.city,\n",
    "        'country': g.current_result.country\n",
    "    }\n",
    "\n",
    "def find_geocoder(domain):\n",
    "    try:\n",
    "        ip_address = socket.gethostbyname(domain)\n",
    "        g = geocoder.ip(ip_address)\n",
    "        return g\n",
    "    except socket.gaierror as ge:\n",
    "        print(f\"Unable to resolve {domain}\")\n",
    "        return None"
   ]
  },
  {
   "cell_type": "code",
   "execution_count": 63,
   "metadata": {},
   "outputs": [
    {
     "name": "stdout",
     "output_type": "stream",
     "text": [
      "Unable to resolve cudenver.edu\n",
      "Unable to resolve www.cudenver.edu\n",
      "   Unable to find edu\n",
      "Unable to resolve cvut.cs\n",
      "Unable to resolve www.cvut.cs\n",
      "   Resolved CZ\n",
      "Unable to resolve eanetways.com\n",
      "Unable to resolve www.eanetways.com\n",
      "   Unable to find com\n",
      "Unable to resolve iran.com\n",
      "Unable to resolve www.iran.com\n",
      "   Unable to find com\n",
      "Unable to resolve lpmo.edu\n",
      "Unable to resolve www.lpmo.edu\n",
      "   Unable to find edu\n",
      "Unable to resolve mesastate.edu\n",
      "Unable to resolve www.mesastate.edu\n",
      "   Unable to find edu\n",
      "Unable to resolve mian.su\n",
      "Unable to resolve www.mian.su\n",
      "   Resolved RU\n",
      "Unable to resolve miu.edu\n",
      "Unable to resolve www.miu.edu\n",
      "   Unable to find edu\n",
      "Unable to resolve msu.su\n",
      "Unable to resolve www.msu.su\n",
      "   Resolved RU\n",
      "Unable to resolve ni.ac.yu\n",
      "Unable to resolve www.ni.ac.yu\n",
      "   Resolved RS\n",
      "Unable to resolve nnov.su\n",
      "Unable to resolve www.nnov.su\n",
      "   Resolved RU\n",
      "Unable to resolve nodak.edu\n",
      "Unable to resolve www.nodak.edu\n",
      "   Unable to find edu\n",
      "Unable to resolve nwu.edu\n",
      "Unable to resolve www.nwu.edu\n",
      "   Unable to find edu\n",
      "Unable to resolve rtgeom.com\n",
      "Unable to resolve www.rtgeom.com\n",
      "   Unable to find com\n",
      "Unable to resolve simbirsk.su\n",
      "Unable to resolve www.simbirsk.su\n",
      "   Resolved RU\n",
      "Unable to resolve thphysed.org\n",
      "Unable to resolve www.thphysed.org\n",
      "   Unable to find org\n",
      "Unable to resolve tomsk.su\n",
      "Unable to resolve www.tomsk.su\n",
      "   Resolved RU\n",
      "Unable to resolve transbd.net\n",
      "Unable to resolve www.transbd.net\n",
      "   Unable to find net\n",
      "Unable to resolve ucdvis.edu\n",
      "Unable to resolve www.ucdvis.edu\n",
      "   Unable to find edu\n",
      "Unable to resolve ukans.edu\n",
      "Unable to resolve www.ukans.edu\n",
      "   Unable to find edu\n",
      "Unable to resolve uoknor.edu\n",
      "Unable to resolve www.uoknor.edu\n",
      "   Unable to find edu\n",
      "Unable to resolve waterloo.edu\n",
      "Unable to resolve www.waterloo.edu\n",
      "   Unable to find edu\n"
     ]
    }
   ],
   "source": [
    "# domain_latlong = {}\n",
    "\n",
    "for k, v in domain_latlong.items(): #df.iterrows():\n",
    "    domain = k#row[1][0]\n",
    "    \n",
    "    if '.bitnet' not in k and v is None:\n",
    "\n",
    "        g = find_geocoder(domain)\n",
    "        if g:\n",
    "            domain_latlong[domain] = format_geocoder_response(g)\n",
    "        else:\n",
    "            new_domain = 'www.' + domain\n",
    "            g = find_geocoder(new_domain)\n",
    "            if g:\n",
    "                print(f\"   Resolved {new_domain}\")\n",
    "                domain_latlong[domain] = format_geocoder_response(g)\n",
    "            else:\n",
    "                # Last resort, tld\n",
    "                domain_latlong[domain] = retrieve_latlong_from_tld(domain)\n",
    "     "
   ]
  },
  {
   "cell_type": "code",
   "execution_count": 54,
   "metadata": {},
   "outputs": [
    {
     "data": {
      "text/plain": [
       "<[OK] Ipinfo - Geocode [South Kensington, Kensington and Chelsea, GB]>"
      ]
     },
     "execution_count": 54,
     "metadata": {},
     "output_type": "execute_result"
    }
   ],
   "source": [
    "domain = 'ic.ac.uk'\n",
    "ip_address = socket.gethostbyname(domain)\n",
    "g = geocoder.ip(ip_address)\n",
    "\n",
    "g"
   ]
  },
  {
   "cell_type": "code",
   "execution_count": 67,
   "metadata": {},
   "outputs": [
    {
     "name": "stdout",
     "output_type": "stream",
     "text": [
      "bgearn.bitnet\n",
      "blekul11.bitnet\n",
      "cnedcu51.bitnet\n",
      "csearn.bitnet\n",
      "cudenver.edu\n",
      "eanetways.com\n",
      "iassns.bitnet\n",
      "iran.com\n",
      "irearn.bitnet\n",
      "itsictp.bitnet\n",
      "jpnyitp.bitnet\n",
      "lpmo.edu\n",
      "mesastate.edu\n",
      "miu.edu\n",
      "nodak.edu\n",
      "nusvm.bitnet\n",
      "nwu.edu\n",
      "ohstpy.bitnet\n",
      "roifa.bitnet\n",
      "rtgeom.com\n",
      "technion.bitnet\n",
      "thphysed.org\n",
      "transbd.net\n",
      "ucdvis.edu\n",
      "ukans.edu\n",
      "univscvm.bitnet\n",
      "uoknor.edu\n",
      "waterloo.edu\n",
      "29\n"
     ]
    }
   ],
   "source": [
    "import copy\n",
    "aux = copy.deepcopy(domain_latlong)\n",
    "\n",
    "for k, v in aux.items():\n",
    "    if v is None:\n",
    "        del domain_latlong[k]\n",
    "        i += 1\n",
    "        print(k)\n",
    "\n",
    "print(i)"
   ]
  },
  {
   "cell_type": "code",
   "execution_count": 74,
   "metadata": {},
   "outputs": [
    {
     "data": {
      "text/html": [
       "<div>\n",
       "<style scoped>\n",
       "    .dataframe tbody tr th:only-of-type {\n",
       "        vertical-align: middle;\n",
       "    }\n",
       "\n",
       "    .dataframe tbody tr th {\n",
       "        vertical-align: top;\n",
       "    }\n",
       "\n",
       "    .dataframe thead th {\n",
       "        text-align: right;\n",
       "    }\n",
       "</style>\n",
       "<table border=\"1\" class=\"dataframe\">\n",
       "  <thead>\n",
       "    <tr style=\"text-align: right;\">\n",
       "      <th></th>\n",
       "      <th>lat</th>\n",
       "      <th>lng</th>\n",
       "      <th>city</th>\n",
       "      <th>country</th>\n",
       "    </tr>\n",
       "  </thead>\n",
       "  <tbody>\n",
       "    <tr>\n",
       "      <th>aau.dk</th>\n",
       "      <td>57.035500</td>\n",
       "      <td>9.941200</td>\n",
       "      <td>Aalborg</td>\n",
       "      <td>DK</td>\n",
       "    </tr>\n",
       "    <tr>\n",
       "      <th>ab.az</th>\n",
       "      <td>40.143105</td>\n",
       "      <td>47.576927</td>\n",
       "      <td></td>\n",
       "      <td>AZ</td>\n",
       "    </tr>\n",
       "    <tr>\n",
       "      <th>ac.msk.su</th>\n",
       "      <td>55.738600</td>\n",
       "      <td>37.606800</td>\n",
       "      <td></td>\n",
       "      <td>RU</td>\n",
       "    </tr>\n",
       "    <tr>\n",
       "      <th>acad.bg</th>\n",
       "      <td>42.683300</td>\n",
       "      <td>23.316700</td>\n",
       "      <td>Sofia</td>\n",
       "      <td>BG</td>\n",
       "    </tr>\n",
       "    <tr>\n",
       "      <th>acad.md</th>\n",
       "      <td>47.411631</td>\n",
       "      <td>28.369885</td>\n",
       "      <td></td>\n",
       "      <td>MD</td>\n",
       "    </tr>\n",
       "  </tbody>\n",
       "</table>\n",
       "</div>"
      ],
      "text/plain": [
       "                 lat        lng     city country\n",
       "aau.dk     57.035500   9.941200  Aalborg      DK\n",
       "ab.az      40.143105  47.576927               AZ\n",
       "ac.msk.su  55.738600  37.606800               RU\n",
       "acad.bg    42.683300  23.316700    Sofia      BG\n",
       "acad.md    47.411631  28.369885               MD"
      ]
     },
     "execution_count": 74,
     "metadata": {},
     "output_type": "execute_result"
    }
   ],
   "source": [
    "domain_latlong_df = pd.DataFrame.from_dict(domain_latlong, orient='index')\n",
    "domain_latlong_df.head()"
   ]
  },
  {
   "cell_type": "code",
   "execution_count": 75,
   "metadata": {},
   "outputs": [],
   "source": [
    "domain_latlong_df.to_csv('datasets/domains_with_countries.csv')"
   ]
  },
  {
   "cell_type": "code",
   "execution_count": 93,
   "metadata": {},
   "outputs": [],
   "source": [
    "country_group_df = domain_latlong_df.groupby(['country']).count().sort_values(['country'], ascending = True)"
   ]
  },
  {
   "cell_type": "code",
   "execution_count": 88,
   "metadata": {},
   "outputs": [
    {
     "name": "stdout",
     "output_type": "stream",
     "text": [
      "('', 'AM')\n"
     ]
    }
   ],
   "source": []
  },
  {
   "cell_type": "code",
   "execution_count": null,
   "metadata": {},
   "outputs": [],
   "source": [
    "import datashader as ds\n",
    "import pandas as pd\n",
    "from colorcet import fire\n",
    "from datashader import transfer_functions as tf"
   ]
  },
  {
   "cell_type": "code",
   "execution_count": null,
   "metadata": {},
   "outputs": [],
   "source": [
    "agg = ds.Canvas().points(domain_latlong_df, 'lat', 'long')\n",
    "tf.set_background(tf.shade(agg, cmap=fire),\"black\")"
   ]
  },
  {
   "cell_type": "code",
   "execution_count": null,
   "metadata": {},
   "outputs": [],
   "source": [
    "import holoviews as hv\n",
    "import geoviews as gv\n",
    "from holoviews.operation.datashader import datashade\n",
    "hv.extension('bokeh')\n",
    "\n",
    "url = 'https://server.arcgisonline.com/ArcGIS/rest/services/World_Imagery/MapServer/tile/{Z}/{Y}/{X}.jpg'\n",
    "tile_opts  = dict(width=1000,height=600,xaxis=None,yaxis=None,bgcolor='black',show_grid=False)\n",
    "map_tiles  = gv.WMTS(url).opts(style=dict(alpha=0.5), plot=tile_opts)\n",
    "points     = hv.Points(domain_latlong_df, ['lat', 'long'])\n",
    "taxi_trips = datashade(points, x_sampling=1, y_sampling=1, cmap=fire, width=1000, height=600)\n",
    "\n",
    "map_tiles * taxi_trips"
   ]
  },
  {
   "cell_type": "code",
   "execution_count": 96,
   "metadata": {},
   "outputs": [],
   "source": [
    "from ipyleaflet import Map, basemaps, basemap_to_tiles, Marker, Icon, Polyline, MarkerCluster\n",
    "\n",
    "center = (52.204793, 0.121558)\n",
    "center2 = (52.205793, 0.122558)\n",
    "\n",
    "m = Map(\n",
    "    layers=(basemap_to_tiles(basemaps.OpenStreetMap.Mapnik), ),\n",
    "    center=(52.204793, 0.121558),\n",
    "    zoom=5\n",
    ")\n",
    "\n",
    "\n",
    "icon = Icon(icon_url='marker-40.png', icon_size=[40, 40], icon_anchor=[22,94])\n",
    "# marker1 = Marker(location=center, icon=icon)\n",
    "#m.add_layer(marker1)\n",
    "\n",
    "# marker2 = Marker(location=center2, icon=icon)\n",
    "#m.add_layer(marker2)\n",
    "\n",
    "for row in country_group_df.iterrows():\n",
    "    # city = row[0][0]\n",
    "    country = row[0]\n",
    "    \n",
    "    domains = domain_latlong_df[(domain_latlong_df['country'] == country)]\n",
    "    \n",
    "    markers = []\n",
    "    \n",
    "    for row in domains.iterrows():\n",
    "        point = (row[1]['lat'], row[1]['lng'])\n",
    "        markers.append(Marker(location=point, icon=icon))\n",
    "\n",
    "    marker_cluster = MarkerCluster(\n",
    "        markers=markers\n",
    "    )\n",
    "\n",
    "    m.add_layer(marker_cluster);"
   ]
  },
  {
   "cell_type": "code",
   "execution_count": null,
   "metadata": {},
   "outputs": [],
   "source": [
    "for row in domain_latlong_df.iterrows():\n",
    "    point = (row[1]['lat'], row[1]['long'])\n",
    "    \n",
    "    marker = Marker(location=point, icon=icon, draggable=False)\n",
    "    m.add_layer(marker);"
   ]
  },
  {
   "cell_type": "code",
   "execution_count": null,
   "metadata": {},
   "outputs": [],
   "source": [
    "line = Polyline(\n",
    "    locations = \n",
    "    [[45.51, -122.68],\n",
    "    [37.77, -122.43]],\n",
    "    color = \"green\" ,\n",
    "    fill_color= \"green\",\n",
    "    weight=1,\n",
    "    stroke=True)\n",
    "m.add_layer(line)"
   ]
  },
  {
   "cell_type": "code",
   "execution_count": 101,
   "metadata": {},
   "outputs": [
    {
     "data": {
      "application/vnd.jupyter.widget-view+json": {
       "model_id": "1d4711f48f714aaf97dbcb8a8d2aa9a7",
       "version_major": 2,
       "version_minor": 0
      },
      "text/plain": [
       "Map(basemap={'url': 'https://{s}.tile.openstreetmap.org/{z}/{x}/{y}.png', 'max_zoom': 19, 'attribution': 'Map …"
      ]
     },
     "metadata": {},
     "output_type": "display_data"
    }
   ],
   "source": [
    "m"
   ]
  },
  {
   "cell_type": "code",
   "execution_count": null,
   "metadata": {},
   "outputs": [],
   "source": []
  }
 ],
 "metadata": {
  "kernelspec": {
   "display_name": "Python 3",
   "language": "python",
   "name": "python3"
  },
  "language_info": {
   "codemirror_mode": {
    "name": "ipython",
    "version": 3
   },
   "file_extension": ".py",
   "mimetype": "text/x-python",
   "name": "python",
   "nbconvert_exporter": "python",
   "pygments_lexer": "ipython3",
   "version": "3.6.7"
  }
 },
 "nbformat": 4,
 "nbformat_minor": 2
}
