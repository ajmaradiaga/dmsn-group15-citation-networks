{
 "cells": [
  {
   "cell_type": "code",
   "execution_count": 1,
   "metadata": {},
   "outputs": [
    {
     "data": {
      "text/html": [
       "\n",
       "    <div class=\"bk-root\">\n",
       "        <a href=\"https://bokeh.pydata.org\" target=\"_blank\" class=\"bk-logo bk-logo-small bk-logo-notebook\"></a>\n",
       "        <span id=\"1001\">Loading BokehJS ...</span>\n",
       "    </div>"
      ]
     },
     "metadata": {},
     "output_type": "display_data"
    },
    {
     "data": {
      "application/javascript": [
       "\n",
       "(function(root) {\n",
       "  function now() {\n",
       "    return new Date();\n",
       "  }\n",
       "\n",
       "  var force = true;\n",
       "\n",
       "  if (typeof (root._bokeh_onload_callbacks) === \"undefined\" || force === true) {\n",
       "    root._bokeh_onload_callbacks = [];\n",
       "    root._bokeh_is_loading = undefined;\n",
       "  }\n",
       "\n",
       "  var JS_MIME_TYPE = 'application/javascript';\n",
       "  var HTML_MIME_TYPE = 'text/html';\n",
       "  var EXEC_MIME_TYPE = 'application/vnd.bokehjs_exec.v0+json';\n",
       "  var CLASS_NAME = 'output_bokeh rendered_html';\n",
       "\n",
       "  /**\n",
       "   * Render data to the DOM node\n",
       "   */\n",
       "  function render(props, node) {\n",
       "    var script = document.createElement(\"script\");\n",
       "    node.appendChild(script);\n",
       "  }\n",
       "\n",
       "  /**\n",
       "   * Handle when an output is cleared or removed\n",
       "   */\n",
       "  function handleClearOutput(event, handle) {\n",
       "    var cell = handle.cell;\n",
       "\n",
       "    var id = cell.output_area._bokeh_element_id;\n",
       "    var server_id = cell.output_area._bokeh_server_id;\n",
       "    // Clean up Bokeh references\n",
       "    if (id != null && id in Bokeh.index) {\n",
       "      Bokeh.index[id].model.document.clear();\n",
       "      delete Bokeh.index[id];\n",
       "    }\n",
       "\n",
       "    if (server_id !== undefined) {\n",
       "      // Clean up Bokeh references\n",
       "      var cmd = \"from bokeh.io.state import curstate; print(curstate().uuid_to_server['\" + server_id + \"'].get_sessions()[0].document.roots[0]._id)\";\n",
       "      cell.notebook.kernel.execute(cmd, {\n",
       "        iopub: {\n",
       "          output: function(msg) {\n",
       "            var id = msg.content.text.trim();\n",
       "            if (id in Bokeh.index) {\n",
       "              Bokeh.index[id].model.document.clear();\n",
       "              delete Bokeh.index[id];\n",
       "            }\n",
       "          }\n",
       "        }\n",
       "      });\n",
       "      // Destroy server and session\n",
       "      var cmd = \"import bokeh.io.notebook as ion; ion.destroy_server('\" + server_id + \"')\";\n",
       "      cell.notebook.kernel.execute(cmd);\n",
       "    }\n",
       "  }\n",
       "\n",
       "  /**\n",
       "   * Handle when a new output is added\n",
       "   */\n",
       "  function handleAddOutput(event, handle) {\n",
       "    var output_area = handle.output_area;\n",
       "    var output = handle.output;\n",
       "\n",
       "    // limit handleAddOutput to display_data with EXEC_MIME_TYPE content only\n",
       "    if ((output.output_type != \"display_data\") || (!output.data.hasOwnProperty(EXEC_MIME_TYPE))) {\n",
       "      return\n",
       "    }\n",
       "\n",
       "    var toinsert = output_area.element.find(\".\" + CLASS_NAME.split(' ')[0]);\n",
       "\n",
       "    if (output.metadata[EXEC_MIME_TYPE][\"id\"] !== undefined) {\n",
       "      toinsert[toinsert.length - 1].firstChild.textContent = output.data[JS_MIME_TYPE];\n",
       "      // store reference to embed id on output_area\n",
       "      output_area._bokeh_element_id = output.metadata[EXEC_MIME_TYPE][\"id\"];\n",
       "    }\n",
       "    if (output.metadata[EXEC_MIME_TYPE][\"server_id\"] !== undefined) {\n",
       "      var bk_div = document.createElement(\"div\");\n",
       "      bk_div.innerHTML = output.data[HTML_MIME_TYPE];\n",
       "      var script_attrs = bk_div.children[0].attributes;\n",
       "      for (var i = 0; i < script_attrs.length; i++) {\n",
       "        toinsert[toinsert.length - 1].firstChild.setAttribute(script_attrs[i].name, script_attrs[i].value);\n",
       "      }\n",
       "      // store reference to server id on output_area\n",
       "      output_area._bokeh_server_id = output.metadata[EXEC_MIME_TYPE][\"server_id\"];\n",
       "    }\n",
       "  }\n",
       "\n",
       "  function register_renderer(events, OutputArea) {\n",
       "\n",
       "    function append_mime(data, metadata, element) {\n",
       "      // create a DOM node to render to\n",
       "      var toinsert = this.create_output_subarea(\n",
       "        metadata,\n",
       "        CLASS_NAME,\n",
       "        EXEC_MIME_TYPE\n",
       "      );\n",
       "      this.keyboard_manager.register_events(toinsert);\n",
       "      // Render to node\n",
       "      var props = {data: data, metadata: metadata[EXEC_MIME_TYPE]};\n",
       "      render(props, toinsert[toinsert.length - 1]);\n",
       "      element.append(toinsert);\n",
       "      return toinsert\n",
       "    }\n",
       "\n",
       "    /* Handle when an output is cleared or removed */\n",
       "    events.on('clear_output.CodeCell', handleClearOutput);\n",
       "    events.on('delete.Cell', handleClearOutput);\n",
       "\n",
       "    /* Handle when a new output is added */\n",
       "    events.on('output_added.OutputArea', handleAddOutput);\n",
       "\n",
       "    /**\n",
       "     * Register the mime type and append_mime function with output_area\n",
       "     */\n",
       "    OutputArea.prototype.register_mime_type(EXEC_MIME_TYPE, append_mime, {\n",
       "      /* Is output safe? */\n",
       "      safe: true,\n",
       "      /* Index of renderer in `output_area.display_order` */\n",
       "      index: 0\n",
       "    });\n",
       "  }\n",
       "\n",
       "  // register the mime type if in Jupyter Notebook environment and previously unregistered\n",
       "  if (root.Jupyter !== undefined) {\n",
       "    var events = require('base/js/events');\n",
       "    var OutputArea = require('notebook/js/outputarea').OutputArea;\n",
       "\n",
       "    if (OutputArea.prototype.mime_types().indexOf(EXEC_MIME_TYPE) == -1) {\n",
       "      register_renderer(events, OutputArea);\n",
       "    }\n",
       "  }\n",
       "\n",
       "  \n",
       "  if (typeof (root._bokeh_timeout) === \"undefined\" || force === true) {\n",
       "    root._bokeh_timeout = Date.now() + 5000;\n",
       "    root._bokeh_failed_load = false;\n",
       "  }\n",
       "\n",
       "  var NB_LOAD_WARNING = {'data': {'text/html':\n",
       "     \"<div style='background-color: #fdd'>\\n\"+\n",
       "     \"<p>\\n\"+\n",
       "     \"BokehJS does not appear to have successfully loaded. If loading BokehJS from CDN, this \\n\"+\n",
       "     \"may be due to a slow or bad network connection. Possible fixes:\\n\"+\n",
       "     \"</p>\\n\"+\n",
       "     \"<ul>\\n\"+\n",
       "     \"<li>re-rerun `output_notebook()` to attempt to load from CDN again, or</li>\\n\"+\n",
       "     \"<li>use INLINE resources instead, as so:</li>\\n\"+\n",
       "     \"</ul>\\n\"+\n",
       "     \"<code>\\n\"+\n",
       "     \"from bokeh.resources import INLINE\\n\"+\n",
       "     \"output_notebook(resources=INLINE)\\n\"+\n",
       "     \"</code>\\n\"+\n",
       "     \"</div>\"}};\n",
       "\n",
       "  function display_loaded() {\n",
       "    var el = document.getElementById(\"1001\");\n",
       "    if (el != null) {\n",
       "      el.textContent = \"BokehJS is loading...\";\n",
       "    }\n",
       "    if (root.Bokeh !== undefined) {\n",
       "      if (el != null) {\n",
       "        el.textContent = \"BokehJS \" + root.Bokeh.version + \" successfully loaded.\";\n",
       "      }\n",
       "    } else if (Date.now() < root._bokeh_timeout) {\n",
       "      setTimeout(display_loaded, 100)\n",
       "    }\n",
       "  }\n",
       "\n",
       "\n",
       "  function run_callbacks() {\n",
       "    try {\n",
       "      root._bokeh_onload_callbacks.forEach(function(callback) { callback() });\n",
       "    }\n",
       "    finally {\n",
       "      delete root._bokeh_onload_callbacks\n",
       "    }\n",
       "    console.info(\"Bokeh: all callbacks have finished\");\n",
       "  }\n",
       "\n",
       "  function load_libs(js_urls, callback) {\n",
       "    root._bokeh_onload_callbacks.push(callback);\n",
       "    if (root._bokeh_is_loading > 0) {\n",
       "      console.log(\"Bokeh: BokehJS is being loaded, scheduling callback at\", now());\n",
       "      return null;\n",
       "    }\n",
       "    if (js_urls == null || js_urls.length === 0) {\n",
       "      run_callbacks();\n",
       "      return null;\n",
       "    }\n",
       "    console.log(\"Bokeh: BokehJS not loaded, scheduling load and callback at\", now());\n",
       "    root._bokeh_is_loading = js_urls.length;\n",
       "    for (var i = 0; i < js_urls.length; i++) {\n",
       "      var url = js_urls[i];\n",
       "      var s = document.createElement('script');\n",
       "      s.src = url;\n",
       "      s.async = false;\n",
       "      s.onreadystatechange = s.onload = function() {\n",
       "        root._bokeh_is_loading--;\n",
       "        if (root._bokeh_is_loading === 0) {\n",
       "          console.log(\"Bokeh: all BokehJS libraries loaded\");\n",
       "          run_callbacks()\n",
       "        }\n",
       "      };\n",
       "      s.onerror = function() {\n",
       "        console.warn(\"failed to load library \" + url);\n",
       "      };\n",
       "      console.log(\"Bokeh: injecting script tag for BokehJS library: \", url);\n",
       "      document.getElementsByTagName(\"head\")[0].appendChild(s);\n",
       "    }\n",
       "  };var element = document.getElementById(\"1001\");\n",
       "  if (element == null) {\n",
       "    console.log(\"Bokeh: ERROR: autoload.js configured with elementid '1001' but no matching script tag was found. \")\n",
       "    return false;\n",
       "  }\n",
       "\n",
       "  var js_urls = [\"https://cdn.pydata.org/bokeh/release/bokeh-1.0.4.min.js\", \"https://cdn.pydata.org/bokeh/release/bokeh-widgets-1.0.4.min.js\", \"https://cdn.pydata.org/bokeh/release/bokeh-tables-1.0.4.min.js\", \"https://cdn.pydata.org/bokeh/release/bokeh-gl-1.0.4.min.js\"];\n",
       "\n",
       "  var inline_js = [\n",
       "    function(Bokeh) {\n",
       "      Bokeh.set_log_level(\"info\");\n",
       "    },\n",
       "    \n",
       "    function(Bokeh) {\n",
       "      \n",
       "    },\n",
       "    function(Bokeh) {\n",
       "      console.log(\"Bokeh: injecting CSS: https://cdn.pydata.org/bokeh/release/bokeh-1.0.4.min.css\");\n",
       "      Bokeh.embed.inject_css(\"https://cdn.pydata.org/bokeh/release/bokeh-1.0.4.min.css\");\n",
       "      console.log(\"Bokeh: injecting CSS: https://cdn.pydata.org/bokeh/release/bokeh-widgets-1.0.4.min.css\");\n",
       "      Bokeh.embed.inject_css(\"https://cdn.pydata.org/bokeh/release/bokeh-widgets-1.0.4.min.css\");\n",
       "      console.log(\"Bokeh: injecting CSS: https://cdn.pydata.org/bokeh/release/bokeh-tables-1.0.4.min.css\");\n",
       "      Bokeh.embed.inject_css(\"https://cdn.pydata.org/bokeh/release/bokeh-tables-1.0.4.min.css\");\n",
       "    }\n",
       "  ];\n",
       "\n",
       "  function run_inline_js() {\n",
       "    \n",
       "    if ((root.Bokeh !== undefined) || (force === true)) {\n",
       "      for (var i = 0; i < inline_js.length; i++) {\n",
       "        inline_js[i].call(root, root.Bokeh);\n",
       "      }if (force === true) {\n",
       "        display_loaded();\n",
       "      }} else if (Date.now() < root._bokeh_timeout) {\n",
       "      setTimeout(run_inline_js, 100);\n",
       "    } else if (!root._bokeh_failed_load) {\n",
       "      console.log(\"Bokeh: BokehJS failed to load within specified timeout.\");\n",
       "      root._bokeh_failed_load = true;\n",
       "    } else if (force !== true) {\n",
       "      var cell = $(document.getElementById(\"1001\")).parents('.cell').data().cell;\n",
       "      cell.output_area.append_execute_result(NB_LOAD_WARNING)\n",
       "    }\n",
       "\n",
       "  }\n",
       "\n",
       "  if (root._bokeh_is_loading === 0) {\n",
       "    console.log(\"Bokeh: BokehJS loaded, going straight to plotting\");\n",
       "    run_inline_js();\n",
       "  } else {\n",
       "    load_libs(js_urls, function() {\n",
       "      console.log(\"Bokeh: BokehJS plotting callback run at\", now());\n",
       "      run_inline_js();\n",
       "    });\n",
       "  }\n",
       "}(window));"
      ],
      "application/vnd.bokehjs_load.v0+json": "\n(function(root) {\n  function now() {\n    return new Date();\n  }\n\n  var force = true;\n\n  if (typeof (root._bokeh_onload_callbacks) === \"undefined\" || force === true) {\n    root._bokeh_onload_callbacks = [];\n    root._bokeh_is_loading = undefined;\n  }\n\n  \n\n  \n  if (typeof (root._bokeh_timeout) === \"undefined\" || force === true) {\n    root._bokeh_timeout = Date.now() + 5000;\n    root._bokeh_failed_load = false;\n  }\n\n  var NB_LOAD_WARNING = {'data': {'text/html':\n     \"<div style='background-color: #fdd'>\\n\"+\n     \"<p>\\n\"+\n     \"BokehJS does not appear to have successfully loaded. If loading BokehJS from CDN, this \\n\"+\n     \"may be due to a slow or bad network connection. Possible fixes:\\n\"+\n     \"</p>\\n\"+\n     \"<ul>\\n\"+\n     \"<li>re-rerun `output_notebook()` to attempt to load from CDN again, or</li>\\n\"+\n     \"<li>use INLINE resources instead, as so:</li>\\n\"+\n     \"</ul>\\n\"+\n     \"<code>\\n\"+\n     \"from bokeh.resources import INLINE\\n\"+\n     \"output_notebook(resources=INLINE)\\n\"+\n     \"</code>\\n\"+\n     \"</div>\"}};\n\n  function display_loaded() {\n    var el = document.getElementById(\"1001\");\n    if (el != null) {\n      el.textContent = \"BokehJS is loading...\";\n    }\n    if (root.Bokeh !== undefined) {\n      if (el != null) {\n        el.textContent = \"BokehJS \" + root.Bokeh.version + \" successfully loaded.\";\n      }\n    } else if (Date.now() < root._bokeh_timeout) {\n      setTimeout(display_loaded, 100)\n    }\n  }\n\n\n  function run_callbacks() {\n    try {\n      root._bokeh_onload_callbacks.forEach(function(callback) { callback() });\n    }\n    finally {\n      delete root._bokeh_onload_callbacks\n    }\n    console.info(\"Bokeh: all callbacks have finished\");\n  }\n\n  function load_libs(js_urls, callback) {\n    root._bokeh_onload_callbacks.push(callback);\n    if (root._bokeh_is_loading > 0) {\n      console.log(\"Bokeh: BokehJS is being loaded, scheduling callback at\", now());\n      return null;\n    }\n    if (js_urls == null || js_urls.length === 0) {\n      run_callbacks();\n      return null;\n    }\n    console.log(\"Bokeh: BokehJS not loaded, scheduling load and callback at\", now());\n    root._bokeh_is_loading = js_urls.length;\n    for (var i = 0; i < js_urls.length; i++) {\n      var url = js_urls[i];\n      var s = document.createElement('script');\n      s.src = url;\n      s.async = false;\n      s.onreadystatechange = s.onload = function() {\n        root._bokeh_is_loading--;\n        if (root._bokeh_is_loading === 0) {\n          console.log(\"Bokeh: all BokehJS libraries loaded\");\n          run_callbacks()\n        }\n      };\n      s.onerror = function() {\n        console.warn(\"failed to load library \" + url);\n      };\n      console.log(\"Bokeh: injecting script tag for BokehJS library: \", url);\n      document.getElementsByTagName(\"head\")[0].appendChild(s);\n    }\n  };var element = document.getElementById(\"1001\");\n  if (element == null) {\n    console.log(\"Bokeh: ERROR: autoload.js configured with elementid '1001' but no matching script tag was found. \")\n    return false;\n  }\n\n  var js_urls = [\"https://cdn.pydata.org/bokeh/release/bokeh-1.0.4.min.js\", \"https://cdn.pydata.org/bokeh/release/bokeh-widgets-1.0.4.min.js\", \"https://cdn.pydata.org/bokeh/release/bokeh-tables-1.0.4.min.js\", \"https://cdn.pydata.org/bokeh/release/bokeh-gl-1.0.4.min.js\"];\n\n  var inline_js = [\n    function(Bokeh) {\n      Bokeh.set_log_level(\"info\");\n    },\n    \n    function(Bokeh) {\n      \n    },\n    function(Bokeh) {\n      console.log(\"Bokeh: injecting CSS: https://cdn.pydata.org/bokeh/release/bokeh-1.0.4.min.css\");\n      Bokeh.embed.inject_css(\"https://cdn.pydata.org/bokeh/release/bokeh-1.0.4.min.css\");\n      console.log(\"Bokeh: injecting CSS: https://cdn.pydata.org/bokeh/release/bokeh-widgets-1.0.4.min.css\");\n      Bokeh.embed.inject_css(\"https://cdn.pydata.org/bokeh/release/bokeh-widgets-1.0.4.min.css\");\n      console.log(\"Bokeh: injecting CSS: https://cdn.pydata.org/bokeh/release/bokeh-tables-1.0.4.min.css\");\n      Bokeh.embed.inject_css(\"https://cdn.pydata.org/bokeh/release/bokeh-tables-1.0.4.min.css\");\n    }\n  ];\n\n  function run_inline_js() {\n    \n    if ((root.Bokeh !== undefined) || (force === true)) {\n      for (var i = 0; i < inline_js.length; i++) {\n        inline_js[i].call(root, root.Bokeh);\n      }if (force === true) {\n        display_loaded();\n      }} else if (Date.now() < root._bokeh_timeout) {\n      setTimeout(run_inline_js, 100);\n    } else if (!root._bokeh_failed_load) {\n      console.log(\"Bokeh: BokehJS failed to load within specified timeout.\");\n      root._bokeh_failed_load = true;\n    } else if (force !== true) {\n      var cell = $(document.getElementById(\"1001\")).parents('.cell').data().cell;\n      cell.output_area.append_execute_result(NB_LOAD_WARNING)\n    }\n\n  }\n\n  if (root._bokeh_is_loading === 0) {\n    console.log(\"Bokeh: BokehJS loaded, going straight to plotting\");\n    run_inline_js();\n  } else {\n    load_libs(js_urls, function() {\n      console.log(\"Bokeh: BokehJS plotting callback run at\", now());\n      run_inline_js();\n    });\n  }\n}(window));"
     },
     "metadata": {},
     "output_type": "display_data"
    }
   ],
   "source": [
    "import os\n",
    "import re\n",
    "\n",
    "import numpy as np\n",
    "import pandas as pd\n",
    "\n",
    "from helper import display_df_with_bokeh"
   ]
  },
  {
   "cell_type": "code",
   "execution_count": 2,
   "metadata": {},
   "outputs": [],
   "source": [
    "DATASETS_FOLDER = \"datasets\""
   ]
  },
  {
   "cell_type": "code",
   "execution_count": 3,
   "metadata": {},
   "outputs": [],
   "source": [
    "# Opening original network with modularity\n",
    "with open(f\"gephi/nodes_with_modularity_and_degree.csv\", 'r') as f:\n",
    "    gephi_df = pd.read_csv(f, header=0)"
   ]
  },
  {
   "cell_type": "code",
   "execution_count": 4,
   "metadata": {},
   "outputs": [
    {
     "data": {
      "text/html": [
       "\n",
       "\n",
       "\n",
       "\n",
       "\n",
       "\n",
       "  <div class=\"bk-root\" id=\"968ee080-5f21-438b-99f6-735ee36e5f84\" data-root-id=\"1010\"></div>\n"
      ]
     },
     "metadata": {},
     "output_type": "display_data"
    },
    {
     "data": {
      "application/javascript": [
       "(function(root) {\n",
       "  function embed_document(root) {\n",
       "    \n",
       "  var docs_json = {\"19be1b3a-caca-436a-b393-331c7ac4a7c9\":{\"roots\":{\"references\":[{\"attributes\":{\"columns\":[{\"id\":\"1002\",\"type\":\"TableColumn\"},{\"id\":\"1003\",\"type\":\"TableColumn\"},{\"id\":\"1004\",\"type\":\"TableColumn\"},{\"id\":\"1005\",\"type\":\"TableColumn\"},{\"id\":\"1006\",\"type\":\"TableColumn\"},{\"id\":\"1007\",\"type\":\"TableColumn\"},{\"id\":\"1008\",\"type\":\"TableColumn\"}],\"source\":{\"id\":\"1009\",\"type\":\"ColumnDataSource\"},\"view\":{\"id\":\"1011\",\"type\":\"CDSView\"}},\"id\":\"1010\",\"type\":\"DataTable\"},{\"attributes\":{\"editor\":{\"id\":\"1013\",\"type\":\"StringEditor\"},\"field\":\"modularity_class\",\"formatter\":{\"id\":\"1012\",\"type\":\"StringFormatter\"},\"title\":\"modularity_class\"},\"id\":\"1002\",\"type\":\"TableColumn\"},{\"attributes\":{},\"id\":\"1019\",\"type\":\"StringEditor\"},{\"attributes\":{},\"id\":\"1020\",\"type\":\"StringFormatter\"},{\"attributes\":{\"editor\":{\"id\":\"1015\",\"type\":\"StringEditor\"},\"field\":\"Id\",\"formatter\":{\"id\":\"1014\",\"type\":\"StringFormatter\"},\"title\":\"Id\"},\"id\":\"1003\",\"type\":\"TableColumn\"},{\"attributes\":{},\"id\":\"1021\",\"type\":\"StringEditor\"},{\"attributes\":{\"editor\":{\"id\":\"1017\",\"type\":\"StringEditor\"},\"field\":\"Label\",\"formatter\":{\"id\":\"1016\",\"type\":\"StringFormatter\"},\"title\":\"Label\"},\"id\":\"1004\",\"type\":\"TableColumn\"},{\"attributes\":{},\"id\":\"1022\",\"type\":\"StringFormatter\"},{\"attributes\":{\"editor\":{\"id\":\"1019\",\"type\":\"StringEditor\"},\"field\":\"timeset\",\"formatter\":{\"id\":\"1018\",\"type\":\"StringFormatter\"},\"title\":\"timeset\"},\"id\":\"1005\",\"type\":\"TableColumn\"},{\"attributes\":{},\"id\":\"1023\",\"type\":\"StringEditor\"},{\"attributes\":{\"editor\":{\"id\":\"1021\",\"type\":\"StringEditor\"},\"field\":\"indegree\",\"formatter\":{\"id\":\"1020\",\"type\":\"StringFormatter\"},\"title\":\"indegree\"},\"id\":\"1006\",\"type\":\"TableColumn\"},{\"attributes\":{},\"id\":\"1024\",\"type\":\"StringFormatter\"},{\"attributes\":{\"editor\":{\"id\":\"1023\",\"type\":\"StringEditor\"},\"field\":\"outdegree\",\"formatter\":{\"id\":\"1022\",\"type\":\"StringFormatter\"},\"title\":\"outdegree\"},\"id\":\"1007\",\"type\":\"TableColumn\"},{\"attributes\":{},\"id\":\"1025\",\"type\":\"StringEditor\"},{\"attributes\":{\"editor\":{\"id\":\"1025\",\"type\":\"StringEditor\"},\"field\":\"Degree\",\"formatter\":{\"id\":\"1024\",\"type\":\"StringFormatter\"},\"title\":\"Degree\"},\"id\":\"1008\",\"type\":\"TableColumn\"},{\"attributes\":{},\"id\":\"1026\",\"type\":\"UnionRenderers\"},{\"attributes\":{\"callback\":null,\"data\":{\"Degree\":[3378,2370,2337,1899,1668,1562,1550,1538,1508,1492,1392,1281,1190,994,953,910,658,288,219,173],\"Id\":[3378,2370,2337,1899,1668,1562,1550,1538,1508,1492,1392,1281,1190,994,953,910,658,288,219,173],\"Label\":[3378,2370,2337,1899,1668,1562,1550,1538,1508,1492,1392,1281,1190,994,953,910,658,288,219,173],\"indegree\":[3378,2370,2337,1899,1668,1562,1550,1538,1508,1492,1392,1281,1190,994,953,910,658,288,219,173],\"modularity_class\":[2,34,37,54,62,11,3,16,7,25,0,6,8,1,19,4,65,31,9,14],\"outdegree\":[3378,2370,2337,1899,1668,1562,1550,1538,1508,1492,1392,1281,1190,994,953,910,658,288,219,173],\"timeset\":[0,0,0,0,0,0,0,0,0,0,0,0,0,0,0,0,0,0,0,0]},\"selected\":{\"id\":\"1027\",\"type\":\"Selection\"},\"selection_policy\":{\"id\":\"1026\",\"type\":\"UnionRenderers\"}},\"id\":\"1009\",\"type\":\"ColumnDataSource\"},{\"attributes\":{},\"id\":\"1013\",\"type\":\"StringEditor\"},{\"attributes\":{},\"id\":\"1012\",\"type\":\"StringFormatter\"},{\"attributes\":{\"source\":{\"id\":\"1009\",\"type\":\"ColumnDataSource\"}},\"id\":\"1011\",\"type\":\"CDSView\"},{\"attributes\":{},\"id\":\"1027\",\"type\":\"Selection\"},{\"attributes\":{},\"id\":\"1014\",\"type\":\"StringFormatter\"},{\"attributes\":{},\"id\":\"1015\",\"type\":\"StringEditor\"},{\"attributes\":{},\"id\":\"1016\",\"type\":\"StringFormatter\"},{\"attributes\":{},\"id\":\"1017\",\"type\":\"StringEditor\"},{\"attributes\":{},\"id\":\"1018\",\"type\":\"StringFormatter\"}],\"root_ids\":[\"1010\"]},\"title\":\"Bokeh Application\",\"version\":\"1.0.4\"}};\n",
       "  var render_items = [{\"docid\":\"19be1b3a-caca-436a-b393-331c7ac4a7c9\",\"roots\":{\"1010\":\"968ee080-5f21-438b-99f6-735ee36e5f84\"}}];\n",
       "  root.Bokeh.embed.embed_items_notebook(docs_json, render_items);\n",
       "\n",
       "  }\n",
       "  if (root.Bokeh !== undefined) {\n",
       "    embed_document(root);\n",
       "  } else {\n",
       "    var attempts = 0;\n",
       "    var timer = setInterval(function(root) {\n",
       "      if (root.Bokeh !== undefined) {\n",
       "        embed_document(root);\n",
       "        clearInterval(timer);\n",
       "      }\n",
       "      attempts++;\n",
       "      if (attempts > 100) {\n",
       "        console.log(\"Bokeh: ERROR: Unable to run BokehJS code because BokehJS library is missing\");\n",
       "        clearInterval(timer);\n",
       "      }\n",
       "    }, 10, root)\n",
       "  }\n",
       "})(window);"
      ],
      "application/vnd.bokehjs_exec.v0+json": ""
     },
     "metadata": {
      "application/vnd.bokehjs_exec.v0+json": {
       "id": "1010"
      }
     },
     "output_type": "display_data"
    }
   ],
   "source": [
    "# Calculate records per group\n",
    "modularity_df = gephi_df.groupby('modularity_class').count().sort_values('Id', ascending = False)\n",
    "\n",
    "# Only taking in consideration where groups have more than 10 nodes\n",
    "modularity_mt_nodes_df = modularity_df[modularity_df.Id >= 10]\n",
    "\n",
    "display_df_with_bokeh(modularity_mt_nodes_df, include_index=True)"
   ]
  },
  {
   "cell_type": "code",
   "execution_count": 5,
   "metadata": {},
   "outputs": [
    {
     "name": "stdout",
     "output_type": "stream",
     "text": [
      "Total nodes that form part of communities with more than 10 members:  27391\n"
     ]
    }
   ],
   "source": [
    "print(\"Total nodes that form part of communities with more than 10 members: \", modularity_mt_nodes_df.sum()['Id'])\n"
   ]
  },
  {
   "cell_type": "code",
   "execution_count": 6,
   "metadata": {},
   "outputs": [
    {
     "name": "stdout",
     "output_type": "stream",
     "text": [
      "Total nodes that form part of communities with less than 10 members:  379\n"
     ]
    }
   ],
   "source": [
    "print(\"Total nodes that form part of communities with less than 10 members: \", modularity_df[modularity_df.Id < 10].sum()['Id'])\n"
   ]
  },
  {
   "cell_type": "code",
   "execution_count": 7,
   "metadata": {},
   "outputs": [
    {
     "data": {
      "text/html": [
       "<div>\n",
       "<style scoped>\n",
       "    .dataframe tbody tr th:only-of-type {\n",
       "        vertical-align: middle;\n",
       "    }\n",
       "\n",
       "    .dataframe tbody tr th {\n",
       "        vertical-align: top;\n",
       "    }\n",
       "\n",
       "    .dataframe thead th {\n",
       "        text-align: right;\n",
       "    }\n",
       "</style>\n",
       "<table border=\"1\" class=\"dataframe\">\n",
       "  <thead>\n",
       "    <tr style=\"text-align: right;\">\n",
       "      <th></th>\n",
       "      <th>Label</th>\n",
       "      <th>timeset</th>\n",
       "      <th>indegree</th>\n",
       "      <th>outdegree</th>\n",
       "      <th>Degree</th>\n",
       "    </tr>\n",
       "    <tr>\n",
       "      <th>Id</th>\n",
       "      <th></th>\n",
       "      <th></th>\n",
       "      <th></th>\n",
       "      <th></th>\n",
       "      <th></th>\n",
       "    </tr>\n",
       "  </thead>\n",
       "  <tbody>\n",
       "    <tr>\n",
       "      <th>1</th>\n",
       "      <td>1</td>\n",
       "      <td>1</td>\n",
       "      <td>1</td>\n",
       "      <td>1</td>\n",
       "      <td>1</td>\n",
       "    </tr>\n",
       "    <tr>\n",
       "      <th>2</th>\n",
       "      <td>93</td>\n",
       "      <td>93</td>\n",
       "      <td>93</td>\n",
       "      <td>93</td>\n",
       "      <td>93</td>\n",
       "    </tr>\n",
       "    <tr>\n",
       "      <th>3</th>\n",
       "      <td>29</td>\n",
       "      <td>29</td>\n",
       "      <td>29</td>\n",
       "      <td>29</td>\n",
       "      <td>29</td>\n",
       "    </tr>\n",
       "    <tr>\n",
       "      <th>4</th>\n",
       "      <td>9</td>\n",
       "      <td>9</td>\n",
       "      <td>9</td>\n",
       "      <td>9</td>\n",
       "      <td>9</td>\n",
       "    </tr>\n",
       "    <tr>\n",
       "      <th>5</th>\n",
       "      <td>6</td>\n",
       "      <td>6</td>\n",
       "      <td>6</td>\n",
       "      <td>6</td>\n",
       "      <td>6</td>\n",
       "    </tr>\n",
       "    <tr>\n",
       "      <th>6</th>\n",
       "      <td>4</td>\n",
       "      <td>4</td>\n",
       "      <td>4</td>\n",
       "      <td>4</td>\n",
       "      <td>4</td>\n",
       "    </tr>\n",
       "    <tr>\n",
       "      <th>7</th>\n",
       "      <td>1</td>\n",
       "      <td>1</td>\n",
       "      <td>1</td>\n",
       "      <td>1</td>\n",
       "      <td>1</td>\n",
       "    </tr>\n",
       "    <tr>\n",
       "      <th>8</th>\n",
       "      <td>1</td>\n",
       "      <td>1</td>\n",
       "      <td>1</td>\n",
       "      <td>1</td>\n",
       "      <td>1</td>\n",
       "    </tr>\n",
       "  </tbody>\n",
       "</table>\n",
       "</div>"
      ],
      "text/plain": [
       "    Label  timeset  indegree  outdegree  Degree\n",
       "Id                                             \n",
       "1       1        1         1          1       1\n",
       "2      93       93        93         93      93\n",
       "3      29       29        29         29      29\n",
       "4       9        9         9          9       9\n",
       "5       6        6         6          6       6\n",
       "6       4        4         4          4       4\n",
       "7       1        1         1          1       1\n",
       "8       1        1         1          1       1"
      ]
     },
     "execution_count": 7,
     "metadata": {},
     "output_type": "execute_result"
    }
   ],
   "source": [
    "modularity_df[modularity_df.Id < 10].groupby('Id').count()"
   ]
  },
  {
   "cell_type": "code",
   "execution_count": 8,
   "metadata": {},
   "outputs": [
    {
     "data": {
      "text/plain": [
       "27391"
      ]
     },
     "execution_count": 8,
     "metadata": {},
     "output_type": "execute_result"
    }
   ],
   "source": [
    "total_nodes = modularity_mt_nodes_df.sum()['Id']\n",
    "total_nodes"
   ]
  },
  {
   "cell_type": "code",
   "execution_count": 9,
   "metadata": {},
   "outputs": [],
   "source": [
    "# DF will contain the most important nodes of each modularity class\n",
    "nodes_per_modularity_class_df = None"
   ]
  },
  {
   "cell_type": "code",
   "execution_count": 10,
   "metadata": {},
   "outputs": [
    {
     "name": "stdout",
     "output_type": "stream",
     "text": [
      "Modularity class: 2 - Total nodes in class: 3378 - Proportion of final network: 0.12332517980358512 - New total 418\n",
      "Modularity class: 34 - Total nodes in class: 2370 - Proportion of final network: 0.08652477091015297 - New total 206\n",
      "Modularity class: 37 - Total nodes in class: 2337 - Proportion of final network: 0.08531999561899895 - New total 200\n",
      "Modularity class: 54 - Total nodes in class: 1899 - Proportion of final network: 0.06932934175459092 - New total 133\n",
      "Modularity class: 62 - Total nodes in class: 1668 - Proportion of final network: 0.060895914716512727 - New total 103\n",
      "Modularity class: 11 - Total nodes in class: 1562 - Proportion of final network: 0.05702603044795736 - New total 90\n",
      "Modularity class: 3 - Total nodes in class: 1550 - Proportion of final network: 0.05658793034208317 - New total 89\n",
      "Modularity class: 16 - Total nodes in class: 1538 - Proportion of final network: 0.056149830236208974 - New total 87\n",
      "Modularity class: 7 - Total nodes in class: 1508 - Proportion of final network: 0.05505457997152349 - New total 84\n",
      "Modularity class: 25 - Total nodes in class: 1492 - Proportion of final network: 0.05447044649702457 - New total 82\n",
      "Modularity class: 0 - Total nodes in class: 1392 - Proportion of final network: 0.0508196122814063 - New total 72\n",
      "Modularity class: 6 - Total nodes in class: 1281 - Proportion of final network: 0.046767186302070024 - New total 61\n",
      "Modularity class: 8 - Total nodes in class: 1190 - Proportion of final network: 0.0434449271658574 - New total 53\n",
      "Modularity class: 1 - Total nodes in class: 994 - Proportion of final network: 0.03628929210324559 - New total 37\n",
      "Modularity class: 19 - Total nodes in class: 953 - Proportion of final network: 0.0347924500748421 - New total 34\n",
      "Modularity class: 4 - Total nodes in class: 910 - Proportion of final network: 0.03322259136212625 - New total 31\n",
      "Modularity class: 65 - Total nodes in class: 658 - Proportion of final network: 0.02402248913876821 - New total 17\n",
      "Modularity class: 31 - Total nodes in class: 288 - Proportion of final network: 0.010514402540980614 - New total 4\n",
      "Modularity class: 9 - Total nodes in class: 219 - Proportion of final network: 0.007995326932204009 - New total 3\n",
      "Modularity class: 14 - Total nodes in class: 173 - Proportion of final network: 0.006315943193019605 - New total 2\n",
      "Modularity class: 13 - Total nodes in class: 11 - Proportion of final network: 0.00040159176371800954 - New total 1\n",
      "Modularity class: 49 - Total nodes in class: 10 - Proportion of final network: 0.0003650834215618269 - New total 1\n",
      "Modularity class: 46 - Total nodes in class: 10 - Proportion of final network: 0.0003650834215618269 - New total 1\n"
     ]
    }
   ],
   "source": [
    "for row in modularity_mt_nodes_df.iterrows():\n",
    "    \n",
    "    modularity = row[0]\n",
    "    \n",
    "    total_nodes_in_class = modularity_mt_nodes_df.loc[modularity]['Id']\n",
    "    proportion_of_network = (total_nodes_in_class / total_nodes)\n",
    "    subset_of_nodes = int(round(proportion_of_network * total_nodes_in_class)) + 1\n",
    "    \n",
    "    print(f\"Modularity class: {modularity} - Total nodes in class: {total_nodes_in_class} - Proportion of final network: {proportion_of_network} - New total {subset_of_nodes}\")\n",
    "    \n",
    "    aux = gephi_df[gephi_df.modularity_class == modularity].sort_values('Degree', ascending=False)[:subset_of_nodes]\n",
    "    \n",
    "    if nodes_per_modularity_class_df is None:\n",
    "        nodes_per_modularity_class_df = aux\n",
    "    else:\n",
    "        nodes_per_modularity_class_df = nodes_per_modularity_class_df.append(aux, ignore_index=True)"
   ]
  },
  {
   "cell_type": "code",
   "execution_count": 11,
   "metadata": {},
   "outputs": [
    {
     "data": {
      "text/html": [
       "\n",
       "\n",
       "\n",
       "\n",
       "\n",
       "\n",
       "  <div class=\"bk-root\" id=\"1bebc40b-1103-4f56-9267-fb31f88e76dc\" data-root-id=\"1116\"></div>\n"
      ]
     },
     "metadata": {},
     "output_type": "display_data"
    },
    {
     "data": {
      "application/javascript": [
       "(function(root) {\n",
       "  function embed_document(root) {\n",
       "    \n",
       "  var docs_json = {\"649aae2b-093c-4ce7-a8b0-d753facaca9b\":{\"roots\":{\"references\":[{\"attributes\":{\"columns\":[{\"id\":\"1108\",\"type\":\"TableColumn\"},{\"id\":\"1109\",\"type\":\"TableColumn\"},{\"id\":\"1110\",\"type\":\"TableColumn\"},{\"id\":\"1111\",\"type\":\"TableColumn\"},{\"id\":\"1112\",\"type\":\"TableColumn\"},{\"id\":\"1113\",\"type\":\"TableColumn\"},{\"id\":\"1114\",\"type\":\"TableColumn\"}],\"source\":{\"id\":\"1115\",\"type\":\"ColumnDataSource\"},\"view\":{\"id\":\"1117\",\"type\":\"CDSView\"}},\"id\":\"1116\",\"type\":\"DataTable\"},{\"attributes\":{\"editor\":{\"id\":\"1141\",\"type\":\"StringEditor\"},\"field\":\"modularity_class\",\"formatter\":{\"id\":\"1140\",\"type\":\"StringFormatter\"},\"title\":\"modularity_class\"},\"id\":\"1111\",\"type\":\"TableColumn\"},{\"attributes\":{},\"id\":\"1146\",\"type\":\"StringFormatter\"},{\"attributes\":{\"editor\":{\"id\":\"1145\",\"type\":\"StringEditor\"},\"field\":\"outdegree\",\"formatter\":{\"id\":\"1144\",\"type\":\"StringFormatter\"},\"title\":\"outdegree\"},\"id\":\"1113\",\"type\":\"TableColumn\"},{\"attributes\":{},\"id\":\"1147\",\"type\":\"StringEditor\"},{\"attributes\":{\"editor\":{\"id\":\"1143\",\"type\":\"StringEditor\"},\"field\":\"indegree\",\"formatter\":{\"id\":\"1142\",\"type\":\"StringFormatter\"},\"title\":\"indegree\"},\"id\":\"1112\",\"type\":\"TableColumn\"},{\"attributes\":{},\"id\":\"1148\",\"type\":\"UnionRenderers\"},{\"attributes\":{\"editor\":{\"id\":\"1139\",\"type\":\"StringEditor\"},\"field\":\"timeset\",\"formatter\":{\"id\":\"1138\",\"type\":\"StringFormatter\"},\"title\":\"timeset\"},\"id\":\"1110\",\"type\":\"TableColumn\"},{\"attributes\":{},\"id\":\"1149\",\"type\":\"Selection\"},{\"attributes\":{\"editor\":{\"id\":\"1147\",\"type\":\"StringEditor\"},\"field\":\"Degree\",\"formatter\":{\"id\":\"1146\",\"type\":\"StringFormatter\"},\"title\":\"Degree\"},\"id\":\"1114\",\"type\":\"TableColumn\"},{\"attributes\":{},\"id\":\"1145\",\"type\":\"StringEditor\"},{\"attributes\":{\"callback\":null,\"data\":{\"Degree\":[1218,1165,1124,790,773,772,678,462,461,457,434,431,429,397,394,391,388,370,370,354],\"Id\":[9610043,9510017,9503124,9510135,9410167,9611050,9601029,9412184,9401139,9602052,9608024,9710046,9910053,9510169,9512077,9501068,9508143,9602043,9703030,9512062],\"Label\":[9610043,9510017,9503124,9510135,9410167,9611050,9601029,9412184,9401139,9602052,9608024,9710046,9910053,9510169,9512077,9501068,9508143,9602043,9703030,9512062],\"indegree\":[1199,1155,1114,775,748,701,651,426,421,406,383,72,331,388,380,385,373,340,347,333],\"index\":[0,1,2,3,4,5,6,7,8,9,10,11,12,13,14,15,16,17,18,19],\"modularity_class\":[2,2,2,2,2,2,2,2,2,2,2,2,2,2,2,2,2,2,2,2],\"outdegree\":[19,10,10,15,25,71,27,36,40,51,51,359,98,9,14,6,15,30,23,21],\"timeset\":{\"__ndarray__\":\"AAAAAAAA+H8AAAAAAAD4fwAAAAAAAPh/AAAAAAAA+H8AAAAAAAD4fwAAAAAAAPh/AAAAAAAA+H8AAAAAAAD4fwAAAAAAAPh/AAAAAAAA+H8AAAAAAAD4fwAAAAAAAPh/AAAAAAAA+H8AAAAAAAD4fwAAAAAAAPh/AAAAAAAA+H8AAAAAAAD4fwAAAAAAAPh/AAAAAAAA+H8AAAAAAAD4fw==\",\"dtype\":\"float64\",\"shape\":[20]}},\"selected\":{\"id\":\"1149\",\"type\":\"Selection\"},\"selection_policy\":{\"id\":\"1148\",\"type\":\"UnionRenderers\"}},\"id\":\"1115\",\"type\":\"ColumnDataSource\"},{\"attributes\":{},\"id\":\"1144\",\"type\":\"StringFormatter\"},{\"attributes\":{},\"id\":\"1135\",\"type\":\"StringEditor\"},{\"attributes\":{},\"id\":\"1143\",\"type\":\"StringEditor\"},{\"attributes\":{},\"id\":\"1136\",\"type\":\"StringFormatter\"},{\"attributes\":{},\"id\":\"1134\",\"type\":\"StringFormatter\"},{\"attributes\":{},\"id\":\"1141\",\"type\":\"StringEditor\"},{\"attributes\":{\"editor\":{\"id\":\"1137\",\"type\":\"StringEditor\"},\"field\":\"Label\",\"formatter\":{\"id\":\"1136\",\"type\":\"StringFormatter\"},\"title\":\"Label\"},\"id\":\"1109\",\"type\":\"TableColumn\"},{\"attributes\":{\"editor\":{\"id\":\"1135\",\"type\":\"StringEditor\"},\"field\":\"Id\",\"formatter\":{\"id\":\"1134\",\"type\":\"StringFormatter\"},\"title\":\"Id\"},\"id\":\"1108\",\"type\":\"TableColumn\"},{\"attributes\":{\"source\":{\"id\":\"1115\",\"type\":\"ColumnDataSource\"}},\"id\":\"1117\",\"type\":\"CDSView\"},{\"attributes\":{},\"id\":\"1137\",\"type\":\"StringEditor\"},{\"attributes\":{},\"id\":\"1138\",\"type\":\"StringFormatter\"},{\"attributes\":{},\"id\":\"1139\",\"type\":\"StringEditor\"},{\"attributes\":{},\"id\":\"1140\",\"type\":\"StringFormatter\"},{\"attributes\":{},\"id\":\"1142\",\"type\":\"StringFormatter\"}],\"root_ids\":[\"1116\"]},\"title\":\"Bokeh Application\",\"version\":\"1.0.4\"}};\n",
       "  var render_items = [{\"docid\":\"649aae2b-093c-4ce7-a8b0-d753facaca9b\",\"roots\":{\"1116\":\"1bebc40b-1103-4f56-9267-fb31f88e76dc\"}}];\n",
       "  root.Bokeh.embed.embed_items_notebook(docs_json, render_items);\n",
       "\n",
       "  }\n",
       "  if (root.Bokeh !== undefined) {\n",
       "    embed_document(root);\n",
       "  } else {\n",
       "    var attempts = 0;\n",
       "    var timer = setInterval(function(root) {\n",
       "      if (root.Bokeh !== undefined) {\n",
       "        embed_document(root);\n",
       "        clearInterval(timer);\n",
       "      }\n",
       "      attempts++;\n",
       "      if (attempts > 100) {\n",
       "        console.log(\"Bokeh: ERROR: Unable to run BokehJS code because BokehJS library is missing\");\n",
       "        clearInterval(timer);\n",
       "      }\n",
       "    }, 10, root)\n",
       "  }\n",
       "})(window);"
      ],
      "application/vnd.bokehjs_exec.v0+json": ""
     },
     "metadata": {
      "application/vnd.bokehjs_exec.v0+json": {
       "id": "1116"
      }
     },
     "output_type": "display_data"
    },
    {
     "name": "stdout",
     "output_type": "stream",
     "text": [
      "Most important nodes of our network:  1809\n"
     ]
    }
   ],
   "source": [
    "display_df_with_bokeh(nodes_per_modularity_class_df)\n",
    "print(\"Most important nodes of our network: \", nodes_per_modularity_class_df.shape[0])"
   ]
  },
  {
   "cell_type": "code",
   "execution_count": 12,
   "metadata": {},
   "outputs": [],
   "source": [
    "with open(f\"{DATASETS_FOLDER}/cit-HepTh.txt\", 'r') as f:\n",
    "    hepth_df = pd.read_csv(f,sep='\\t',skiprows=(0,1,2))\n",
    "    \n",
    "# Rename columns\n",
    "hepth_df.columns = ['FromNodeId', 'ToNodeId']"
   ]
  },
  {
   "cell_type": "code",
   "execution_count": 13,
   "metadata": {},
   "outputs": [
    {
     "data": {
      "text/html": [
       "\n",
       "\n",
       "\n",
       "\n",
       "\n",
       "\n",
       "  <div class=\"bk-root\" id=\"5a20db28-11ba-4aa6-bc43-d646cef525d9\" data-root-id=\"1233\"></div>\n"
      ]
     },
     "metadata": {},
     "output_type": "display_data"
    },
    {
     "data": {
      "application/javascript": [
       "(function(root) {\n",
       "  function embed_document(root) {\n",
       "    \n",
       "  var docs_json = {\"42071527-7f0e-43eb-bc00-c355c9da3a90\":{\"roots\":{\"references\":[{\"attributes\":{\"columns\":[{\"id\":\"1230\",\"type\":\"TableColumn\"},{\"id\":\"1231\",\"type\":\"TableColumn\"}],\"source\":{\"id\":\"1232\",\"type\":\"ColumnDataSource\"},\"view\":{\"id\":\"1234\",\"type\":\"CDSView\"}},\"id\":\"1233\",\"type\":\"DataTable\"},{\"attributes\":{},\"id\":\"1272\",\"type\":\"Selection\"},{\"attributes\":{},\"id\":\"1271\",\"type\":\"UnionRenderers\"},{\"attributes\":{\"editor\":{\"id\":\"1268\",\"type\":\"StringEditor\"},\"field\":\"FromNodeId\",\"formatter\":{\"id\":\"1267\",\"type\":\"StringFormatter\"},\"title\":\"FromNodeId\"},\"id\":\"1230\",\"type\":\"TableColumn\"},{\"attributes\":{\"callback\":null,\"data\":{\"FromNodeId\":[1001,1001,1001,1001,1001,1001,1001,1001,1001,1001,1001,1001,1001,1001,1001,1001,1001,1001,1001,1001],\"ToNodeId\":[9304045,9308122,9309097,9311042,9401139,9404151,9407087,9408099,9501030,9503124,9504090,9504145,9505025,9505054,9505105,9505162,9506048,9506112,9506144,9507050],\"index\":[0,1,2,3,4,5,6,7,8,9,10,11,12,13,14,15,16,17,18,19]},\"selected\":{\"id\":\"1272\",\"type\":\"Selection\"},\"selection_policy\":{\"id\":\"1271\",\"type\":\"UnionRenderers\"}},\"id\":\"1232\",\"type\":\"ColumnDataSource\"},{\"attributes\":{},\"id\":\"1267\",\"type\":\"StringFormatter\"},{\"attributes\":{},\"id\":\"1269\",\"type\":\"StringFormatter\"},{\"attributes\":{},\"id\":\"1270\",\"type\":\"StringEditor\"},{\"attributes\":{},\"id\":\"1268\",\"type\":\"StringEditor\"},{\"attributes\":{\"source\":{\"id\":\"1232\",\"type\":\"ColumnDataSource\"}},\"id\":\"1234\",\"type\":\"CDSView\"},{\"attributes\":{\"editor\":{\"id\":\"1270\",\"type\":\"StringEditor\"},\"field\":\"ToNodeId\",\"formatter\":{\"id\":\"1269\",\"type\":\"StringFormatter\"},\"title\":\"ToNodeId\"},\"id\":\"1231\",\"type\":\"TableColumn\"}],\"root_ids\":[\"1233\"]},\"title\":\"Bokeh Application\",\"version\":\"1.0.4\"}};\n",
       "  var render_items = [{\"docid\":\"42071527-7f0e-43eb-bc00-c355c9da3a90\",\"roots\":{\"1233\":\"5a20db28-11ba-4aa6-bc43-d646cef525d9\"}}];\n",
       "  root.Bokeh.embed.embed_items_notebook(docs_json, render_items);\n",
       "\n",
       "  }\n",
       "  if (root.Bokeh !== undefined) {\n",
       "    embed_document(root);\n",
       "  } else {\n",
       "    var attempts = 0;\n",
       "    var timer = setInterval(function(root) {\n",
       "      if (root.Bokeh !== undefined) {\n",
       "        embed_document(root);\n",
       "        clearInterval(timer);\n",
       "      }\n",
       "      attempts++;\n",
       "      if (attempts > 100) {\n",
       "        console.log(\"Bokeh: ERROR: Unable to run BokehJS code because BokehJS library is missing\");\n",
       "        clearInterval(timer);\n",
       "      }\n",
       "    }, 10, root)\n",
       "  }\n",
       "})(window);"
      ],
      "application/vnd.bokehjs_exec.v0+json": ""
     },
     "metadata": {
      "application/vnd.bokehjs_exec.v0+json": {
       "id": "1233"
      }
     },
     "output_type": "display_data"
    }
   ],
   "source": [
    "display_df_with_bokeh(hepth_df)"
   ]
  },
  {
   "cell_type": "code",
   "execution_count": 14,
   "metadata": {},
   "outputs": [
    {
     "data": {
      "text/html": [
       "\n",
       "\n",
       "\n",
       "\n",
       "\n",
       "\n",
       "  <div class=\"bk-root\" id=\"d8137a75-fbac-4d9c-a704-776ef829dfa5\" data-root-id=\"1306\"></div>\n"
      ]
     },
     "metadata": {},
     "output_type": "display_data"
    },
    {
     "data": {
      "application/javascript": [
       "(function(root) {\n",
       "  function embed_document(root) {\n",
       "    \n",
       "  var docs_json = {\"423da9a9-af4a-489c-b731-44c0a93a3ec7\":{\"roots\":{\"references\":[{\"attributes\":{\"columns\":[{\"id\":\"1303\",\"type\":\"TableColumn\"},{\"id\":\"1304\",\"type\":\"TableColumn\"}],\"source\":{\"id\":\"1305\",\"type\":\"ColumnDataSource\"},\"view\":{\"id\":\"1307\",\"type\":\"CDSView\"}},\"id\":\"1306\",\"type\":\"DataTable\"},{\"attributes\":{\"editor\":{\"id\":\"1349\",\"type\":\"StringEditor\"},\"field\":\"modularity_class\",\"formatter\":{\"id\":\"1348\",\"type\":\"StringFormatter\"},\"title\":\"modularity_class\"},\"id\":\"1304\",\"type\":\"TableColumn\"},{\"attributes\":{},\"id\":\"1346\",\"type\":\"StringFormatter\"},{\"attributes\":{},\"id\":\"1348\",\"type\":\"StringFormatter\"},{\"attributes\":{},\"id\":\"1351\",\"type\":\"Selection\"},{\"attributes\":{},\"id\":\"1347\",\"type\":\"StringEditor\"},{\"attributes\":{\"source\":{\"id\":\"1305\",\"type\":\"ColumnDataSource\"}},\"id\":\"1307\",\"type\":\"CDSView\"},{\"attributes\":{\"callback\":null,\"data\":{\"Id\":[9610043,9510017,9503124,9510135,9410167,9611050,9601029,9412184,9401139,9602052,9608024,9710046,9910053,9510169,9512077,9501068,9508143,9602043,9703030,9512062],\"index\":[0,1,2,3,4,5,6,7,8,9,10,11,12,13,14,15,16,17,18,19],\"modularity_class\":[2,2,2,2,2,2,2,2,2,2,2,2,2,2,2,2,2,2,2,2]},\"selected\":{\"id\":\"1351\",\"type\":\"Selection\"},\"selection_policy\":{\"id\":\"1350\",\"type\":\"UnionRenderers\"}},\"id\":\"1305\",\"type\":\"ColumnDataSource\"},{\"attributes\":{},\"id\":\"1350\",\"type\":\"UnionRenderers\"},{\"attributes\":{\"editor\":{\"id\":\"1347\",\"type\":\"StringEditor\"},\"field\":\"Id\",\"formatter\":{\"id\":\"1346\",\"type\":\"StringFormatter\"},\"title\":\"Id\"},\"id\":\"1303\",\"type\":\"TableColumn\"},{\"attributes\":{},\"id\":\"1349\",\"type\":\"StringEditor\"}],\"root_ids\":[\"1306\"]},\"title\":\"Bokeh Application\",\"version\":\"1.0.4\"}};\n",
       "  var render_items = [{\"docid\":\"423da9a9-af4a-489c-b731-44c0a93a3ec7\",\"roots\":{\"1306\":\"d8137a75-fbac-4d9c-a704-776ef829dfa5\"}}];\n",
       "  root.Bokeh.embed.embed_items_notebook(docs_json, render_items);\n",
       "\n",
       "  }\n",
       "  if (root.Bokeh !== undefined) {\n",
       "    embed_document(root);\n",
       "  } else {\n",
       "    var attempts = 0;\n",
       "    var timer = setInterval(function(root) {\n",
       "      if (root.Bokeh !== undefined) {\n",
       "        embed_document(root);\n",
       "        clearInterval(timer);\n",
       "      }\n",
       "      attempts++;\n",
       "      if (attempts > 100) {\n",
       "        console.log(\"Bokeh: ERROR: Unable to run BokehJS code because BokehJS library is missing\");\n",
       "        clearInterval(timer);\n",
       "      }\n",
       "    }, 10, root)\n",
       "  }\n",
       "})(window);"
      ],
      "application/vnd.bokehjs_exec.v0+json": ""
     },
     "metadata": {
      "application/vnd.bokehjs_exec.v0+json": {
       "id": "1306"
      }
     },
     "output_type": "display_data"
    }
   ],
   "source": [
    "nodes_with_modularity_df = nodes_per_modularity_class_df[['Id', 'modularity_class']]\n",
    "display_df_with_bokeh(nodes_with_modularity_df)"
   ]
  },
  {
   "cell_type": "code",
   "execution_count": 15,
   "metadata": {},
   "outputs": [],
   "source": [
    "# Join the original network with our most important nodes with modularity\n",
    "hepth_df_with_modularity = hepth_df.merge(nodes_with_modularity_df, how=\"outer\", left_on = 'FromNodeId', right_on = 'Id')\n",
    "\n",
    "hepth_df_with_modularity.columns = ['FromNodeId', 'ToNodeId', 'Id', 'modularity_from']\n",
    "hepth_df_with_modularity.drop(['Id'], axis=1, inplace=True)\n",
    "\n",
    "hepth_df_with_modularity = hepth_df_with_modularity.merge(nodes_with_modularity_df, how=\"outer\", left_on = 'ToNodeId', right_on = 'Id')\n",
    "\n",
    "hepth_df_with_modularity.columns = ['FromNodeId', 'ToNodeId', 'modularity_from', 'Id', 'modularity_to']\n",
    "hepth_df_with_modularity.drop(['Id'], axis=1, inplace=True)"
   ]
  },
  {
   "cell_type": "code",
   "execution_count": 16,
   "metadata": {},
   "outputs": [],
   "source": [
    "# Remove all edges that have a node that was not found in nodes_with_modularity_df\n",
    "hepth_df_with_modularity.dropna(inplace=True)\n",
    "hepth_df_with_modularity = hepth_df_with_modularity.astype(int)"
   ]
  },
  {
   "cell_type": "code",
   "execution_count": 17,
   "metadata": {},
   "outputs": [
    {
     "data": {
      "text/html": [
       "\n",
       "\n",
       "\n",
       "\n",
       "\n",
       "\n",
       "  <div class=\"bk-root\" id=\"16e5a827-a499-45c0-b0d2-6becce5027df\" data-root-id=\"1387\"></div>\n"
      ]
     },
     "metadata": {},
     "output_type": "display_data"
    },
    {
     "data": {
      "application/javascript": [
       "(function(root) {\n",
       "  function embed_document(root) {\n",
       "    \n",
       "  var docs_json = {\"7216d764-3760-443e-a077-8f27ea115655\":{\"roots\":{\"references\":[{\"attributes\":{\"columns\":[{\"id\":\"1382\",\"type\":\"TableColumn\"},{\"id\":\"1383\",\"type\":\"TableColumn\"},{\"id\":\"1384\",\"type\":\"TableColumn\"},{\"id\":\"1385\",\"type\":\"TableColumn\"}],\"source\":{\"id\":\"1386\",\"type\":\"ColumnDataSource\"},\"view\":{\"id\":\"1388\",\"type\":\"CDSView\"}},\"id\":\"1387\",\"type\":\"DataTable\"},{\"attributes\":{},\"id\":\"1441\",\"type\":\"UnionRenderers\"},{\"attributes\":{\"editor\":{\"id\":\"1436\",\"type\":\"StringEditor\"},\"field\":\"ToNodeId\",\"formatter\":{\"id\":\"1435\",\"type\":\"StringFormatter\"},\"title\":\"ToNodeId\"},\"id\":\"1383\",\"type\":\"TableColumn\"},{\"attributes\":{},\"id\":\"1438\",\"type\":\"StringEditor\"},{\"attributes\":{},\"id\":\"1435\",\"type\":\"StringFormatter\"},{\"attributes\":{\"source\":{\"id\":\"1386\",\"type\":\"ColumnDataSource\"}},\"id\":\"1388\",\"type\":\"CDSView\"},{\"attributes\":{},\"id\":\"1436\",\"type\":\"StringEditor\"},{\"attributes\":{},\"id\":\"1439\",\"type\":\"StringFormatter\"},{\"attributes\":{},\"id\":\"1434\",\"type\":\"StringEditor\"},{\"attributes\":{\"editor\":{\"id\":\"1434\",\"type\":\"StringEditor\"},\"field\":\"FromNodeId\",\"formatter\":{\"id\":\"1433\",\"type\":\"StringFormatter\"},\"title\":\"FromNodeId\"},\"id\":\"1382\",\"type\":\"TableColumn\"},{\"attributes\":{},\"id\":\"1437\",\"type\":\"StringFormatter\"},{\"attributes\":{\"editor\":{\"id\":\"1438\",\"type\":\"StringEditor\"},\"field\":\"modularity_from\",\"formatter\":{\"id\":\"1437\",\"type\":\"StringFormatter\"},\"title\":\"modularity_from\"},\"id\":\"1384\",\"type\":\"TableColumn\"},{\"attributes\":{},\"id\":\"1440\",\"type\":\"StringEditor\"},{\"attributes\":{},\"id\":\"1433\",\"type\":\"StringFormatter\"},{\"attributes\":{},\"id\":\"1442\",\"type\":\"Selection\"},{\"attributes\":{\"editor\":{\"id\":\"1440\",\"type\":\"StringEditor\"},\"field\":\"modularity_to\",\"formatter\":{\"id\":\"1439\",\"type\":\"StringFormatter\"},\"title\":\"modularity_to\"},\"id\":\"1385\",\"type\":\"TableColumn\"},{\"attributes\":{\"callback\":null,\"data\":{\"FromNodeId\":[9505105,9506112,9508155,9601108,9609239,9706110,9705131,9710046,9610162,9812061,9803072,9610251,9601036,9611184,9412236,9807124,9610105,9507115,7195,9506110],\"ToNodeId\":[9308122,9308122,9308122,9308122,9308122,9308122,9308122,9308122,9308122,9308122,9308122,9308122,9308122,9308122,9308122,9308122,9308122,9308122,9308122,9308122],\"index\":[17,18,19,20,22,27,28,31,32,34,37,38,39,41,46,55,61,62,72,73],\"modularity_from\":[54,54,54,54,37,37,54,2,54,54,54,54,54,54,37,54,54,54,54,54],\"modularity_to\":[54,54,54,54,54,54,54,54,54,54,54,54,54,54,54,54,54,54,54,54]},\"selected\":{\"id\":\"1442\",\"type\":\"Selection\"},\"selection_policy\":{\"id\":\"1441\",\"type\":\"UnionRenderers\"}},\"id\":\"1386\",\"type\":\"ColumnDataSource\"}],\"root_ids\":[\"1387\"]},\"title\":\"Bokeh Application\",\"version\":\"1.0.4\"}};\n",
       "  var render_items = [{\"docid\":\"7216d764-3760-443e-a077-8f27ea115655\",\"roots\":{\"1387\":\"16e5a827-a499-45c0-b0d2-6becce5027df\"}}];\n",
       "  root.Bokeh.embed.embed_items_notebook(docs_json, render_items);\n",
       "\n",
       "  }\n",
       "  if (root.Bokeh !== undefined) {\n",
       "    embed_document(root);\n",
       "  } else {\n",
       "    var attempts = 0;\n",
       "    var timer = setInterval(function(root) {\n",
       "      if (root.Bokeh !== undefined) {\n",
       "        embed_document(root);\n",
       "        clearInterval(timer);\n",
       "      }\n",
       "      attempts++;\n",
       "      if (attempts > 100) {\n",
       "        console.log(\"Bokeh: ERROR: Unable to run BokehJS code because BokehJS library is missing\");\n",
       "        clearInterval(timer);\n",
       "      }\n",
       "    }, 10, root)\n",
       "  }\n",
       "})(window);"
      ],
      "application/vnd.bokehjs_exec.v0+json": ""
     },
     "metadata": {
      "application/vnd.bokehjs_exec.v0+json": {
       "id": "1387"
      }
     },
     "output_type": "display_data"
    },
    {
     "name": "stdout",
     "output_type": "stream",
     "text": [
      "(32129, 4)\n"
     ]
    }
   ],
   "source": [
    "display_df_with_bokeh(hepth_df_with_modularity)\n",
    "print(hepth_df_with_modularity.shape)"
   ]
  },
  {
   "cell_type": "code",
   "execution_count": null,
   "metadata": {},
   "outputs": [],
   "source": [
    "# Save our new reduced network with most important nodes\n",
    "hepth_df_with_modularity.to_csv(\"gephi/reduced_size_network.csv\")"
   ]
  },
  {
   "cell_type": "code",
   "execution_count": null,
   "metadata": {},
   "outputs": [],
   "source": []
  }
 ],
 "metadata": {
  "kernelspec": {
   "display_name": "Python 3",
   "language": "python",
   "name": "python3"
  },
  "language_info": {
   "codemirror_mode": {
    "name": "ipython",
    "version": 3
   },
   "file_extension": ".py",
   "mimetype": "text/x-python",
   "name": "python",
   "nbconvert_exporter": "python",
   "pygments_lexer": "ipython3",
   "version": "3.6.7"
  }
 },
 "nbformat": 4,
 "nbformat_minor": 2
}
