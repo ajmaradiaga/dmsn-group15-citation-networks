{
 "cells": [
  {
   "cell_type": "code",
   "execution_count": 1,
   "metadata": {},
   "outputs": [],
   "source": [
    "import networkx as nx"
   ]
  },
  {
   "cell_type": "code",
   "execution_count": 2,
   "metadata": {},
   "outputs": [
    {
     "name": "stdout",
     "output_type": "stream",
     "text": [
      "Source\tTarget\r",
      "\r\n",
      "1001\t9304045\r",
      "\r\n",
      "1001\t9308122\r",
      "\r\n",
      "1001\t9309097\r",
      "\r\n",
      "1001\t9311042\r",
      "\r\n",
      "1001\t9401139\r",
      "\r\n",
      "1001\t9404151\r",
      "\r\n",
      "1001\t9407087\r",
      "\r\n",
      "1001\t9408099\r",
      "\r\n",
      "1001\t9501030\r",
      "\r\n"
     ]
    }
   ],
   "source": [
    "!head -n 10 datasets/cit-HepTh-processed.csv"
   ]
  },
  {
   "cell_type": "code",
   "execution_count": 3,
   "metadata": {},
   "outputs": [],
   "source": [
    "G = nx.DiGraph()"
   ]
  },
  {
   "cell_type": "code",
   "execution_count": 4,
   "metadata": {},
   "outputs": [],
   "source": [
    "with open('datasets/cit-HepTh-processed.csv', 'r') as f:\n",
    "    i = 0\n",
    "    for l in f:\n",
    "        if not l.startswith('#'):\n",
    "            # Leaving them as ints as some might start with 00\n",
    "            G.add_edge(*l.split())\n",
    "            i += 1\n",
    "            if i >= 1000:\n",
    "                break"
   ]
  },
  {
   "cell_type": "code",
   "execution_count": 5,
   "metadata": {},
   "outputs": [],
   "source": [
    "nx.write_gexf(G, 'gephi/cit-HepTh-1000.gexf')"
   ]
  },
  {
   "cell_type": "code",
   "execution_count": 6,
   "metadata": {},
   "outputs": [],
   "source": [
    "nx.draw(G)"
   ]
  },
  {
   "cell_type": "code",
   "execution_count": 7,
   "metadata": {},
   "outputs": [],
   "source": [
    "G.add_edge??"
   ]
  },
  {
   "cell_type": "code",
   "execution_count": null,
   "metadata": {},
   "outputs": [],
   "source": []
  }
 ],
 "metadata": {
  "kernelspec": {
   "display_name": "Python 3",
   "language": "python",
   "name": "python3"
  },
  "language_info": {
   "codemirror_mode": {
    "name": "ipython",
    "version": 3
   },
   "file_extension": ".py",
   "mimetype": "text/x-python",
   "name": "python",
   "nbconvert_exporter": "python",
   "pygments_lexer": "ipython3",
   "version": "3.6.7"
  }
 },
 "nbformat": 4,
 "nbformat_minor": 2
}
