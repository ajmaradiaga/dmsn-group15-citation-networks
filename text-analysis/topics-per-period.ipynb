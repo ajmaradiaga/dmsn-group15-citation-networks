{
 "cells": [
  {
   "cell_type": "code",
   "execution_count": 1,
   "metadata": {},
   "outputs": [
    {
     "name": "stderr",
     "output_type": "stream",
     "text": [
      "[nltk_data] Downloading package wordnet to /home/ajmc/nltk_data...\n",
      "[nltk_data]   Package wordnet is already up-to-date!\n"
     ]
    }
   ],
   "source": [
    "import os\n",
    "import re\n",
    "\n",
    "import numpy as np\n",
    "import pandas as pd\n",
    "\n",
    "# Text analysis\n",
    "import gensim\n",
    "from gensim import corpora\n",
    "import nltk\n",
    "from nltk import FreqDist\n",
    "from nltk.corpus import stopwords\n",
    "from nltk.stem.snowball import SnowballStemmer\n",
    "from nltk.stem import WordNetLemmatizer\n",
    "\n",
    "nltk.download('wordnet')\n",
    "\n",
    "import spacy\n",
    "\n",
    "# Visualization\n",
    "import pyLDAvis\n",
    "import pyLDAvis.gensim\n",
    "import matplotlib.pyplot as plt\n",
    "import seaborn as sns\n",
    "\n",
    "pd.set_option(\"display.max_colwidth\", 200)\n",
    "pyLDAvis.enable_notebook()\n",
    "\n",
    "%matplotlib inline"
   ]
  },
  {
   "cell_type": "code",
   "execution_count": 2,
   "metadata": {},
   "outputs": [],
   "source": [
    "# function to plot most frequent terms\n",
    "def freq_words(x, terms = 30):\n",
    "    all_words = ' '.join([text for text in x])\n",
    "    all_words = all_words.split()\n",
    "\n",
    "    fdist = FreqDist(all_words)\n",
    "    words_df = pd.DataFrame({'word':list(fdist.keys()), 'count':list(fdist.values())})\n",
    "\n",
    "    # selecting top n most frequent words\n",
    "    d = words_df.nlargest(columns=\"count\", n = terms) \n",
    "    plt.figure(figsize=(20,5))\n",
    "    ax = sns.barplot(data=d, x= \"word\", y = \"count\")\n",
    "    ax.set(ylabel = 'Count')\n",
    "    plt.show()\n",
    "    \n",
    "    return d\n",
    "    "
   ]
  },
  {
   "cell_type": "code",
   "execution_count": 3,
   "metadata": {},
   "outputs": [],
   "source": [
    "DATASETS_FOLDER = \"datasets\"\n",
    "ABSTRACTS_FOLDER = \"abstracts\"\n",
    "\n",
    "ABSTRACTS_FOLDER_PATH = f\"{DATASETS_FOLDER}/{ABSTRACTS_FOLDER}/\""
   ]
  },
  {
   "cell_type": "code",
   "execution_count": 4,
   "metadata": {},
   "outputs": [],
   "source": [
    "with open(f\"../{DATASETS_FOLDER}/abstracts_with_last_citation.csv\", 'r') as f:\n",
    "    df = pd.read_csv(f)\n",
    "\n",
    "df['text'] = df['title'] + ' ' + df['description']\n",
    "df['text'] = df['text'].apply(lambda x: x.replace('\\n', ' '))\n",
    "\n",
    "df['date'] = df['date'].astype('datetime64[ns]')\n",
    "# df['date_from'] = df['date_from'].astype('datetime64[ns]')\n",
    "df['last_citation'] = df['last_citation'].astype('datetime64[ns]')"
   ]
  },
  {
   "cell_type": "code",
   "execution_count": 5,
   "metadata": {},
   "outputs": [
    {
     "data": {
      "text/html": [
       "<div>\n",
       "<style scoped>\n",
       "    .dataframe tbody tr th:only-of-type {\n",
       "        vertical-align: middle;\n",
       "    }\n",
       "\n",
       "    .dataframe tbody tr th {\n",
       "        vertical-align: top;\n",
       "    }\n",
       "\n",
       "    .dataframe thead th {\n",
       "        text-align: right;\n",
       "    }\n",
       "</style>\n",
       "<table border=\"1\" class=\"dataframe\">\n",
       "  <thead>\n",
       "    <tr style=\"text-align: right;\">\n",
       "      <th></th>\n",
       "      <th>paper</th>\n",
       "      <th>emails</th>\n",
       "      <th>description</th>\n",
       "      <th>date</th>\n",
       "      <th>from</th>\n",
       "      <th>title</th>\n",
       "      <th>authors</th>\n",
       "      <th>comments</th>\n",
       "      <th>subj-class</th>\n",
       "      <th>journal-ref</th>\n",
       "      <th>last_citation</th>\n",
       "      <th>text</th>\n",
       "    </tr>\n",
       "  </thead>\n",
       "  <tbody>\n",
       "    <tr>\n",
       "      <th>0</th>\n",
       "      <td>1001</td>\n",
       "      <td>['psa@math.duke.edu']</td>\n",
       "      <td>These are notes based on lectures given at TASI99. We review the geometry of\\nthe moduli space of N=2 theories in four dimensions from the point of view of\\nsuperstring compactification. The cases...</td>\n",
       "      <td>2000-01-01</td>\n",
       "      <td>Paul S. Aspinwall &lt;psa@math.duke.edu&gt;</td>\n",
       "      <td>Compactification, Geometry and Duality: N=2</td>\n",
       "      <td>Paul S. Aspinwall</td>\n",
       "      <td>82 pages, 8 figures, LaTeX2e, TASI99, refs added and some typos fixed</td>\n",
       "      <td>NaN</td>\n",
       "      <td>NaN</td>\n",
       "      <td>2002-12-18</td>\n",
       "      <td>Compactification, Geometry and Duality: N=2 These are notes based on lectures given at TASI99. We review the geometry of the moduli space of N=2 theories in four dimensions from the point of view ...</td>\n",
       "    </tr>\n",
       "    <tr>\n",
       "      <th>1</th>\n",
       "      <td>1002</td>\n",
       "      <td>['pope@absinthe.physics.tamu.edu']</td>\n",
       "      <td>We point out that massive gauged supergravity potentials, for example those\\narising due to the massive breathing mode of sphere reductions in M-theory or\\nstring theory, allow for supersymmetric ...</td>\n",
       "      <td>2000-01-03</td>\n",
       "      <td>Chris Pope &lt;pope@absinthe.physics.tamu.edu&gt;</td>\n",
       "      <td>Domain Walls and Massive Gauged Supergravity Potentials</td>\n",
       "      <td>M. Cvetic, H. Lu and C.N. Pope</td>\n",
       "      <td>latex file, 11 pages, 3 figures</td>\n",
       "      <td>NaN</td>\n",
       "      <td>Class.Quant.Grav. 17 (2000) 4867-4876</td>\n",
       "      <td>2001-06-05</td>\n",
       "      <td>Domain Walls and Massive Gauged Supergravity Potentials We point out that massive gauged supergravity potentials, for example those arising due to the massive breathing mode of sphere reductions i...</td>\n",
       "    </tr>\n",
       "    <tr>\n",
       "      <th>2</th>\n",
       "      <td>1003</td>\n",
       "      <td>['kang@physics.inje.ac.kr']</td>\n",
       "      <td>Recently, Ivanov and Volovich (hep-th/9912242) claimed that the perturbation\\nof $h_{\\mu\\nu}$ with nonvanishing transverse components $h_{5\\mu}$ is not\\nlocalized on the brane because $h_{\\mu\\nu}$...</td>\n",
       "      <td>2000-01-01</td>\n",
       "      <td>KANG Gungwon &lt;kang@physics.inje.ac.kr&gt;</td>\n",
       "      <td>Comment on \"Metric Fluctuations in Brane Worlds\"</td>\n",
       "      <td>Y.S. Myung and Gungwon Kang</td>\n",
       "      <td>4 pages, revtex</td>\n",
       "      <td>NaN</td>\n",
       "      <td>NaN</td>\n",
       "      <td>2001-07-09</td>\n",
       "      <td>Comment on \"Metric Fluctuations in Brane Worlds\" Recently, Ivanov and Volovich (hep-th/9912242) claimed that the perturbation of $h_{\\mu\\nu}$ with nonvanishing transverse components $h_{5\\mu}$ is ...</td>\n",
       "    </tr>\n",
       "    <tr>\n",
       "      <th>3</th>\n",
       "      <td>1004</td>\n",
       "      <td>['adam@godel.math.missouri.edu']</td>\n",
       "      <td>Quantum fields responding to \"moving mirrors\" have been predicted to give\\nrise to thermodynamic paradoxes. I show that the assumption in such work that\\nthe mirror can be treated as an external f...</td>\n",
       "      <td>2000-01-01</td>\n",
       "      <td>Adam D. Helfer &lt;adam@godel.math.missouri.edu&gt;</td>\n",
       "      <td>Moving Mirrors and Thermodynamic Paradoxes</td>\n",
       "      <td>Adam D. Helfer</td>\n",
       "      <td>7 pages, Revtex with Latex2e</td>\n",
       "      <td>NaN</td>\n",
       "      <td>Phys.Rev. D63 (2001) 025016</td>\n",
       "      <td>2000-01-07</td>\n",
       "      <td>Moving Mirrors and Thermodynamic Paradoxes Quantum fields responding to \"moving mirrors\" have been predicted to give rise to thermodynamic paradoxes. I show that the assumption in such work that t...</td>\n",
       "    </tr>\n",
       "    <tr>\n",
       "      <th>4</th>\n",
       "      <td>1005</td>\n",
       "      <td>['jfuchs@mail.desy.de']</td>\n",
       "      <td>Various aspects of spaces of chiral blocks are discussed. In particular,\\nconjectures about the dimensions of irreducible sub-bundles are reviewed and\\ntheir relation to symmetry breaking conforma...</td>\n",
       "      <td>2000-01-02</td>\n",
       "      <td>Juergen Fuchs &lt;jfuchs@mail.desy.de&gt;</td>\n",
       "      <td>Bundles of chiral blocks and boundary conditions in CFT</td>\n",
       "      <td>J. Fuchs, C. Schweigert</td>\n",
       "      <td>18 pages, LaTeX2e; slightly extended version of contribution to the</td>\n",
       "      <td>NaN</td>\n",
       "      <td>NaN</td>\n",
       "      <td>2000-11-13</td>\n",
       "      <td>Bundles of chiral blocks and boundary conditions in CFT Various aspects of spaces of chiral blocks are discussed. In particular, conjectures about the dimensions of irreducible sub-bundles are rev...</td>\n",
       "    </tr>\n",
       "  </tbody>\n",
       "</table>\n",
       "</div>"
      ],
      "text/plain": [
       "   paper                              emails  \\\n",
       "0   1001               ['psa@math.duke.edu']   \n",
       "1   1002  ['pope@absinthe.physics.tamu.edu']   \n",
       "2   1003         ['kang@physics.inje.ac.kr']   \n",
       "3   1004    ['adam@godel.math.missouri.edu']   \n",
       "4   1005             ['jfuchs@mail.desy.de']   \n",
       "\n",
       "                                                                                                                                                                                               description  \\\n",
       "0  These are notes based on lectures given at TASI99. We review the geometry of\\nthe moduli space of N=2 theories in four dimensions from the point of view of\\nsuperstring compactification. The cases...   \n",
       "1  We point out that massive gauged supergravity potentials, for example those\\narising due to the massive breathing mode of sphere reductions in M-theory or\\nstring theory, allow for supersymmetric ...   \n",
       "2  Recently, Ivanov and Volovich (hep-th/9912242) claimed that the perturbation\\nof $h_{\\mu\\nu}$ with nonvanishing transverse components $h_{5\\mu}$ is not\\nlocalized on the brane because $h_{\\mu\\nu}$...   \n",
       "3  Quantum fields responding to \"moving mirrors\" have been predicted to give\\nrise to thermodynamic paradoxes. I show that the assumption in such work that\\nthe mirror can be treated as an external f...   \n",
       "4  Various aspects of spaces of chiral blocks are discussed. In particular,\\nconjectures about the dimensions of irreducible sub-bundles are reviewed and\\ntheir relation to symmetry breaking conforma...   \n",
       "\n",
       "        date                                           from  \\\n",
       "0 2000-01-01          Paul S. Aspinwall <psa@math.duke.edu>   \n",
       "1 2000-01-03    Chris Pope <pope@absinthe.physics.tamu.edu>   \n",
       "2 2000-01-01         KANG Gungwon <kang@physics.inje.ac.kr>   \n",
       "3 2000-01-01  Adam D. Helfer <adam@godel.math.missouri.edu>   \n",
       "4 2000-01-02            Juergen Fuchs <jfuchs@mail.desy.de>   \n",
       "\n",
       "                                                     title  \\\n",
       "0              Compactification, Geometry and Duality: N=2   \n",
       "1  Domain Walls and Massive Gauged Supergravity Potentials   \n",
       "2         Comment on \"Metric Fluctuations in Brane Worlds\"   \n",
       "3               Moving Mirrors and Thermodynamic Paradoxes   \n",
       "4  Bundles of chiral blocks and boundary conditions in CFT   \n",
       "\n",
       "                          authors  \\\n",
       "0               Paul S. Aspinwall   \n",
       "1  M. Cvetic, H. Lu and C.N. Pope   \n",
       "2     Y.S. Myung and Gungwon Kang   \n",
       "3                  Adam D. Helfer   \n",
       "4         J. Fuchs, C. Schweigert   \n",
       "\n",
       "                                                                comments  \\\n",
       "0  82 pages, 8 figures, LaTeX2e, TASI99, refs added and some typos fixed   \n",
       "1                                        latex file, 11 pages, 3 figures   \n",
       "2                                                        4 pages, revtex   \n",
       "3                                           7 pages, Revtex with Latex2e   \n",
       "4    18 pages, LaTeX2e; slightly extended version of contribution to the   \n",
       "\n",
       "  subj-class                            journal-ref last_citation  \\\n",
       "0        NaN                                    NaN    2002-12-18   \n",
       "1        NaN  Class.Quant.Grav. 17 (2000) 4867-4876    2001-06-05   \n",
       "2        NaN                                    NaN    2001-07-09   \n",
       "3        NaN            Phys.Rev. D63 (2001) 025016    2000-01-07   \n",
       "4        NaN                                    NaN    2000-11-13   \n",
       "\n",
       "                                                                                                                                                                                                      text  \n",
       "0  Compactification, Geometry and Duality: N=2 These are notes based on lectures given at TASI99. We review the geometry of the moduli space of N=2 theories in four dimensions from the point of view ...  \n",
       "1  Domain Walls and Massive Gauged Supergravity Potentials We point out that massive gauged supergravity potentials, for example those arising due to the massive breathing mode of sphere reductions i...  \n",
       "2  Comment on \"Metric Fluctuations in Brane Worlds\" Recently, Ivanov and Volovich (hep-th/9912242) claimed that the perturbation of $h_{\\mu\\nu}$ with nonvanishing transverse components $h_{5\\mu}$ is ...  \n",
       "3  Moving Mirrors and Thermodynamic Paradoxes Quantum fields responding to \"moving mirrors\" have been predicted to give rise to thermodynamic paradoxes. I show that the assumption in such work that t...  \n",
       "4  Bundles of chiral blocks and boundary conditions in CFT Various aspects of spaces of chiral blocks are discussed. In particular, conjectures about the dimensions of irreducible sub-bundles are rev...  "
      ]
     },
     "execution_count": 5,
     "metadata": {},
     "output_type": "execute_result"
    }
   ],
   "source": [
    "df.head()"
   ]
  },
  {
   "cell_type": "code",
   "execution_count": 6,
   "metadata": {},
   "outputs": [],
   "source": [
    "# Initialising NLTK components\n",
    "stop_words = stopwords.words('english')\n",
    "stop_words.append('the')\n",
    "\n",
    "# NLTK Stemming and Lemmatizer\n",
    "stemmer = SnowballStemmer(\"english\", ignore_stopwords=True)\n",
    "wordnet_lemmatizer = WordNetLemmatizer()"
   ]
  },
  {
   "cell_type": "code",
   "execution_count": 7,
   "metadata": {},
   "outputs": [],
   "source": [
    "# Text processing functions\n",
    "\n",
    "# function to remove stopwords\n",
    "def remove_stopwords(rev):\n",
    "    rev_new = \" \".join([i for i in rev if i not in stop_words])\n",
    "    return rev_new\n",
    "\n",
    "def preprocess_texts(texts):\n",
    "    papers_text = []\n",
    "    \n",
    "    for t in texts:\n",
    "        pt = []\n",
    "\n",
    "        # Using spacy lemmatisation\n",
    "        # doc = nlp(t) \n",
    "        # papers_text.append(\" \".join([token.lemma_ for token in doc if len(token) > 2]))\n",
    "\n",
    "        for w in t.split():\n",
    "            if len(w) > 2:\n",
    "                # Using stemming\n",
    "                # pt.append(stemmer.stem(w))\n",
    "                # Using lemmatisation\n",
    "                pt.append(wordnet_lemmatizer.lemmatize(w))\n",
    "        papers_text.append(\" \".join(pt))\n",
    "\n",
    "    # make entire text lowercase\n",
    "    texts_lower = [r.lower() for r in papers_text]\n",
    "\n",
    "    # remove stopwords from the text\n",
    "    output = [remove_stopwords(r.split()) for r in texts_lower]\n",
    "    \n",
    "    return output"
   ]
  },
  {
   "cell_type": "code",
   "execution_count": 8,
   "metadata": {},
   "outputs": [],
   "source": [
    "periods = [\n",
    "    {'start_date': '1991-01-01', 'end_date': '1993-12-31'}, # Including 1991 as there is a paper the 1991-12-31\n",
    "    {'start_date': '1994-01-01', 'end_date': '1995-12-31'},\n",
    "    {'start_date': '1996-01-01', 'end_date': '1997-12-31'},\n",
    "    {'start_date': '1998-01-01', 'end_date': '1999-12-31'},\n",
    "    {'start_date': '2000-01-01', 'end_date': '2001-12-31'},\n",
    "    {'start_date': '2002-01-01', 'end_date': '2004-12-31'} # Including the papers up to 2004-04-30\n",
    "]"
   ]
  },
  {
   "cell_type": "code",
   "execution_count": 9,
   "metadata": {
    "scrolled": false
   },
   "outputs": [
    {
     "name": "stdout",
     "output_type": "stream",
     "text": [
      "Period 1991-01-01 to 1993-12-31\n",
      "Total papers to process 3425 in period\n"
     ]
    },
    {
     "data": {
      "image/png": "[encoded data removed]",
      "text/plain": [
       "<Figure size 1440x360 with 1 Axes>"
      ]
     },
     "metadata": {
      "needs_background": "light"
     },
     "output_type": "display_data"
    },
    {
     "name": "stdout",
     "output_type": "stream",
     "text": [
      "Most frequent words:            word  count\n",
      "12      theory   2712\n",
      "82       field   2190\n",
      "49     quantum   2188\n",
      "208      model   2048\n",
      "108     string   1694\n",
      "56     algebra   1331\n",
      "348      gauge   1205\n",
      "239   solution    984\n",
      "35    equation    972\n",
      "402        two    958\n",
      "14       space    902\n",
      "2        group    839\n",
      "530      black    838\n",
      "177       also    828\n",
      "10    function    791\n",
      "644       show    777\n",
      "395        one    737\n",
      "750  conformal    721\n",
      "141   operator    710\n",
      "59    symmetry    687\n",
      "Sample of tokenised text:  ['combinatorics', 'modular', 'group', 'ii:', 'kontsevich', 'integral', 'study', 'algebraic', 'aspect', 'kontsevich', 'integral', 'generating', 'function', 'intersection', 'theory', 'modulus', 'space', 'review', 'derivation', 'virasoro', 'kdv', 'constraints.', 'intersection', 'number', 'kontsevich', 'integral', '2.1.', 'main', 'theorem', '2.2', 'expansion', 'character', 'schur', 'function', '2.3', 'proof', 'first', 'part', 'theorem', 'grassmannians', 'kdv', 'matrix', 'airy', 'equation', 'virasoro', 'highest', 'weight', 'condition', 'genus', 'expansion', 'singular', 'behaviour', \"painlev'e\", 'equation.', 'generalization', 'higher', 'degree', 'potential'] ['inomogeneous', 'quantum', 'groups', 'symmetries', 'phonons', 'quantum', 'deformed', '(1+1)', \"poincare'\", 'algebra', 'shown', 'kinematical', 'symmetry', 'harmonic', 'chain,', 'whose', 'spacing', 'given', 'deformation', 'parameter.', 'phonons', 'symmetry', 'well', 'multiphonon', 'process', 'derived', 'quantum', 'group', 'structure.', 'inhomogeneous', 'quantum', 'group', 'thus', 'proposed', 'kinematical', 'invariance', 'discrete', 'systems.']\n",
      "LDA topics:  [(0, '0.019*\"algebra\" + 0.016*\"quantum\" + 0.008*\"group\" + 0.008*\"representation\" + 0.007*\"theory\" + 0.007*\"field\" + 0.007*\"operator\" + 0.006*\"space\" + 0.006*\"structure\" + 0.006*\"equation\"'), (1, '0.015*\"model\" + 0.012*\"black\" + 0.009*\"solution\" + 0.009*\"field\" + 0.009*\"quantum\" + 0.008*\"theory\" + 0.008*\"hole\" + 0.006*\"string\" + 0.005*\"equation\" + 0.005*\"two\"'), (2, '0.019*\"theory\" + 0.015*\"gauge\" + 0.015*\"string\" + 0.014*\"field\" + 0.008*\"model\" + 0.006*\"action\" + 0.006*\"space\" + 0.005*\"quantum\" + 0.005*\"effective\" + 0.005*\"symmetry\"')]\n"
     ]
    },
    {
     "name": "stderr",
     "output_type": "stream",
     "text": [
      "/home/ajmc/.virtualenvs/dmsn-graphs/lib/python3.6/site-packages/pyLDAvis/_prepare.py:257: FutureWarning: Sorting because non-concatenation axis is not aligned. A future version\n",
      "of pandas will change to not sort by default.\n",
      "\n",
      "To accept the future behavior, pass 'sort=False'.\n",
      "\n",
      "To retain the current behavior and silence the warning, pass 'sort=True'.\n",
      "\n",
      "  return pd.concat([default_term_info] + list(topic_dfs))\n"
     ]
    },
    {
     "name": "stdout",
     "output_type": "stream",
     "text": [
      "Saved output LDA visualisation in lda_1991-01-01_1993-12-31.html\n",
      "========================\n",
      "Period 1994-01-01 to 1995-12-31\n",
      "Total papers to process 4679 in period\n"
     ]
    },
    {
     "data": {
      "image/png": "[encoded data removed]",
      "text/plain": [
       "<Figure size 1440x360 with 1 Axes>"
      ]
     },
     "metadata": {
      "needs_background": "light"
     },
     "output_type": "display_data"
    },
    {
     "name": "stdout",
     "output_type": "stream",
     "text": [
      "Most frequent words:           word  count\n",
      "5      theory   3616\n",
      "4       field   2949\n",
      "14      model   2493\n",
      "56    quantum   2432\n",
      "355    string   2292\n",
      "79      gauge   2027\n",
      "424  solution   1383\n",
      "264   algebra   1328\n",
      "90   equation   1263\n",
      "219     space   1255\n",
      "26       also   1109\n",
      "284     group   1097\n",
      "679       two   1096\n",
      "84       show   1042\n",
      "251  symmetry   1005\n",
      "980  function   1001\n",
      "527      term    975\n",
      "335       one    970\n",
      "41   operator    937\n",
      "180    result    881\n",
      "Sample of tokenised text:  ['knot', 'invariant', 'rational', 'conformal', 'field', 'theory', 'framework', 'studying', 'knot', 'link', 'invariant', 'rational', 'conformal', 'field', 'theory', 'developed.', 'particular,', 'minimal', 'models,', 'superconformal', 'model', '$w_n$', 'model', 'studied.', 'invariant', 'related', 'invariant', 'obtained', 'wess-zumino', 'model', 'associated', 'coset', 'representation', 'models.', 'possible', 'chern-simons', 'representation', 'model', 'also', 'indicated.', 'generalises', 'earlier', 'work', 'knot', 'link', 'invariant', 'chern-simons', 'theories.'] ['remarks', 'collective', 'quantization', 'su(2)', 'skyrme', 'model', 'point', 'question', 'ordering', 'momentum', 'operator', 'canonical', '\\\\break', 'quantization', 'su(2)', 'skyrme', 'model.', 'thus,', 'suggest', 'new', 'definition', 'momentum', 'operator', 'may', 'solve', 'infrared', 'problem', 'appears', 'try', 'minimize', 'quantum', 'hamiltonian.']\n",
      "LDA topics:  [(0, '0.025*\"string\" + 0.011*\"theory\" + 0.011*\"solution\" + 0.010*\"black\" + 0.007*\"hole\" + 0.007*\"field\" + 0.007*\"model\" + 0.004*\"type\" + 0.004*\"state\" + 0.004*\"heterotic\"'), (1, '0.012*\"algebra\" + 0.011*\"quantum\" + 0.010*\"model\" + 0.008*\"theory\" + 0.007*\"space\" + 0.007*\"operator\" + 0.007*\"field\" + 0.006*\"equation\" + 0.006*\"group\" + 0.006*\"representation\"'), (2, '0.019*\"gauge\" + 0.017*\"theory\" + 0.015*\"field\" + 0.009*\"model\" + 0.007*\"quantum\" + 0.005*\"symmetry\" + 0.004*\"equation\" + 0.004*\"chiral\" + 0.004*\"action\" + 0.004*\"show\"')]\n",
      "Saved output LDA visualisation in lda_1994-01-01_1995-12-31.html\n",
      "========================\n",
      "Period 1996-01-01 to 1997-12-31\n",
      "Total papers to process 5279 in period\n"
     ]
    },
    {
     "data": {
      "image/png": "[encoded data removed]",
      "text/plain": [
       "<Figure size 1440x360 with 1 Axes>"
      ]
     },
     "metadata": {
      "needs_background": "light"
     },
     "output_type": "display_data"
    },
    {
     "name": "stdout",
     "output_type": "stream",
     "text": [
      "Most frequent words:                 word  count\n",
      "95           theory   4888\n",
      "83            field   3364\n",
      "157           gauge   2949\n",
      "45           string   2675\n",
      "316           model   2523\n",
      "13          quantum   2000\n",
      "129        solution   1540\n",
      "308        equation   1373\n",
      "85             also   1297\n",
      "158            show   1280\n",
      "113           space   1213\n",
      "123           black   1210\n",
      "64              two   1182\n",
      "37         symmetry   1148\n",
      "27             term   1136\n",
      "291  supersymmetric   1125\n",
      "88        effective   1091\n",
      "62             type   1087\n",
      "63           action   1064\n",
      "327           state   1045\n",
      "Sample of tokenised text:  ['integrable', 'z_n-chiral', 'potts', 'model:', 'missing', 'rapidity-momentum', 'mccoy-roan', 'integral', 'representation', 'gap', 'integrable', 'z_n-', 'symmetric', 'chiral', 'potts', 'quantum', 'chain', 'used', 'calculate', 'boundary', 'incommensurable', 'phase', 'various', 'limit', '\\\\infty', 'analytic', 'formula', 'phase', 'boundary', 'obtained.', 'mccoy-roan', 'formula', 'give', 'gap', 'term', 'rapidity.', 'lowest', 'gap', 'conjecture', 'relation', 'rapidity', 'physical', 'momentum', 'high-temperature', 'limit', 'using', 'symmetry', 'property', 'comparing', 'mccoy-roan', 'formula', 'high-temperature', 'expansion', 'finite-size', 'data.'] ['actions', 'qcd-like', 'string', 'introduce', 'random', 'lattice', 'corresponding', 'ordinary', 'feynman', 'diagrams,', '1/p-squared', 'propagator', 'instead', 'gaussians', 'used', 'usual', 'strings.', 'continuum', 'limit', 'defines', 'new', 'type', 'string', 'action', 'two', 'worldsheet', 'metrics,', 'one', 'minkowskian', 'one', 'euclidean.', 'propagator', 'correspond', 'curved', 'lightlike', 'path', 'respect', 'minkowskian', 'worldsheet', 'metric.', 'spacetime', 'dimensionality', 'four', 'implied', 'usual', 'critical', 'dimension', 'renormalizable', 'quantum', 'field', 'theory,', 'also', 't-duality.']\n",
      "LDA topics:  [(0, '0.016*\"black\" + 0.013*\"string\" + 0.011*\"hole\" + 0.011*\"solution\" + 0.009*\"state\" + 0.007*\"energy\" + 0.006*\"bound\" + 0.006*\"field\" + 0.005*\"entropy\" + 0.005*\"effective\"'), (1, '0.029*\"theory\" + 0.016*\"string\" + 0.015*\"gauge\" + 0.011*\"supersymmetric\" + 0.008*\"n=2\" + 0.008*\"type\" + 0.007*\"duality\" + 0.007*\"field\" + 0.006*\"matrix\" + 0.006*\"supersymmetry\"'), (2, '0.015*\"field\" + 0.012*\"theory\" + 0.011*\"model\" + 0.011*\"gauge\" + 0.009*\"quantum\" + 0.008*\"equation\" + 0.005*\"algebra\" + 0.005*\"function\" + 0.005*\"symmetry\" + 0.004*\"term\"')]\n",
      "Saved output LDA visualisation in lda_1996-01-01_1997-12-31.html\n",
      "========================\n",
      "Period 1998-01-01 to 1999-12-31\n",
      "Total papers to process 5561 in period\n"
     ]
    },
    {
     "data": {
      "image/png": "[encoded data removed]",
      "text/plain": [
       "<Figure size 1440x360 with 1 Axes>"
      ]
     },
     "metadata": {
      "needs_background": "light"
     },
     "output_type": "display_data"
    },
    {
     "name": "stdout",
     "output_type": "stream",
     "text": [
      "Most frequent words:                 word  count\n",
      "52           theory   5714\n",
      "3             field   4005\n",
      "43            gauge   3428\n",
      "288          string   2546\n",
      "11            model   2314\n",
      "160         quantum   1949\n",
      "423        solution   1661\n",
      "224            also   1462\n",
      "351          action   1379\n",
      "112            term   1317\n",
      "263           space   1310\n",
      "405            show   1303\n",
      "424             two   1291\n",
      "336            type   1233\n",
      "399        equation   1218\n",
      "42   supersymmetric   1198\n",
      "163             one   1184\n",
      "605           black   1184\n",
      "866        symmetry   1139\n",
      "704         theory.   1117\n",
      "Sample of tokenised text:  ['forced', 'topological', 'nontrivial', 'field', 'configurations', 'motion', 'one-dimensional', 'kink', 'energy', 'loss', 'considered', 'model', 'interaction', 'nontrivial', 'topological', 'field', 'configuration', 'external', 'fields.', 'approach', 'based', 'calculation', 'zero', 'mode', 'excitation', 'probability', 'external', 'field.', 'study', 'way', 'interaction', \"t'hooft-polyakov\", 'monopole', 'weak', 'external', 'fields.', 'basic', 'idea', 'treat', 'excitation', 'monopole', 'zero', 'mode', 'monopole', 'displacement.', 'excitation', 'found', 'perturbatively.', 'example', 'consider', 'interaction', \"t'hooft-polyakov\", 'monopole', 'external', 'uniform', 'magnetic', 'field.'] ['duality', 'chiral', 'n=1', 'supersymmetric', 'gauge', 'theories', 'via', 'branes', 'using', 'six-orientifold', 'top', 'ns-fivebrane', 'construct', 'chiral', 'n=1', 'supersymmetric', 'gauge', 'theory', 'four', 'dimension', 'gauge', 'group', 'su(n_c)', 'matter', 'symmetric,', 'antisymmetric', '(anti)fundamental', 'representations.', 'anomaly', 'cancellation', 'fulfilled', 'requirement', 'smooth', '7-form', 'charge', 'distribution', 'lead', 'introduction', 'half', 'd-sixbranes', 'ending', 'ns-fivebrane.', 'obtain', 'dual', 'model', 'branes', 'linking', 'number', 'argument.', 'check', 'explicitly', 'hooft', 'anomaly', 'matching', 'condition', 'map', 'deformation', 'original', 'dual', 'model.']\n",
      "LDA topics:  [(0, '0.012*\"field\" + 0.009*\"black\" + 0.008*\"theory\" + 0.007*\"solution\" + 0.007*\"model\" + 0.007*\"hole\" + 0.006*\"quantum\" + 0.006*\"energy\" + 0.005*\"mass\" + 0.005*\"effective\"'), (1, '0.023*\"theory\" + 0.015*\"string\" + 0.015*\"gauge\" + 0.009*\"supersymmetric\" + 0.008*\"type\" + 0.008*\"field\" + 0.007*\"supergravity\" + 0.006*\"action\" + 0.005*\"yang-mills\" + 0.005*\"also\"'), (2, '0.015*\"theory\" + 0.014*\"field\" + 0.012*\"gauge\" + 0.011*\"quantum\" + 0.008*\"model\" + 0.006*\"algebra\" + 0.005*\"equation\" + 0.005*\"space\" + 0.005*\"symmetry\" + 0.004*\"group\"')]\n",
      "Saved output LDA visualisation in lda_1998-01-01_1999-12-31.html\n",
      "========================\n",
      "Period 2000-01-01 to 2001-12-31\n",
      "Total papers to process 6279 in period\n"
     ]
    },
    {
     "data": {
      "image/png": "[encoded data removed]",
      "text/plain": [
       "<Figure size 1440x360 with 1 Axes>"
      ]
     },
     "metadata": {
      "needs_background": "light"
     },
     "output_type": "display_data"
    },
    {
     "name": "stdout",
     "output_type": "stream",
     "text": [
      "Most frequent words:                 word  count\n",
      "12           theory   5691\n",
      "177           field   4869\n",
      "352           gauge   3301\n",
      "23           string   3009\n",
      "199           model   2814\n",
      "73         solution   2138\n",
      "176         quantum   2128\n",
      "185            show   1800\n",
      "117            also   1798\n",
      "130           brane   1558\n",
      "564             two   1495\n",
      "409  noncommutative   1486\n",
      "11            space   1455\n",
      "397          action   1455\n",
      "426            term   1425\n",
      "479        equation   1424\n",
      "76              one   1339\n",
      "238        symmetry   1295\n",
      "104          result   1282\n",
      "101        boundary   1268\n",
      "Sample of tokenised text:  ['compactification,', 'geometry', 'duality:', 'n=2', 'note', 'based', 'lecture', 'given', 'tasi99.', 'review', 'geometry', 'modulus', 'space', 'n=2', 'theory', 'four', 'dimension', 'point', 'view', 'superstring', 'compactification.', 'case', 'type', 'iia', 'type', 'iib', 'string', 'compactified', 'calabi-yau', 'threefold', 'heterotic', 'string', 'compactified', 'k3xt2', 'considered', 'detail.', 'pay', 'specific', 'attention', 'difference', 'n=2', 'theory', 'n>2', 'theories.', 'modulus', 'space', 'vector', 'multiplets', 'modulus', 'space', 'hypermultiplets', 'reviewed.', 'case', 'hypermultiplets', 'review', 'limited', 'poor', 'state', 'current', 'understanding.', 'peculiarity', '``mixed', \"instantons''\", 'non-existence', 'universal', 'hypermultiplet', 'discussed.'] ['domain', 'walls', 'massive', 'gauged', 'supergravity', 'potentials', 'point', 'massive', 'gauged', 'supergravity', 'potentials,', 'example', 'arising', 'due', 'massive', 'breathing', 'mode', 'sphere', 'reduction', 'm-theory', 'string', 'theory,', 'allow', 'supersymmetric', '(static)', 'domain', 'wall', 'solution', 'hybrid', 'randall-sundrum', 'domain', 'wall', 'one', 'side,', 'dilatonic', 'domain', 'wall', 'run-away', 'dilaton', 'side.', 'anti-de', 'sitter', '(ads)', 'side,', 'wall', 'repulsive', 'gravity', 'asymptotic', 'region', 'corresponding', 'cauchy', 'horizon,', 'side', 'runaway', 'dilaton', 'approach', 'weak', 'coupling', 'regime', 'non-singular', 'attractive', 'gravity,', 'asymptotic', 'region', 'corresponding', 'boundary', 'spacetime.', 'contrast', 'result', 'situation', 'gauged', 'supergravity', 'potential', 'massless', 'scalar', 'modes,', 'whose', 'supersymmetric', 'ads', 'extremum', 'generically', 'maxima,', 'asymptotic', 'regime', 'transverse', 'wall', 'corresponds', 'boundary', 'ads', 'spacetime.', 'also', 'comment', 'possibility', 'massive', 'breathing', 'mode', 'may,', 'case', 'fundamental', 'domain-wall', 'sources,', 'stabilize', 'wall', 'via', 'goldberger-wise', 'mechanism.']\n",
      "LDA topics:  [(0, '0.011*\"brane\" + 0.010*\"black\" + 0.008*\"field\" + 0.007*\"solution\" + 0.007*\"gravity\" + 0.007*\"hole\" + 0.006*\"energy\" + 0.006*\"bulk\" + 0.006*\"cosmological\" + 0.006*\"scalar\"'), (1, '0.021*\"theory\" + 0.020*\"string\" + 0.010*\"field\" + 0.009*\"gauge\" + 0.007*\"solution\" + 0.006*\"type\" + 0.006*\"supersymmetric\" + 0.006*\"supergravity\" + 0.006*\"open\" + 0.006*\"noncommutative\"'), (2, '0.014*\"field\" + 0.013*\"theory\" + 0.011*\"gauge\" + 0.010*\"model\" + 0.009*\"quantum\" + 0.006*\"symmetry\" + 0.005*\"algebra\" + 0.005*\"function\" + 0.005*\"equation\" + 0.005*\"operator\"')]\n",
      "Saved output LDA visualisation in lda_2000-01-01_2001-12-31.html\n",
      "========================\n",
      "Period 2002-01-01 to 2004-12-31\n",
      "Total papers to process 4331 in period\n"
     ]
    },
    {
     "data": {
      "image/png": "[encoded data removed]",
      "text/plain": [
       "<Figure size 1440x360 with 1 Axes>"
      ]
     },
     "metadata": {
      "needs_background": "light"
     },
     "output_type": "display_data"
    },
    {
     "name": "stdout",
     "output_type": "stream",
     "text": [
      "Most frequent words:           word  count\n",
      "17     theory   3948\n",
      "83      field   3178\n",
      "163    string   2351\n",
      "103     gauge   2253\n",
      "149     model   2087\n",
      "285  solution   1596\n",
      "11    quantum   1585\n",
      "119      show   1281\n",
      "107      also   1260\n",
      "213       two   1115\n",
      "94      space   1068\n",
      "34   equation    992\n",
      "38        one    964\n",
      "171      term    947\n",
      "183     study    930\n",
      "109     brane    915\n",
      "121    energy    908\n",
      "236     state    869\n",
      "748  symmetry    869\n",
      "176    action    863\n",
      "Sample of tokenised text:  ['integrable', 'heisenberg-van', 'vleck', 'chain', 'variable', 'range', 'exchange', 'review', 'recent', 'result', 's=1/2', 'quantum', 'spin', 'chain', '$1/\\\\sinh^2(\\\\kappa', 'exchange', 'presented.', 'related', 'problem', 'theory', 'classical', 'quantum', 'calogero-sutherland-moser', 'system', 'inverse', 'square', 'hyperbolic', 'elliptic', 'potential', 'discussed.', 'attention', 'paid', 'finding', 'explicit', 'form', 'corresponding', 'bethe-ansatz', 'equation', 'connection', 'generalized', 'hubbard', 'chain', 'one', 'dimension.'] ['non-commutative', 'space-times,', 'black', 'hole,', 'elementary', 'particle', 'shown', 'elementary', 'black', 'hole', 'distinguished', 'elementary', 'particle', 'non-commutative', 'space-time', '(space/space', 'space/time)', 'planck', 'scale.', 'but,', 'non-commutative', 'space-time', \"``directly''\", 'measured', 'elementary', 'black', 'hole', 'system.', 'time-varying', 'non-commutative', 'parameter', '$\\\\theta(t)$', 'suggested', 'accordance', 'time-varying-g', 'scenario.', 'identifying', 'elementary', 'black', 'hole', 'elementary', 'particle,', 'large', 'hierarchy', 'weak', 'scale', 'planck', 'scale', 'naturally', 'understood.', 'large', 'black', 'hole,', 'discrete', 'spectrum', 'horizon', 'area', 'derived', 'identifying', 'black', 'hole', 'horizon', 'non-commutative', 'sphere.']\n",
      "LDA topics:  [(0, '0.015*\"string\" + 0.013*\"theory\" + 0.010*\"solution\" + 0.009*\"field\" + 0.007*\"brane\" + 0.006*\"gauge\" + 0.005*\"black\" + 0.005*\"background\" + 0.005*\"also\" + 0.005*\"show\"'), (1, '0.012*\"field\" + 0.012*\"quantum\" + 0.012*\"theory\" + 0.011*\"gauge\" + 0.007*\"noncommutative\" + 0.006*\"algebra\" + 0.005*\"equation\" + 0.005*\"space\" + 0.005*\"symmetry\" + 0.005*\"model\"'), (2, '0.014*\"theory\" + 0.012*\"model\" + 0.012*\"field\" + 0.007*\"function\" + 0.007*\"matrix\" + 0.007*\"gauge\" + 0.006*\"operator\" + 0.006*\"boundary\" + 0.006*\"quantum\" + 0.005*\"state\"')]\n",
      "Saved output LDA visualisation in lda_2002-01-01_2004-12-31.html\n",
      "========================\n"
     ]
    }
   ],
   "source": [
    "for period in periods:\n",
    "    start_date = period['start_date']\n",
    "    end_date = period['end_date']\n",
    "\n",
    "    print(f'Period {start_date} to {end_date}')\n",
    "    \n",
    "    papers_in_period = df[((start_date <= df['date']) & (df['date'] <= end_date))]\n",
    "\n",
    "    print(f'Total papers to process {papers_in_period.shape[0]} in period')\n",
    "\n",
    "    text_in_period = list(papers_in_period.text)\n",
    "    texts = preprocess_texts(text_in_period)\n",
    "    \n",
    "    print(\"Most frequent words: \", freq_words(texts, 20))\n",
    "\n",
    "    tokenized_text = [x.split() for x in texts]\n",
    "    print(\"Sample of tokenised text: \", tokenized_text[0], tokenized_text[1])\n",
    "\n",
    "    dictionary = corpora.Dictionary(tokenized_text)\n",
    "    doc_term_matrix = [dictionary.doc2bow(rev) for rev in tokenized_text]\n",
    "\n",
    "    # Creating the object for LDA model using gensim library\n",
    "    LDA = gensim.models.ldamodel.LdaModel\n",
    "\n",
    "    # Build LDA model\n",
    "    lda_model = LDA(corpus=doc_term_matrix, id2word=dictionary, num_topics=3, random_state=100,\n",
    "                    chunksize=1000, passes=10)\n",
    "\n",
    "    print('LDA topics: ', lda_model.print_topics())\n",
    "\n",
    "    # Prepare visualisation and output results\n",
    "    vis = pyLDAvis.gensim.prepare(lda_model, doc_term_matrix, dictionary)\n",
    "    \n",
    "    output_lda_visualisation_file = f'lda_{start_date}_{end_date}.html'\n",
    "    pyLDAvis.save_html(vis, output_lda_visualisation_file)\n",
    "    \n",
    "    print(f'Saved output LDA visualisation in {output_lda_visualisation_file}')\n",
    "\n",
    "    print('========================')"
   ]
  },
  {
   "cell_type": "code",
   "execution_count": 13,
   "metadata": {},
   "outputs": [],
   "source": []
  },
  {
   "cell_type": "code",
   "execution_count": null,
   "metadata": {},
   "outputs": [],
   "source": []
  }
 ],
 "metadata": {
  "kernelspec": {
   "display_name": "Python 3",
   "language": "python",
   "name": "python3"
  },
  "language_info": {
   "codemirror_mode": {
    "name": "ipython",
    "version": 3
   },
   "file_extension": ".py",
   "mimetype": "text/x-python",
   "name": "python",
   "nbconvert_exporter": "python",
   "pygments_lexer": "ipython3",
   "version": "3.6.7"
  }
 },
 "nbformat": 4,
 "nbformat_minor": 2
}
